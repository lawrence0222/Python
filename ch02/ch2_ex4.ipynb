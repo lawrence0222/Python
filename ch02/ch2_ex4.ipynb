{
 "cells": [
  {
   "cell_type": "code",
   "execution_count": 3,
   "metadata": {},
   "outputs": [
    {
     "name": "stdout",
     "output_type": "stream",
     "text": [
      "蘋果可以吃5天\n",
      "第5天會產生蘋果不夠供應，少了8顆\n"
     ]
    }
   ],
   "source": [
    "\"\"\"\n",
    "蘋果共有100顆，分給23個學生，每個人一天可以吃一顆，\n",
    "請問蘋果可以吃幾天，第幾天會產生蘋果不夠供應，同時列出少了幾顆\n",
    "\"\"\"\n",
    "apple = 100\n",
    "students = 23\n",
    "x = apple // students #有X天每個學生都有蘋果\n",
    "y = apple % students #最後一天不夠的蘋果\n",
    "\n",
    "print(\"蘋果可以吃{:d}天\".format(x+1))\n",
    "print(\"第{:d}天會產生蘋果不夠供應，少了{:d}顆\".format(x+1, y))"
   ]
  },
  {
   "cell_type": "code",
   "execution_count": null,
   "metadata": {},
   "outputs": [],
   "source": []
  }
 ],
 "metadata": {
  "kernelspec": {
   "display_name": "Python 3",
   "language": "python",
   "name": "python3"
  },
  "language_info": {
   "codemirror_mode": {
    "name": "ipython",
    "version": 3
   },
   "file_extension": ".py",
   "mimetype": "text/x-python",
   "name": "python",
   "nbconvert_exporter": "python",
   "pygments_lexer": "ipython3",
   "version": "3.6.8"
  }
 },
 "nbformat": 4,
 "nbformat_minor": 4
}
