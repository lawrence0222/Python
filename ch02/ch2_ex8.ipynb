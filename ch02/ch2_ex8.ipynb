{
 "cells": [
  {
   "cell_type": "code",
   "execution_count": 1,
   "metadata": {},
   "outputs": [
    {
     "name": "stdout",
     "output_type": "stream",
     "text": [
      "(a) 3.145238\n",
      "(b) 3.139683\n"
     ]
    }
   ],
   "source": [
    "\"\"\"\n",
    "尼拉卡莎級數\n",
    "請分別設計下列級數的執行結果：\n",
    "(a)：PI = 3 + 4 / (2*3*4) - 4 / (4*5*6) + 4 / (6*7*8)\n",
    "(b)：PI = 3 + 4 / (2*3*4) - 4 / (4*5*6) + 4 / (6*7*8) - 4 / (8*9*10)\n",
    "\n",
    "\"\"\"\n",
    "a = 3 + 4 / (2*3*4) - 4 / (4*5*6) + 4 / (6*7*8)\n",
    "b = 3 + 4 / (2*3*4) - 4 / (4*5*6) + 4 / (6*7*8) - 4 / (8*9*10)\n",
    "\n",
    "print(\"(a) {:f}\".format(a))\n",
    "print(\"(b) {:f}\".format(b))"
   ]
  },
  {
   "cell_type": "code",
   "execution_count": null,
   "metadata": {},
   "outputs": [],
   "source": []
  }
 ],
 "metadata": {
  "kernelspec": {
   "display_name": "Python 3",
   "language": "python",
   "name": "python3"
  },
  "language_info": {
   "codemirror_mode": {
    "name": "ipython",
    "version": 3
   },
   "file_extension": ".py",
   "mimetype": "text/x-python",
   "name": "python",
   "nbconvert_exporter": "python",
   "pygments_lexer": "ipython3",
   "version": "3.6.8"
  }
 },
 "nbformat": 4,
 "nbformat_minor": 4
}
