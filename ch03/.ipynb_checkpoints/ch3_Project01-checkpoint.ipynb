{
 "cells": [
  {
   "cell_type": "markdown",
   "metadata": {},
   "source": [
    "【計算地球到月球所需時間】\n",
    "馬赫(Mach number) = 1225 km/hour\n",
    "\n",
    "從地球到月球約是384400km假設火箭的速度是一馬赫，設計一個程式計算\n",
    "需要多少天、多少小時才可抵達月球。(忽略分鐘數)"
   ]
  },
  {
   "cell_type": "code",
   "execution_count": 6,
   "metadata": {},
   "outputs": [
    {
     "name": "stdout",
     "output_type": "stream",
     "text": [
      "總共需要天數13天\n",
      "需要時數1小時\n"
     ]
    }
   ],
   "source": [
    "dist = 384400\n",
    "speed = 1225\n",
    "total_hours = dist // speed\n",
    "days = total_hours // 24\n",
    "hours = total_hours % 24\n",
    "print(\"總共需要天數\" + str(days) + \"天\")\n",
    "print(\"需要時數\" + str(hours) + \"小時\")"
   ]
  },
  {
   "cell_type": "code",
   "execution_count": 7,
   "metadata": {},
   "outputs": [
    {
     "name": "stdout",
     "output_type": "stream",
     "text": [
      "總共需要天數13天\n",
      "需要時數1小時\n"
     ]
    }
   ],
   "source": [
    "\"\"\"\n",
    "利用divmod()函數重新設計\n",
    "商, 餘數 = divmod(被除數, 餘數)\n",
    "\"\"\"\n",
    "dist = 384400\n",
    "speed = 1225\n",
    "total_hours = dist // speed\n",
    "days, hours = divmod(total_hours, 24)\n",
    "print(\"總共需要天數\" + str(days) + \"天\")\n",
    "print(\"需要時數\" + str(hours) + \"小時\")"
   ]
  },
  {
   "cell_type": "code",
   "execution_count": null,
   "metadata": {},
   "outputs": [],
   "source": []
  }
 ],
 "metadata": {
  "kernelspec": {
   "display_name": "Python 3",
   "language": "python",
   "name": "python3"
  },
  "language_info": {
   "codemirror_mode": {
    "name": "ipython",
    "version": 3
   },
   "file_extension": ".py",
   "mimetype": "text/x-python",
   "name": "python",
   "nbconvert_exporter": "python",
   "pygments_lexer": "ipython3",
   "version": "3.6.8"
  }
 },
 "nbformat": 4,
 "nbformat_minor": 4
}
