{
 "cells": [
  {
   "cell_type": "markdown",
   "metadata": {},
   "source": [
    "請重新設計ch3_Project01，需計算制分鐘與秒鐘數"
   ]
  },
  {
   "cell_type": "code",
   "execution_count": 2,
   "metadata": {},
   "outputs": [],
   "source": [
    "dist = 384400\n",
    "speed = 1225\n",
    "total_hours = dist // speed\n",
    "days = total_hours // 24\n",
    "hours = total_hours % 24\n",
    "minutes = dist % speed // 60\n",
    "seconds = dist % speed % 60"
   ]
  },
  {
   "cell_type": "code",
   "execution_count": 3,
   "metadata": {},
   "outputs": [
    {
     "name": "stdout",
     "output_type": "stream",
     "text": [
      "共需要13天又1小時16分15秒\n"
     ]
    }
   ],
   "source": [
    "print(\"共需要\" + str(days) + \"天又\" + str(hours) + \"小時\" +str(minutes)+ \"分\" + str(seconds) + \"秒\")"
   ]
  },
  {
   "cell_type": "code",
   "execution_count": null,
   "metadata": {},
   "outputs": [],
   "source": []
  }
 ],
 "metadata": {
  "kernelspec": {
   "display_name": "Python 3",
   "language": "python",
   "name": "python3"
  },
  "language_info": {
   "codemirror_mode": {
    "name": "ipython",
    "version": 3
   },
   "file_extension": ".py",
   "mimetype": "text/x-python",
   "name": "python",
   "nbconvert_exporter": "python",
   "pygments_lexer": "ipython3",
   "version": "3.6.8"
  }
 },
 "nbformat": 4,
 "nbformat_minor": 4
}
