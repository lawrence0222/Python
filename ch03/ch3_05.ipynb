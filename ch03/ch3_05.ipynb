{
 "cells": [
  {
   "cell_type": "code",
   "execution_count": 6,
   "metadata": {},
   "outputs": [
    {
     "name": "stdout",
     "output_type": "stream",
     "text": [
      "13\n",
      "0b1101\n"
     ]
    }
   ],
   "source": [
    "\"\"\"\n",
    "2進位函數與函數bin()\n",
    "Python中定義凡是0b開頭的數字，代表這是2進位的整數。\n",
    "bin()函數可以將一般整數數字轉換成2進位\n",
    "實例：將10進位數值與2進位數值互轉的應用\n",
    "\"\"\"\n",
    "x = 0b1101\n",
    "print(x)\n",
    "y = 13\n",
    "print(bin(y)) "
   ]
  },
  {
   "cell_type": "code",
   "execution_count": null,
   "metadata": {},
   "outputs": [],
   "source": []
  }
 ],
 "metadata": {
  "kernelspec": {
   "display_name": "Python 3",
   "language": "python",
   "name": "python3"
  },
  "language_info": {
   "codemirror_mode": {
    "name": "ipython",
    "version": 3
   },
   "file_extension": ".py",
   "mimetype": "text/x-python",
   "name": "python",
   "nbconvert_exporter": "python",
   "pygments_lexer": "ipython3",
   "version": "3.6.8"
  }
 },
 "nbformat": 4,
 "nbformat_minor": 4
}
