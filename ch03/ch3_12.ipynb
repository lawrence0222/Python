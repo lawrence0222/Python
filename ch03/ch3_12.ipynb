{
 "cells": [
  {
   "cell_type": "code",
   "execution_count": 3,
   "metadata": {},
   "outputs": [
    {
     "name": "stdout",
     "output_type": "stream",
     "text": [
      "DeepStone means Deep Learning\n",
      "<class 'str'>\n",
      "深石數位-深度學習滴水穿石\n",
      "<class 'str'>\n"
     ]
    }
   ],
   "source": [
    "#使用單引號與雙引號設定與輸出字串資料的應用\n",
    "x = \"DeepStone means Deep Learning\"\n",
    "print(x)\n",
    "print(type(x))\n",
    "y = \"深石數位-深度學習滴水穿石\"\n",
    "print(y)\n",
    "print(type(y))"
   ]
  },
  {
   "cell_type": "code",
   "execution_count": null,
   "metadata": {},
   "outputs": [],
   "source": []
  }
 ],
 "metadata": {
  "kernelspec": {
   "display_name": "Python 3",
   "language": "python",
   "name": "python3"
  },
  "language_info": {
   "codemirror_mode": {
    "name": "ipython",
    "version": 3
   },
   "file_extension": ".py",
   "mimetype": "text/x-python",
   "name": "python",
   "nbconvert_exporter": "python",
   "pygments_lexer": "ipython3",
   "version": "3.6.8"
  }
 },
 "nbformat": 4,
 "nbformat_minor": 4
}
