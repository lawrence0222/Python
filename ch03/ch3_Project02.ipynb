{
 "cells": [
  {
   "cell_type": "markdown",
   "metadata": {},
   "source": [
    "【計算坐標軸與2個點之間的距離】\n",
    "有兩個點座標分別是(1, 8)與(3, 10)，請計算這兩點之間的距離"
   ]
  },
  {
   "cell_type": "code",
   "execution_count": 7,
   "metadata": {},
   "outputs": [
    {
     "name": "stdout",
     "output_type": "stream",
     "text": [
      "兩點的距離是\n",
      "2.8284271247461903\n"
     ]
    }
   ],
   "source": [
    "x1 = 1\n",
    "x2 = 8\n",
    "y1 = 3\n",
    "y2 = 10\n",
    "dist = (((3 - 1) ** 2) + ((10 - 8) ** 2)) ** 0.5\n",
    "print(\"兩點的距離是\")\n",
    "print(dist)"
   ]
  },
  {
   "cell_type": "code",
   "execution_count": null,
   "metadata": {},
   "outputs": [],
   "source": []
  }
 ],
 "metadata": {
  "kernelspec": {
   "display_name": "Python 3",
   "language": "python",
   "name": "python3"
  },
  "language_info": {
   "codemirror_mode": {
    "name": "ipython",
    "version": 3
   },
   "file_extension": ".py",
   "mimetype": "text/x-python",
   "name": "python",
   "nbconvert_exporter": "python",
   "pygments_lexer": "ipython3",
   "version": "3.6.8"
  }
 },
 "nbformat": 4,
 "nbformat_minor": 4
}
