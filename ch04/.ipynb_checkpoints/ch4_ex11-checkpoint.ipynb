{
 "cells": [
  {
   "cell_type": "code",
   "execution_count": 4,
   "metadata": {},
   "outputs": [
    {
     "name": "stdin",
     "output_type": "stream",
     "text": [
      "請輸入兩點座標 3,4 , 10, 2\n"
     ]
    },
    {
     "name": "stdout",
     "output_type": "stream",
     "text": [
      "兩點距離為      7.28\n"
     ]
    }
   ],
   "source": [
    "x1, x2, y1, y2 = eval(input(\"請輸入兩點座標\"))\n",
    "distance = ((y1 - x1) ** 2 + (y2 - x2) ** 2) ** 0.5\n",
    "print(\"兩點距離為%10.2f\" % distance)"
   ]
  },
  {
   "cell_type": "code",
   "execution_count": 5,
   "metadata": {},
   "outputs": [
    {
     "name": "stdin",
     "output_type": "stream",
     "text": [
      "請輸入兩點座標： 3,5,10,4\n"
     ]
    },
    {
     "name": "stdout",
     "output_type": "stream",
     "text": [
      "兩點距離為：      7.07\n"
     ]
    }
   ],
   "source": [
    "x1, x2, y1, y2 = eval(input(\"請輸入兩點座標：\"))\n",
    "distance = ((x1 - y1) ** 2 + (x2 - y2) ** 2) ** 0.5\n",
    "print(\"兩點距離為：%10.2f\" % distance)\n"
   ]
  },
  {
   "cell_type": "code",
   "execution_count": null,
   "metadata": {},
   "outputs": [],
   "source": []
  }
 ],
 "metadata": {
  "kernelspec": {
   "display_name": "Python 3",
   "language": "python",
   "name": "python3"
  },
  "language_info": {
   "codemirror_mode": {
    "name": "ipython",
    "version": 3
   },
   "file_extension": ".py",
   "mimetype": "text/x-python",
   "name": "python",
   "nbconvert_exporter": "python",
   "pygments_lexer": "ipython3",
   "version": "3.6.8"
  }
 },
 "nbformat": 4,
 "nbformat_minor": 4
}
