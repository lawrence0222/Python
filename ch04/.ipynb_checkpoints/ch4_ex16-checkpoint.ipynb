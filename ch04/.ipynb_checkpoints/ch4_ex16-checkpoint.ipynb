{
 "cells": [
  {
   "cell_type": "code",
   "execution_count": 1,
   "metadata": {},
   "outputs": [],
   "source": [
    "import math"
   ]
  },
  {
   "cell_type": "code",
   "execution_count": 2,
   "metadata": {},
   "outputs": [],
   "source": [
    "x1, y1 = 39.9196, 116.3669\n",
    "x2, y2 = 48.8595, 2.3369"
   ]
  },
  {
   "cell_type": "code",
   "execution_count": 4,
   "metadata": {},
   "outputs": [
    {
     "name": "stdout",
     "output_type": "stream",
     "text": [
      "北京故宮博物院的經緯度約是(39.9196,116.3669)\n",
      "法國巴黎羅浮宮的經緯度約是(48.8595,2.3369)\n"
     ]
    }
   ],
   "source": [
    "print(\"北京故宮博物院的經緯度約是({},{})\".format(x1, y1))\n",
    "print(\"法國巴黎羅浮宮的經緯度約是({},{})\".format(x2, y2))"
   ]
  },
  {
   "cell_type": "code",
   "execution_count": 5,
   "metadata": {},
   "outputs": [
    {
     "name": "stdout",
     "output_type": "stream",
     "text": [
      "甲乙兩地距離約為： 8214.085890982311\n"
     ]
    }
   ],
   "source": [
    "r = 6371 #地球半徑\n",
    "distance = r * math.acos(math.sin(math.radians(x1)) * math.sin(math.radians(x2)) + \n",
    "                         math.cos(math.radians(x1)) * math.cos(math.radians(x2)) * \n",
    "                         math.cos(math.radians(y1 - y2)))\n",
    "print(\"甲乙兩地距離約為：\", distance)"
   ]
  },
  {
   "cell_type": "code",
   "execution_count": null,
   "metadata": {},
   "outputs": [],
   "source": []
  }
 ],
 "metadata": {
  "kernelspec": {
   "display_name": "Python 3",
   "language": "python",
   "name": "python3"
  },
  "language_info": {
   "codemirror_mode": {
    "name": "ipython",
    "version": 3
   },
   "file_extension": ".py",
   "mimetype": "text/x-python",
   "name": "python",
   "nbconvert_exporter": "python",
   "pygments_lexer": "ipython3",
   "version": "3.6.8"
  }
 },
 "nbformat": 4,
 "nbformat_minor": 4
}
