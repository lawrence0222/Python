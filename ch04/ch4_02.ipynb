{
 "cells": [
  {
   "cell_type": "code",
   "execution_count": 1,
   "metadata": {},
   "outputs": [
    {
     "name": "stdout",
     "output_type": "stream",
     "text": [
      "這是數值相加 555\t這是強制轉換為字串相加 $$$$ 222333\n"
     ]
    }
   ],
   "source": [
    "num1 = 222\n",
    "num2 = 333\n",
    "num3 = num1 + num2\n",
    "print(\"這是數值相加\", num3, end = \"\\t\")\n",
    "str1 = str(num1) + str(num2)\n",
    "print(\"這是強制轉換為字串相加\", str1, sep = \" $$$$ \")"
   ]
  },
  {
   "cell_type": "code",
   "execution_count": null,
   "metadata": {},
   "outputs": [],
   "source": []
  }
 ],
 "metadata": {
  "kernelspec": {
   "display_name": "Python 3",
   "language": "python",
   "name": "python3"
  },
  "language_info": {
   "codemirror_mode": {
    "name": "ipython",
    "version": 3
   },
   "file_extension": ".py",
   "mimetype": "text/x-python",
   "name": "python",
   "nbconvert_exporter": "python",
   "pygments_lexer": "ipython3",
   "version": "3.6.8"
  }
 },
 "nbformat": 4,
 "nbformat_minor": 4
}
