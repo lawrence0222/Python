{
 "cells": [
  {
   "cell_type": "code",
   "execution_count": 1,
   "metadata": {},
   "outputs": [
    {
     "name": "stdout",
     "output_type": "stream",
     "text": [
      "整數10 \n",
      "浮點數10.000000 \n",
      "字串10\n",
      "整數9 \n",
      "浮點數9.900000 \n",
      "字串9.9\n"
     ]
    }
   ],
   "source": [
    "x = 10\n",
    "y = 9.9\n",
    "print(\"整數%d \\n浮點數%f \\n字串%s\" % (x, x, x))\n",
    "print(\"整數%d \\n浮點數%f \\n字串%s\" % (y, y, y))"
   ]
  },
  {
   "cell_type": "code",
   "execution_count": null,
   "metadata": {},
   "outputs": [],
   "source": []
  }
 ],
 "metadata": {
  "kernelspec": {
   "display_name": "Python 3",
   "language": "python",
   "name": "python3"
  },
  "language_info": {
   "codemirror_mode": {
    "name": "ipython",
    "version": 3
   },
   "file_extension": ".py",
   "mimetype": "text/x-python",
   "name": "python",
   "nbconvert_exporter": "python",
   "pygments_lexer": "ipython3",
   "version": "3.6.8"
  }
 },
 "nbformat": 4,
 "nbformat_minor": 4
}
