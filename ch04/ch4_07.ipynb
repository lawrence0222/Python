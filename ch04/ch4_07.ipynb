{
 "cells": [
  {
   "cell_type": "code",
   "execution_count": 7,
   "metadata": {},
   "outputs": [
    {
     "name": "stdout",
     "output_type": "stream",
     "text": [
      "x = /   100/\n",
      "y = / 10.50/\n",
      "s = /  Deep/\n",
      "以下是保留格數空間不足的實例\n",
      "x = /100/\n",
      "y = /10.50/\n",
      "s = /Deep/\n"
     ]
    }
   ],
   "source": [
    "x = 100\n",
    "y = 10.5\n",
    "s = \"Deep\"\n",
    "print(\"x = /%6d/\" % x)\n",
    "print(\"y = /%6.2f/\" % y)\n",
    "print(\"s = /%6s/\" % s)\n",
    "print(\"以下是保留格數空間不足的實例\")\n",
    "print(\"x = /%2d/\" % x)\n",
    "print(\"y = /%3.2f/\" % y)\n",
    "print(\"s = /%2s/\" % s)"
   ]
  },
  {
   "cell_type": "code",
   "execution_count": null,
   "metadata": {},
   "outputs": [],
   "source": []
  }
 ],
 "metadata": {
  "kernelspec": {
   "display_name": "Python 3",
   "language": "python",
   "name": "python3"
  },
  "language_info": {
   "codemirror_mode": {
    "name": "ipython",
    "version": 3
   },
   "file_extension": ".py",
   "mimetype": "text/x-python",
   "name": "python",
   "nbconvert_exporter": "python",
   "pygments_lexer": "ipython3",
   "version": "3.6.8"
  }
 },
 "nbformat": 4,
 "nbformat_minor": 4
}
