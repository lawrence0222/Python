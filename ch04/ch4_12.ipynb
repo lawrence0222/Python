{
 "cells": [
  {
   "cell_type": "markdown",
   "metadata": {},
   "source": [
    "以字串代表輸出格式區，重新設計ch4_11"
   ]
  },
  {
   "cell_type": "code",
   "execution_count": 1,
   "metadata": {},
   "outputs": [
    {
     "name": "stdout",
     "output_type": "stream",
     "text": [
      "蔡鎮陽你的第1次物理成績是\n",
      "90\n"
     ]
    }
   ],
   "source": [
    "score = 90\n",
    "name = \"蔡鎮陽\"\n",
    "count = 1\n",
    "string = \"{}你的第{}次物理成績是\\n{}\"\n",
    "print(string.format(name, count, score))"
   ]
  },
  {
   "cell_type": "markdown",
   "metadata": {},
   "source": [
    "在{}內增加編號"
   ]
  },
  {
   "cell_type": "code",
   "execution_count": 6,
   "metadata": {},
   "outputs": [
    {
     "name": "stdout",
     "output_type": "stream",
     "text": [
      "蔡鎮陽你的第1次物理成績是\n",
      "90\n",
      "蔡鎮陽你的第1次物理成績是\n",
      "90\n"
     ]
    }
   ],
   "source": [
    "score = 90\n",
    "name = \"蔡鎮陽\"\n",
    "count = 1\n",
    "print(\"{0}你的第{1}次物理成績是\\n{2}\".format(name, count, score))\n",
    "print(\"{2}你的第{1}次物理成績是\\n{0}\".format(score, count, name))"
   ]
  },
  {
   "cell_type": "markdown",
   "metadata": {},
   "source": [
    "也可以在format()內使用具名的參數"
   ]
  },
  {
   "cell_type": "code",
   "execution_count": 7,
   "metadata": {},
   "outputs": [
    {
     "name": "stdout",
     "output_type": "stream",
     "text": [
      "蔡鎮陽你的第1次物理成績是\n",
      "90\n"
     ]
    }
   ],
   "source": [
    "print(\"{n}你的第{c}次物理成績是\\n{s}\".format(s = 90, c = 1, n = \"蔡鎮陽\"))"
   ]
  },
  {
   "cell_type": "markdown",
   "metadata": {},
   "source": [
    "計算圓面積，同時格式化輸出"
   ]
  },
  {
   "cell_type": "code",
   "execution_count": 17,
   "metadata": {},
   "outputs": [
    {
     "name": "stdout",
     "output_type": "stream",
     "text": [
      "半徑  5圓面積是     78.54\n"
     ]
    }
   ],
   "source": [
    "r = 5\n",
    "PI = 3.14159\n",
    "area = PI * r ** 2\n",
    "print(\"半徑{0:3d}圓面積是{1:10.2f}\".format(r, area))"
   ]
  },
  {
   "cell_type": "markdown",
   "metadata": {},
   "source": [
    "輸出對齊方式的應用"
   ]
  },
  {
   "cell_type": "code",
   "execution_count": 19,
   "metadata": {},
   "outputs": [
    {
     "name": "stdout",
     "output_type": "stream",
     "text": [
      "半徑  5圓面積是     78.54\n",
      "半徑  5圓面積是     78.54\n",
      "半徑5  圓面積是78.54     \n",
      "半徑 5 圓面積是  78.54   \n"
     ]
    }
   ],
   "source": [
    "print(\"半徑{0:3d}圓面積是{1:10.2f}\".format(r, area))\n",
    "print(\"半徑{0:>3d}圓面積是{1:>10.2f}\".format(r, area))\n",
    "print(\"半徑{0:<3d}圓面積是{1:<10.2f}\".format(r, area))\n",
    "print(\"半徑{0:^3d}圓面積是{1:^10.2f}\".format(r, area))"
   ]
  },
  {
   "cell_type": "markdown",
   "metadata": {},
   "source": [
    "填充字元的應用"
   ]
  },
  {
   "cell_type": "code",
   "execution_count": 23,
   "metadata": {},
   "outputs": [
    {
     "name": "stdout",
     "output_type": "stream",
     "text": [
      "/*******南極旅遊講座*******/\n",
      "/$$$$$$$南極旅遊講座$$$$$$$/\n"
     ]
    }
   ],
   "source": [
    "title = \"南極旅遊講座\"\n",
    "print(\"/{0:*^20s}/\".format(title))\n",
    "print(\"/{0:$^20s}/\".format(title))"
   ]
  },
  {
   "cell_type": "markdown",
   "metadata": {},
   "source": [
    "以傳統和format()方式實作網路爬蟲會碰上的類似網站"
   ]
  },
  {
   "cell_type": "code",
   "execution_count": 28,
   "metadata": {},
   "outputs": [
    {
     "name": "stdout",
     "output_type": "stream",
     "text": [
      "https://maps.apis.com/json?city=taipei&radius=1000&type=school\n",
      "https://maps.apis.com/json?city=taipei&radius=1000&type=school\n"
     ]
    }
   ],
   "source": [
    "url = \"https://maps.apis.com/json?city=\"\n",
    "city = \"taipei\"\n",
    "r = 1000\n",
    "type = \"school\"\n",
    "print(url + city + \"&radius=\" + str(r) + \"&type=\" + type)\n",
    "print(url + \"{}&radius={}&type={}\".format(city, r, type))"
   ]
  },
  {
   "cell_type": "markdown",
   "metadata": {},
   "source": [
    "f-strings 格式化字串"
   ]
  },
  {
   "cell_type": "code",
   "execution_count": 29,
   "metadata": {},
   "outputs": [
    {
     "name": "stdout",
     "output_type": "stream",
     "text": [
      "我是蔡鎮陽\n"
     ]
    }
   ],
   "source": [
    "name = \"蔡鎮陽\"\n",
    "message = f\"我是{name}\"\n",
    "print(message)"
   ]
  },
  {
   "cell_type": "code",
   "execution_count": 31,
   "metadata": {},
   "outputs": [
    {
     "name": "stdout",
     "output_type": "stream",
     "text": [
      "https://maps.apis.com/json?city=taipei&radius=1000&type=school\n"
     ]
    }
   ],
   "source": [
    "my_url = url + f\"{city}&radius={r}&type={type}\"\n",
    "print(my_url)"
   ]
  },
  {
   "cell_type": "code",
   "execution_count": 32,
   "metadata": {},
   "outputs": [
    {
     "name": "stdout",
     "output_type": "stream",
     "text": [
      "我的成績是     95.50\n"
     ]
    }
   ],
   "source": [
    "score = 95.5\n",
    "message = f\"我的成績是{score:10.2f}\"\n",
    "print(message)"
   ]
  },
  {
   "cell_type": "code",
   "execution_count": null,
   "metadata": {},
   "outputs": [],
   "source": []
  }
 ],
 "metadata": {
  "kernelspec": {
   "display_name": "Python 3",
   "language": "python",
   "name": "python3"
  },
  "language_info": {
   "codemirror_mode": {
    "name": "ipython",
    "version": 3
   },
   "file_extension": ".py",
   "mimetype": "text/x-python",
   "name": "python",
   "nbconvert_exporter": "python",
   "pygments_lexer": "ipython3",
   "version": "3.6.8"
  }
 },
 "nbformat": 4,
 "nbformat_minor": 4
}
