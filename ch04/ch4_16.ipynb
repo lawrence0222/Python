{
 "cells": [
  {
   "cell_type": "code",
   "execution_count": 2,
   "metadata": {},
   "outputs": [
    {
     "name": "stdin",
     "output_type": "stream",
     "text": [
      "請輸入中文姓氏： 蔡\n",
      "請輸入中文名字： 鎮陽\n"
     ]
    },
    {
     "name": "stdout",
     "output_type": "stream",
     "text": [
      "蔡鎮陽 歡迎使用本系統\n"
     ]
    }
   ],
   "source": [
    "clastname = input(\"請輸入中文姓氏：\")\n",
    "cfirstname = input(\"請輸入中文名字：\")\n",
    "cfullname = clastname + cfirstname\n",
    "print(\"%s 歡迎使用本系統\" % cfullname)"
   ]
  },
  {
   "cell_type": "code",
   "execution_count": 3,
   "metadata": {},
   "outputs": [
    {
     "name": "stdin",
     "output_type": "stream",
     "text": [
      "Please input your lastname： Tsai\n",
      "Please input your firstname： Chen Yang\n"
     ]
    },
    {
     "name": "stdout",
     "output_type": "stream",
     "text": [
      "Chen Yang Tsai Welcome to SSE System\n"
     ]
    }
   ],
   "source": [
    "elastname = input(\"Please input your lastname：\")\n",
    "efirstname = input(\"Please input your firstname：\")\n",
    "efullname = efirstname + \" \" + elastname\n",
    "print(\"{} Welcome to SSE System\".format(efullname))"
   ]
  },
  {
   "cell_type": "code",
   "execution_count": null,
   "metadata": {},
   "outputs": [],
   "source": []
  }
 ],
 "metadata": {
  "kernelspec": {
   "display_name": "Python 3",
   "language": "python",
   "name": "python3"
  },
  "language_info": {
   "codemirror_mode": {
    "name": "ipython",
    "version": 3
   },
   "file_extension": ".py",
   "mimetype": "text/x-python",
   "name": "python",
   "nbconvert_exporter": "python",
   "pygments_lexer": "ipython3",
   "version": "3.6.8"
  }
 },
 "nbformat": 4,
 "nbformat_minor": 4
}
