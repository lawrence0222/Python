{
 "cells": [
  {
   "cell_type": "markdown",
   "metadata": {},
   "source": [
    "# 擴充ch4_10 最右邊增加平均分數欄位，這個欄位的格式化方式是%4.1f相當於取到小數第一位"
   ]
  },
  {
   "cell_type": "code",
   "execution_count": 3,
   "metadata": {},
   "outputs": [
    {
     "name": "stdout",
     "output_type": "stream",
     "text": [
      " 姓名    國文    英文    總分    平均分數\n",
      "蔡鎮陽   100     100     200      100.0\n",
      "蔡鎮洋   100      98     198      99.0\n",
      "蔡鎮烊   100      80     180      90.0\n"
     ]
    }
   ],
   "source": [
    "print(\" 姓名    國文    英文    總分    平均分數\")\n",
    "print(\"%3s  %4d    %4d    %4d      %4.1f\" % (\"蔡鎮陽\", 100, 100, 200, (100 + 100) / 2))\n",
    "print(\"%3s  %4d    %4d    %4d      %4.1f\" % (\"蔡鎮洋\", 100, 98, 198, (100 + 98) / 2))\n",
    "print(\"%3s  %4d    %4d    %4d      %4.1f\" % (\"蔡鎮烊\", 100, 80, 180, (100 + 80) / 2))"
   ]
  },
  {
   "cell_type": "code",
   "execution_count": null,
   "metadata": {},
   "outputs": [],
   "source": []
  }
 ],
 "metadata": {
  "kernelspec": {
   "display_name": "Python 3",
   "language": "python",
   "name": "python3"
  },
  "language_info": {
   "codemirror_mode": {
    "name": "ipython",
    "version": 3
   },
   "file_extension": ".py",
   "mimetype": "text/x-python",
   "name": "python",
   "nbconvert_exporter": "python",
   "pygments_lexer": "ipython3",
   "version": "3.6.8"
  }
 },
 "nbformat": 4,
 "nbformat_minor": 4
}
