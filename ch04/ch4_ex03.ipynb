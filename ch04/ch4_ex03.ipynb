{
 "cells": [
  {
   "cell_type": "markdown",
   "metadata": {},
   "source": [
    "# 重新設計前一個程式，讓輸出到out.txt，最後用記事本顯示執行結果。"
   ]
  },
  {
   "cell_type": "code",
   "execution_count": 3,
   "metadata": {},
   "outputs": [],
   "source": [
    "fstream = open(\"d:\\Mycode\\Python\\Book1\\ch4\\out.txt\", mode = \"w\")"
   ]
  },
  {
   "cell_type": "code",
   "execution_count": 4,
   "metadata": {},
   "outputs": [],
   "source": [
    "print(\" 姓名    國文    英文    總分    平均分數\", file = fstream)\n",
    "print(\"%3s  %4d    %4d    %4d      %4.1f\" % (\"蔡鎮陽\", 100, 100, 200, (100 + 100) / 2), file = fstream)\n",
    "print(\"%3s  %4d    %4d    %4d      %4.1f\" % (\"蔡鎮洋\", 100, 98, 198, (100 + 98) / 2), file = fstream)\n",
    "print(\"%3s  %4d    %4d    %4d      %4.1f\" % (\"蔡鎮烊\", 100, 80, 180, (100 + 80) / 2), file = fstream)"
   ]
  },
  {
   "cell_type": "code",
   "execution_count": 5,
   "metadata": {},
   "outputs": [],
   "source": [
    "fstream.close()"
   ]
  },
  {
   "cell_type": "code",
   "execution_count": null,
   "metadata": {},
   "outputs": [],
   "source": []
  }
 ],
 "metadata": {
  "kernelspec": {
   "display_name": "Python 3",
   "language": "python",
   "name": "python3"
  },
  "language_info": {
   "codemirror_mode": {
    "name": "ipython",
    "version": 3
   },
   "file_extension": ".py",
   "mimetype": "text/x-python",
   "name": "python",
   "nbconvert_exporter": "python",
   "pygments_lexer": "ipython3",
   "version": "3.6.8"
  }
 },
 "nbformat": 4,
 "nbformat_minor": 4
}
