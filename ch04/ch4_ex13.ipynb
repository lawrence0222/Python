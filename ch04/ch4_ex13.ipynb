{
 "cells": [
  {
   "cell_type": "code",
   "execution_count": 1,
   "metadata": {},
   "outputs": [],
   "source": [
    "import math"
   ]
  },
  {
   "cell_type": "code",
   "execution_count": 2,
   "metadata": {},
   "outputs": [
    {
     "name": "stdin",
     "output_type": "stream",
     "text": [
      "請輸入正多邊形的邊數： 10\n",
      "請輸入正多邊形的邊長： 6\n"
     ]
    }
   ],
   "source": [
    "n = eval(input(\"請輸入正多邊形的邊數：\"))\n",
    "s = eval(input(\"請輸入正多邊形的邊長：\"))"
   ]
  },
  {
   "cell_type": "code",
   "execution_count": 4,
   "metadata": {},
   "outputs": [
    {
     "name": "stdout",
     "output_type": "stream",
     "text": [
      "正10邊形，邊長為6.00的面積是276.991518\n"
     ]
    }
   ],
   "source": [
    "area = (n * s ** 2) / (4 * math.tan(math.pi / n))\n",
    "print(\"正%d邊形，邊長為%.2f的面積是%f\" % (n, s, area))"
   ]
  },
  {
   "cell_type": "code",
   "execution_count": null,
   "metadata": {},
   "outputs": [],
   "source": []
  }
 ],
 "metadata": {
  "kernelspec": {
   "display_name": "Python 3",
   "language": "python",
   "name": "python3"
  },
  "language_info": {
   "codemirror_mode": {
    "name": "ipython",
    "version": 3
   },
   "file_extension": ".py",
   "mimetype": "text/x-python",
   "name": "python",
   "nbconvert_exporter": "python",
   "pygments_lexer": "ipython3",
   "version": "3.6.8"
  }
 },
 "nbformat": 4,
 "nbformat_minor": 4
}
