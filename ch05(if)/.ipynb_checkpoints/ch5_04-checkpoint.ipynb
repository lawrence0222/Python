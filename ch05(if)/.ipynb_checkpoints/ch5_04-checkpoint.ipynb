{
 "cells": [
  {
   "cell_type": "markdown",
   "metadata": {},
   "source": [
    "# 奇數偶數判斷"
   ]
  },
  {
   "cell_type": "code",
   "execution_count": 4,
   "metadata": {},
   "outputs": [
    {
     "name": "stdin",
     "output_type": "stream",
     "text": [
      "請輸入認識整數： 51\n"
     ]
    }
   ],
   "source": [
    "num = eval(input(\"請輸入認識整數：\"))"
   ]
  },
  {
   "cell_type": "code",
   "execution_count": 5,
   "metadata": {},
   "outputs": [
    {
     "name": "stdout",
     "output_type": "stream",
     "text": [
      "51 是奇數\n"
     ]
    }
   ],
   "source": [
    "rem = num % 2\n",
    "if (rem == 0):\n",
    "    print(\"%d 是偶數\" % num)\n",
    "else:\n",
    "    print(\"%d 是奇數\" % num)"
   ]
  },
  {
   "cell_type": "markdown",
   "metadata": {},
   "source": [
    "# PEP 8用法"
   ]
  },
  {
   "cell_type": "code",
   "execution_count": 8,
   "metadata": {},
   "outputs": [
    {
     "name": "stdout",
     "output_type": "stream",
     "text": [
      "51 是奇數\n"
     ]
    }
   ],
   "source": [
    "if rem:\n",
    "    print(\"%d 是奇數\" % num)\n",
    "else:\n",
    "    print(\"%d 是偶數\" % num)"
   ]
  },
  {
   "cell_type": "markdown",
   "metadata": {},
   "source": [
    "# 進階作法"
   ]
  },
  {
   "cell_type": "code",
   "execution_count": 9,
   "metadata": {},
   "outputs": [
    {
     "name": "stdout",
     "output_type": "stream",
     "text": [
      "51 是奇數\n"
     ]
    }
   ],
   "source": [
    "print(\"%d 是奇數\" % num if rem else \"%d 是偶數\" % num)"
   ]
  },
  {
   "cell_type": "markdown",
   "metadata": {},
   "source": [
    "# 請輸入2個數字，這個程式會用Python精神語法，列出最大最小值"
   ]
  },
  {
   "cell_type": "code",
   "execution_count": 10,
   "metadata": {},
   "outputs": [
    {
     "name": "stdin",
     "output_type": "stream",
     "text": [
      "請輸入2個數字： 42,89\n"
     ]
    }
   ],
   "source": [
    "x, y = eval(input(\"請輸入2個數字：\"))"
   ]
  },
  {
   "cell_type": "code",
   "execution_count": 13,
   "metadata": {},
   "outputs": [
    {
     "name": "stdout",
     "output_type": "stream",
     "text": [
      "方法1最大值是：89\n",
      "方法1最小值是：42\n"
     ]
    }
   ],
   "source": [
    "max_ = x if x > y else y\n",
    "min_ = x if x < y else y\n",
    "print(\"方法1最大值是：%d\" % max_)\n",
    "print(\"方法1最小值是：%d\" % min_)"
   ]
  },
  {
   "cell_type": "code",
   "execution_count": 15,
   "metadata": {},
   "outputs": [
    {
     "name": "stdout",
     "output_type": "stream",
     "text": [
      "方法2最大值是：89\n",
      "方法2最小值是：42\n"
     ]
    }
   ],
   "source": [
    "max_ = max(x, y)\n",
    "min_ = min(x, y)\n",
    "print(\"方法2最大值是：%d\" % max_)\n",
    "print(\"方法2最小值是：%d\" % min_)"
   ]
  },
  {
   "cell_type": "markdown",
   "metadata": {},
   "source": [
    "# 隨意輸入數字，如果大於等於10，輸出10。如果小於10，輸出所輸入的數字。"
   ]
  },
  {
   "cell_type": "code",
   "execution_count": 18,
   "metadata": {},
   "outputs": [
    {
     "name": "stdin",
     "output_type": "stream",
     "text": [
      "請輸入一個數字： 10\n"
     ]
    },
    {
     "name": "stdout",
     "output_type": "stream",
     "text": [
      "10\n"
     ]
    }
   ],
   "source": [
    "num = eval(input(\"請輸入一個數字：\"))\n",
    "print(10 if num >= 10 else num)"
   ]
  }
 ],
 "metadata": {
  "kernelspec": {
   "display_name": "Python 3",
   "language": "python",
   "name": "python3"
  },
  "language_info": {
   "codemirror_mode": {
    "name": "ipython",
    "version": 3
   },
   "file_extension": ".py",
   "mimetype": "text/x-python",
   "name": "python",
   "nbconvert_exporter": "python",
   "pygments_lexer": "ipython3",
   "version": "3.6.8"
  }
 },
 "nbformat": 4,
 "nbformat_minor": 4
}
