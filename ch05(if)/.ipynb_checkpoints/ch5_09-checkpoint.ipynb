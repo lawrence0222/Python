{
 "cells": [
  {
   "cell_type": "markdown",
   "metadata": {},
   "source": [
    "# BMI"
   ]
  },
  {
   "cell_type": "code",
   "execution_count": 7,
   "metadata": {},
   "outputs": [
    {
     "name": "stdin",
     "output_type": "stream",
     "text": [
      "請輸入身高(公分)： 172\n",
      "請輸入體重(公斤)： 71\n"
     ]
    }
   ],
   "source": [
    "height = eval(input(\"請輸入身高(公分)：\"))\n",
    "weight = eval(input(\"請輸入體重(公斤)：\"))\n",
    "bmi = weight / (height / 100) ** 2"
   ]
  },
  {
   "cell_type": "code",
   "execution_count": 8,
   "metadata": {},
   "outputs": [
    {
     "name": "stdout",
     "output_type": "stream",
     "text": [
      "正常\n"
     ]
    }
   ],
   "source": [
    "if bmi < 18.5:\n",
    "    print(\"體重過輕\")\n",
    "elif bmi >= 18.5 and bmi < 24:\n",
    "    print(\"正常\")\n",
    "elif bmi >= 24 and bmi < 28:\n",
    "    print(\"超重\")\n",
    "else:\n",
    "    print(\"肥胖\")"
   ]
  }
 ],
 "metadata": {
  "kernelspec": {
   "display_name": "Python 3",
   "language": "python",
   "name": "python3"
  },
  "language_info": {
   "codemirror_mode": {
    "name": "ipython",
    "version": 3
   },
   "file_extension": ".py",
   "mimetype": "text/x-python",
   "name": "python",
   "nbconvert_exporter": "python",
   "pygments_lexer": "ipython3",
   "version": "3.6.8"
  }
 },
 "nbformat": 4,
 "nbformat_minor": 4
}
