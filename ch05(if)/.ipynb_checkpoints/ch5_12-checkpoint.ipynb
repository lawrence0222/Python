{
 "cells": [
  {
   "cell_type": "markdown",
   "metadata": {},
   "source": [
    "# 12生肖"
   ]
  },
  {
   "cell_type": "code",
   "execution_count": 11,
   "metadata": {},
   "outputs": [
    {
     "name": "stdin",
     "output_type": "stream",
     "text": [
      "請輸入你的西元出生年份： 2005\n"
     ]
    },
    {
     "name": "stdout",
     "output_type": "stream",
     "text": [
      "你的生肖是：雞\n"
     ]
    }
   ],
   "source": [
    "year = eval(input(\"請輸入你的西元出生年份：\"))\n",
    "year = (year - 1912) % 12\n",
    "if year == 0 :\n",
    "    print(\"你的生肖是：鼠\")\n",
    "elif year == 1 :\n",
    "    print(\"你的生肖是：牛\")\n",
    "elif year == 2 :\n",
    "    print(\"你的生肖是：虎\")\n",
    "elif year == 3 :\n",
    "    print(\"你的生肖是：兔\")\n",
    "elif year == 4 :\n",
    "    print(\"你的生肖是：龍\")\n",
    "elif year == 5 :\n",
    "    print(\"你的生肖是：蛇\")\n",
    "elif year == 6 :\n",
    "    print(\"你的生肖是：馬\")\n",
    "elif year == 7 :\n",
    "    print(\"你的生肖是：羊\")\n",
    "elif year == 8 :\n",
    "    print(\"你的生肖是：猴\")\n",
    "elif year == 9 :\n",
    "    print(\"你的生肖是：雞\")\n",
    "elif year == 10 :\n",
    "    print(\"你的生肖是：狗\")\n",
    "else:\n",
    "    print(\"你的生肖是：豬\")"
   ]
  }
 ],
 "metadata": {
  "kernelspec": {
   "display_name": "Python 3",
   "language": "python",
   "name": "python3"
  },
  "language_info": {
   "codemirror_mode": {
    "name": "ipython",
    "version": 3
   },
   "file_extension": ".py",
   "mimetype": "text/x-python",
   "name": "python",
   "nbconvert_exporter": "python",
   "pygments_lexer": "ipython3",
   "version": "3.6.8"
  }
 },
 "nbformat": 4,
 "nbformat_minor": 4
}
