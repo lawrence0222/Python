{
 "cells": [
  {
   "cell_type": "markdown",
   "metadata": {},
   "source": [
    "# 圓半徑20，圓心在(0,0)，輸入任意點座標，判斷此點是否在圓內"
   ]
  },
  {
   "cell_type": "code",
   "execution_count": 5,
   "metadata": {},
   "outputs": [
    {
     "name": "stdin",
     "output_type": "stream",
     "text": [
      "輸入任意點座標： 18, 20\n"
     ]
    },
    {
     "name": "stdout",
     "output_type": "stream",
     "text": [
      "此座標在圓外\n"
     ]
    }
   ],
   "source": [
    "x, y = eval(input(\"輸入任意點座標：\"))\n",
    "\n",
    "dist = (x ** 2 + y ** 2) ** 0.5\n",
    "\n",
    "if dist <= 20:\n",
    "    print(\"此座標在圓內\")\n",
    "else:\n",
    "    print(\"此座標在圓外\")"
   ]
  }
 ],
 "metadata": {
  "kernelspec": {
   "display_name": "Python 3",
   "language": "python",
   "name": "python3"
  },
  "language_info": {
   "codemirror_mode": {
    "name": "ipython",
    "version": 3
   },
   "file_extension": ".py",
   "mimetype": "text/x-python",
   "name": "python",
   "nbconvert_exporter": "python",
   "pygments_lexer": "ipython3",
   "version": "3.6.8"
  }
 },
 "nbformat": 4,
 "nbformat_minor": 4
}
