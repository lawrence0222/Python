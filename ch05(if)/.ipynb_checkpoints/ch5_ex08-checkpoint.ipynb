{
 "cells": [
  {
   "cell_type": "code",
   "execution_count": 7,
   "metadata": {},
   "outputs": [
    {
     "name": "stdin",
     "output_type": "stream",
     "text": [
      "請輸入三個邊長： 1,1,2\n"
     ]
    },
    {
     "name": "stdout",
     "output_type": "stream",
     "text": [
      "無法形成三角形\n"
     ]
    }
   ],
   "source": [
    "a, b, c = eval(input(\"請輸入三個邊長：\"))\n",
    "\n",
    "if a + b > c and a + c > b and b + c > a:\n",
    "    print(\"此三角形的周長是\", a+b+c)\n",
    "else:\n",
    "    print(\"無法形成三角形\")"
   ]
  }
 ],
 "metadata": {
  "kernelspec": {
   "display_name": "Python 3",
   "language": "python",
   "name": "python3"
  },
  "language_info": {
   "codemirror_mode": {
    "name": "ipython",
    "version": 3
   },
   "file_extension": ".py",
   "mimetype": "text/x-python",
   "name": "python",
   "nbconvert_exporter": "python",
   "pygments_lexer": "ipython3",
   "version": "3.6.8"
  }
 },
 "nbformat": 4,
 "nbformat_minor": 4
}
