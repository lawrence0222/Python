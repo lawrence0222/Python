{
 "cells": [
  {
   "cell_type": "markdown",
   "metadata": {},
   "source": [
    "# 猜數字"
   ]
  },
  {
   "cell_type": "code",
   "execution_count": 2,
   "metadata": {},
   "outputs": [
    {
     "name": "stdout",
     "output_type": "stream",
     "text": [
      "請在心中想一個0 - 7之間的數字，然後回答下列問題\n"
     ]
    },
    {
     "name": "stdin",
     "output_type": "stream",
     "text": [
      "有沒有看到心中的數字：\n",
      "1, 3, 5, 7 \n",
      "輸入「有」代表有，其他則無 無\n",
      "有沒有看到心中的數字：\n",
      "2, 3, 6, 7 \n",
      "輸入「有」代表有，其他則無 無\n",
      "有沒有看到心中的數字：\n",
      "4, 5, 6, 7 \n",
      "輸入「有」代表有，其他則無 有\n"
     ]
    },
    {
     "name": "stdout",
     "output_type": "stream",
     "text": [
      "你心中的數字是：4\n"
     ]
    }
   ],
   "source": [
    "print(\"請在心中想一個0 - 7之間的數字，然後回答下列問題\")\n",
    "q1 = \"有沒有看到心中的數字：\\n\" + \\\n",
    "     \"1, 3, 5, 7 \\n\"\n",
    "q2 = \"有沒有看到心中的數字：\\n\" + \\\n",
    "     \"2, 3, 6, 7 \\n\"\n",
    "q3 = \"有沒有看到心中的數字：\\n\" + \\\n",
    "     \"4, 5, 6, 7 \\n\"\n",
    "truefalse = \"輸入「有」代表有，其他則無\"\n",
    "\n",
    "ans = 0\n",
    "reply = input(q1 + truefalse)\n",
    "if (reply == \"有\"):\n",
    "    ans += 1\n",
    "\n",
    "reply = input(q2 + truefalse)\n",
    "if (reply == \"有\"):\n",
    "    ans += 2\n",
    "    \n",
    "reply = input(q3 + truefalse)\n",
    "if (reply == \"有\"):\n",
    "    ans += 4\n",
    "\n",
    "print(\"你心中的數字是：%d\" % ans)"
   ]
  }
 ],
 "metadata": {
  "kernelspec": {
   "display_name": "Python 3",
   "language": "python",
   "name": "python3"
  },
  "language_info": {
   "codemirror_mode": {
    "name": "ipython",
    "version": 3
   },
   "file_extension": ".py",
   "mimetype": "text/x-python",
   "name": "python",
   "nbconvert_exporter": "python",
   "pygments_lexer": "ipython3",
   "version": "3.6.8"
  }
 },
 "nbformat": 4,
 "nbformat_minor": 4
}
