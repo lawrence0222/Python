{
 "cells": [
  {
   "cell_type": "markdown",
   "metadata": {},
   "source": [
    "# 猜生日日期\n"
   ]
  },
  {
   "cell_type": "code",
   "execution_count": 2,
   "metadata": {},
   "outputs": [
    {
     "name": "stdout",
     "output_type": "stream",
     "text": [
      "請回答下列五個問題，此程式將會猜出你的生日日期\n"
     ]
    },
    {
     "name": "stdin",
     "output_type": "stream",
     "text": [
      "有沒有看到自己的生日日期 \n",
      "1, 3, 5, 7, 9, 11, 13, 15, 17, 19, 21, 23, 25, 27, 29, 31 \n",
      "輸入「有」代表有，其他則無 沒\n",
      "有沒有看到自己的生日日期 \n",
      "2, 3, 6, 7, 10, 11, 14, 15, 18, 19, 22, 23, 26, 27, 30, 31 \n",
      "輸入「有」代表有，其他則無 沒\n",
      "有沒有看到自己的生日日期 \n",
      "4, 5, 6, 7, 12, 13, 14, 15, 20, 21, 22, 23, 28, 29, 30, 31 \n",
      "輸入「有」代表有，其他則無 有\n",
      "有沒有看到自己的生日日期 \n",
      "8, 9, 10, 11, 12, 13, 14, 15, 24, 25, 26, 27, 28, 29, 30, 31 \n",
      "輸入「有」代表有，其他則無 有\n",
      "有沒有看到自己的生日日期 \n",
      "16, 17, 18, 19, 20, 21, 22, 23, 24, 25, 26, 27, 28, 29, 30, 31 \n",
      "輸入「有」代表有，其他則無 有\n"
     ]
    },
    {
     "name": "stdout",
     "output_type": "stream",
     "text": [
      "你的生日日期是 28\n"
     ]
    }
   ],
   "source": [
    "print(\"請回答下列五個問題，此程式將會猜出你的生日日期\")\n",
    "q1 = \"有沒有看到自己的生日日期 \\n\" + \\\n",
    "     \"1, 3, 5, 7, 9, 11, 13, 15, 17, 19, 21, 23, 25, 27, 29, 31 \\n\"\n",
    "q2 = \"有沒有看到自己的生日日期 \\n\" + \\\n",
    "     \"2, 3, 6, 7, 10, 11, 14, 15, 18, 19, 22, 23, 26, 27, 30, 31 \\n\"\n",
    "q3 = \"有沒有看到自己的生日日期 \\n\" + \\\n",
    "     \"4, 5, 6, 7, 12, 13, 14, 15, 20, 21, 22, 23, 28, 29, 30, 31 \\n\"\n",
    "q4 = \"有沒有看到自己的生日日期 \\n\" + \\\n",
    "     \"8, 9, 10, 11, 12, 13, 14, 15, 24, 25, 26, 27, 28, 29, 30, 31 \\n\"\n",
    "q5 = \"有沒有看到自己的生日日期 \\n\" + \\\n",
    "     \"16, 17, 18, 19, 20, 21, 22, 23, 24, 25, 26, 27, 28, 29, 30, 31 \\n\"\n",
    "truefalse = \"輸入「有」代表有，其他則無\"\n",
    "\n",
    "ans = 0\n",
    "reply = input(q1 + truefalse)\n",
    "if reply == \"有\":\n",
    "    ans += 1\n",
    "    \n",
    "reply = input(q2 + truefalse)\n",
    "if reply == \"有\":\n",
    "    ans += 2\n",
    "\n",
    "reply = input(q3 + truefalse)\n",
    "if reply == \"有\":\n",
    "    ans += 4\n",
    "\n",
    "reply = input(q4 + truefalse)\n",
    "if reply == \"有\":\n",
    "    ans += 8\n",
    "\n",
    "reply = input(q5 + truefalse)\n",
    "if reply == \"有\":\n",
    "    ans += 16\n",
    "    \n",
    "print(\"你的生日日期是 %d\" % ans)"
   ]
  }
 ],
 "metadata": {
  "kernelspec": {
   "display_name": "Python 3",
   "language": "python",
   "name": "python3"
  },
  "language_info": {
   "codemirror_mode": {
    "name": "ipython",
    "version": 3
   },
   "file_extension": ".py",
   "mimetype": "text/x-python",
   "name": "python",
   "nbconvert_exporter": "python",
   "pygments_lexer": "ipython3",
   "version": "3.6.8"
  }
 },
 "nbformat": 4,
 "nbformat_minor": 4
}
