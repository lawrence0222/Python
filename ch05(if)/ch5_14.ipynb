{
 "cells": [
  {
   "cell_type": "markdown",
   "metadata": {},
   "source": [
    "# 聯立方程式\n",
    "\n",
    "* $2x + 3y = 13$\n",
    "\n",
    "* $x - 2y = -4$\n"
   ]
  },
  {
   "cell_type": "code",
   "execution_count": 1,
   "metadata": {},
   "outputs": [
    {
     "name": "stdout",
     "output_type": "stream",
     "text": [
      " x = 2.0000 \n",
      " y = 3.0000\n"
     ]
    }
   ],
   "source": [
    "a = 2\n",
    "b = 3\n",
    "c = 1\n",
    "d = -2\n",
    "e = 13\n",
    "f = -4\n",
    "\n",
    "x = (e * d - b * f) / (a * d - b * c)\n",
    "y = (a * f - e * c) / (a * d - b * c)\n",
    "\n",
    "print(\" x = %6.4f \\n y = %6.4f\" % (x, y))"
   ]
  }
 ],
 "metadata": {
  "kernelspec": {
   "display_name": "Python 3",
   "language": "python",
   "name": "python3"
  },
  "language_info": {
   "codemirror_mode": {
    "name": "ipython",
    "version": 3
   },
   "file_extension": ".py",
   "mimetype": "text/x-python",
   "name": "python",
   "nbconvert_exporter": "python",
   "pygments_lexer": "ipython3",
   "version": "3.6.8"
  }
 },
 "nbformat": 4,
 "nbformat_minor": 4
}
