{
 "cells": [
  {
   "cell_type": "code",
   "execution_count": 2,
   "metadata": {},
   "outputs": [
    {
     "name": "stdin",
     "output_type": "stream",
     "text": [
      "輸入本週工作時數： 40.5\n"
     ]
    },
    {
     "name": "stdout",
     "output_type": "stream",
     "text": [
      "週薪： 7290\n"
     ]
    }
   ],
   "source": [
    "hour = eval(input(\"輸入本週工作時數：\"))\n",
    "\n",
    "salary = 150\n",
    "total = 0\n",
    "\n",
    "if hour < 40:\n",
    "    total = salary * 0.8 * hour\n",
    "elif hour == 40:\n",
    "    total = salary * hour\n",
    "elif hour > 40 and hour <= 50:\n",
    "    total = salary * 1.2 * hour\n",
    "else:\n",
    "    total = salary * 1.6 * hour\n",
    "    \n",
    "print(\"週薪：%5.f\" % total)"
   ]
  }
 ],
 "metadata": {
  "kernelspec": {
   "display_name": "Python 3",
   "language": "python",
   "name": "python3"
  },
  "language_info": {
   "codemirror_mode": {
    "name": "ipython",
    "version": 3
   },
   "file_extension": ".py",
   "mimetype": "text/x-python",
   "name": "python",
   "nbconvert_exporter": "python",
   "pygments_lexer": "ipython3",
   "version": "3.6.8"
  }
 },
 "nbformat": 4,
 "nbformat_minor": 4
}
