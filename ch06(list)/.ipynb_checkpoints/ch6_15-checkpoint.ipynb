{
 "cells": [
  {
   "cell_type": "markdown",
   "metadata": {},
   "source": [
    "# 將串列乘以數字的應用"
   ]
  },
  {
   "cell_type": "code",
   "execution_count": 9,
   "metadata": {},
   "outputs": [
    {
     "name": "stdout",
     "output_type": "stream",
     "text": [
      "['Audi', 'Benz', 'BMW', 'Toyota', 'Audi', 'Benz', 'BMW', 'Toyota', 'Audi', 'Benz', 'BMW', 'Toyota'] \n",
      " [1, 3, 5, 1, 3, 5, 1, 3, 5, 1, 3, 5, 1, 3, 5]\n"
     ]
    }
   ],
   "source": [
    "cars = ['Audi', 'Benz', 'BMW', 'Toyota']\n",
    "nums = [1, 3, 5]\n",
    "carslist = cars * 3\n",
    "numslist = nums * 5\n",
    "print(carslist, \"\\n\", numslist)"
   ]
  }
 ],
 "metadata": {
  "kernelspec": {
   "display_name": "Python 3",
   "language": "python",
   "name": "python3"
  },
  "language_info": {
   "codemirror_mode": {
    "name": "ipython",
    "version": 3
   },
   "file_extension": ".py",
   "mimetype": "text/x-python",
   "name": "python",
   "nbconvert_exporter": "python",
   "pygments_lexer": "ipython3",
   "version": "3.6.8"
  }
 },
 "nbformat": 4,
 "nbformat_minor": 4
}
