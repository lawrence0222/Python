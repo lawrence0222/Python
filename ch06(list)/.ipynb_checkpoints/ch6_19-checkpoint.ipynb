{
 "cells": [
  {
   "cell_type": "code",
   "execution_count": 2,
   "metadata": {},
   "outputs": [
    {
     "name": "stdout",
     "output_type": "stream",
     "text": [
      "cars串列長度為3\n",
      "刪除cars串列元素成功\n",
      "cars串列長度為2\n",
      "nums串列長度為0\n",
      "nums串列內沒有元素資料\n"
     ]
    }
   ],
   "source": [
    "cars = ['Toyota', 'Nissan', 'Honda']\n",
    "print(\"cars串列長度為%d\" % len(cars))\n",
    "\n",
    "if len(cars) != 0:\n",
    "    del cars[0]\n",
    "    print(\"刪除cars串列元素成功\")\n",
    "    print(\"cars串列長度為%d\" % len(cars))\n",
    "else:\n",
    "    print(\"cars串列內沒有元素資料\")\n",
    "nums = []\n",
    "print(\"nums串列長度為%d\" % len(nums))\n",
    "if len(nums) != 0:\n",
    "    del nums[0]\n",
    "    print(\"刪除nums串列元素成功\")\n",
    "    print(\"nums串列長度為%d\" % len(nums))\n",
    "else:\n",
    "    print(\"nums串列內沒有元素資料\")"
   ]
  },
  {
   "cell_type": "code",
   "execution_count": null,
   "metadata": {},
   "outputs": [],
   "source": []
  }
 ],
 "metadata": {
  "kernelspec": {
   "display_name": "Python 3",
   "language": "python",
   "name": "python3"
  },
  "language_info": {
   "codemirror_mode": {
    "name": "ipython",
    "version": 3
   },
   "file_extension": ".py",
   "mimetype": "text/x-python",
   "name": "python",
   "nbconvert_exporter": "python",
   "pygments_lexer": "ipython3",
   "version": "3.6.8"
  }
 },
 "nbformat": 4,
 "nbformat_minor": 4
}
