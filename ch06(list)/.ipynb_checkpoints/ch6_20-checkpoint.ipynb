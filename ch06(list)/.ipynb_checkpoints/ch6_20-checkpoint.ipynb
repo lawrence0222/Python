{
 "cells": [
  {
   "cell_type": "markdown",
   "metadata": {},
   "source": [
    "# 將upper()和title()應用在字串"
   ]
  },
  {
   "cell_type": "code",
   "execution_count": 2,
   "metadata": {},
   "outputs": [
    {
     "name": "stdout",
     "output_type": "stream",
     "text": [
      "我開的第一部車是BMW\n",
      "我現在開的車是Audi\n"
     ]
    }
   ],
   "source": [
    "cars = ['bmw', 'benz', 'audi']\n",
    "carF = \"我開的第一部車是\" + cars[0].upper()\n",
    "carN = \"我現在開的車是\" + cars[-1].title()\n",
    "print(carF)\n",
    "print(carN)"
   ]
  }
 ],
 "metadata": {
  "kernelspec": {
   "display_name": "Python 3",
   "language": "python",
   "name": "python3"
  },
  "language_info": {
   "codemirror_mode": {
    "name": "ipython",
    "version": 3
   },
   "file_extension": ".py",
   "mimetype": "text/x-python",
   "name": "python",
   "nbconvert_exporter": "python",
   "pygments_lexer": "ipython3",
   "version": "3.6.8"
  }
 },
 "nbformat": 4,
 "nbformat_minor": 4
}
