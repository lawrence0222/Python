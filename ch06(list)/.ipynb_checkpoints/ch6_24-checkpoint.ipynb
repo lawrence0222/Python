{
 "cells": [
  {
   "cell_type": "markdown",
   "metadata": {},
   "source": [
    "# append()"
   ]
  },
  {
   "cell_type": "code",
   "execution_count": 1,
   "metadata": {},
   "outputs": [
    {
     "name": "stdout",
     "output_type": "stream",
     "text": [
      "目前陣列內容： []\n",
      "目前陣列內容： ['BMW']\n",
      "目前陣列內容： ['BMW', 'benz']\n",
      "目前陣列內容： ['BMW', 'benz', 'audi']\n"
     ]
    }
   ],
   "source": [
    "cars = []\n",
    "print(\"目前陣列內容：\", cars)\n",
    "cars.append('BMW')\n",
    "print(\"目前陣列內容：\", cars)\n",
    "cars.append('benz')\n",
    "print(\"目前陣列內容：\", cars)\n",
    "cars.append('audi')\n",
    "print(\"目前陣列內容：\", cars)"
   ]
  }
 ],
 "metadata": {
  "kernelspec": {
   "display_name": "Python 3",
   "language": "python",
   "name": "python3"
  },
  "language_info": {
   "codemirror_mode": {
    "name": "ipython",
    "version": 3
   },
   "file_extension": ".py",
   "mimetype": "text/x-python",
   "name": "python",
   "nbconvert_exporter": "python",
   "pygments_lexer": "ipython3",
   "version": "3.6.8"
  }
 },
 "nbformat": 4,
 "nbformat_minor": 4
}
