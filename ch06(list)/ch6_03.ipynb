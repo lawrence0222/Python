{
 "cells": [
  {
   "cell_type": "markdown",
   "metadata": {},
   "source": [
    "# 傳統處理串列元素內容方式與Python多重指定觀念的應用"
   ]
  },
  {
   "cell_type": "code",
   "execution_count": 3,
   "metadata": {},
   "outputs": [
    {
     "name": "stdout",
     "output_type": "stream",
     "text": [
      "各場次得分： 23 19 22 31 18\n",
      "各場次得分： 23 19 22 31 18\n"
     ]
    }
   ],
   "source": [
    "james = [23, 19, 22, 31, 18]\n",
    "\n",
    "#傳統設計方式\n",
    "game1 = james[0]\n",
    "game2 = james[1]\n",
    "game3 = james[2]\n",
    "game4 = james[3]\n",
    "game5 = james[4]\n",
    "print(\"各場次得分：\", game1, game2, game3, game4, game5)\n",
    "\n",
    "#Python設計方式\n",
    "\n",
    "game1, game2, game3, game4, game5 = james\n",
    "print(\"各場次得分：\", game1, game2, game3, game4, game5)"
   ]
  },
  {
   "cell_type": "code",
   "execution_count": null,
   "metadata": {},
   "outputs": [],
   "source": []
  }
 ],
 "metadata": {
  "kernelspec": {
   "display_name": "Python 3",
   "language": "python",
   "name": "python3"
  },
  "language_info": {
   "codemirror_mode": {
    "name": "ipython",
    "version": 3
   },
   "file_extension": ".py",
   "mimetype": "text/x-python",
   "name": "python",
   "nbconvert_exporter": "python",
   "pygments_lexer": "ipython3",
   "version": "3.6.8"
  }
 },
 "nbformat": 4,
 "nbformat_minor": 4
}
