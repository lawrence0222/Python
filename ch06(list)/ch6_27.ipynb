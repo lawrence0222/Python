{
 "cells": [
  {
   "cell_type": "markdown",
   "metadata": {},
   "source": [
    "# remove()"
   ]
  },
  {
   "cell_type": "code",
   "execution_count": 1,
   "metadata": {},
   "outputs": [
    {
     "name": "stdout",
     "output_type": "stream",
     "text": [
      "目前串列內容： ['BMW', 'Honda', 'Nissan', 'Toyota', 'Ford']\n",
      "要刪除的內容是BMW\n",
      "刪除後的結果： ['Honda', 'Nissan', 'Toyota', 'Ford']\n"
     ]
    }
   ],
   "source": [
    "cars = ['BMW', 'Honda', 'Nissan', 'Toyota', 'Ford']\n",
    "print(\"目前串列內容：\", cars)\n",
    "removed_car = 'BMW'\n",
    "print(\"要刪除的內容是%s\" % removed_car)\n",
    "cars.remove(removed_car)\n",
    "print(\"刪除後的結果：\", cars)"
   ]
  }
 ],
 "metadata": {
  "kernelspec": {
   "display_name": "Python 3",
   "language": "python",
   "name": "python3"
  },
  "language_info": {
   "codemirror_mode": {
    "name": "ipython",
    "version": 3
   },
   "file_extension": ".py",
   "mimetype": "text/x-python",
   "name": "python",
   "nbconvert_exporter": "python",
   "pygments_lexer": "ipython3",
   "version": "3.6.8"
  }
 },
 "nbformat": 4,
 "nbformat_minor": 4
}
