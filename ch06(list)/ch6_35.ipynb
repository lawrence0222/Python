{
 "cells": [
  {
   "cell_type": "code",
   "execution_count": 2,
   "metadata": {},
   "outputs": [
    {
     "name": "stdout",
     "output_type": "stream",
     "text": [
      "nissan在串列中出現1次\n"
     ]
    }
   ],
   "source": [
    "cars = ['toyota', 'nissan', 'honda']\n",
    "search_str = 'nissan'\n",
    "i = cars.count(search_str)\n",
    "print(\"%s在串列中出現%d次\" % (search_str, i))"
   ]
  },
  {
   "cell_type": "code",
   "execution_count": 3,
   "metadata": {},
   "outputs": [
    {
     "name": "stdout",
     "output_type": "stream",
     "text": [
      "30在串列中出現2次\n"
     ]
    }
   ],
   "source": [
    "nums = [7, 12, 30, 12, 30, 9, 8]\n",
    "search_num = 30\n",
    "j = nums.count(search_num)\n",
    "print(\"%d在串列中出現%d次\" % (search_num, j))"
   ]
  }
 ],
 "metadata": {
  "kernelspec": {
   "display_name": "Python 3",
   "language": "python",
   "name": "python3"
  },
  "language_info": {
   "codemirror_mode": {
    "name": "ipython",
    "version": 3
   },
   "file_extension": ".py",
   "mimetype": "text/x-python",
   "name": "python",
   "nbconvert_exporter": "python",
   "pygments_lexer": "ipython3",
   "version": "3.6.8"
  }
 },
 "nbformat": 4,
 "nbformat_minor": 4
}
