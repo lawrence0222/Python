{
 "cells": [
  {
   "cell_type": "markdown",
   "metadata": {},
   "source": [
    "# 二維串列"
   ]
  },
  {
   "cell_type": "code",
   "execution_count": 1,
   "metadata": {},
   "outputs": [
    {
     "name": "stdout",
     "output_type": "stream",
     "text": [
      "鄭X昕的總分是 263\n",
      "宋X萱的總分是 291\n"
     ]
    }
   ],
   "source": [
    "sc = [['鄭X昕', 80, 95, 88, 0],\n",
    "      ['宋X萱', 98, 97, 96, 0],\n",
    "     ]\n",
    "sc[0][4] = sum(sc[0][1:len(sc[0])])\n",
    "sc[1][4] = sum(sc[1][1:len(sc[1])])\n",
    "\n",
    "print(\"%s的總分是 %d\" % (sc[0][0], sc[0][4]))\n",
    "print(\"%s的總分是 %d\" % (sc[1][0], sc[1][4]))"
   ]
  }
 ],
 "metadata": {
  "kernelspec": {
   "display_name": "Python 3",
   "language": "python",
   "name": "python3"
  },
  "language_info": {
   "codemirror_mode": {
    "name": "ipython",
    "version": 3
   },
   "file_extension": ".py",
   "mimetype": "text/x-python",
   "name": "python",
   "nbconvert_exporter": "python",
   "pygments_lexer": "ipython3",
   "version": "3.6.8"
  }
 },
 "nbformat": 4,
 "nbformat_minor": 4
}
