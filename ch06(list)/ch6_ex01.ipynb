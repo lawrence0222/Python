{
 "cells": [
  {
   "cell_type": "code",
   "execution_count": 4,
   "metadata": {},
   "outputs": [
    {
     "name": "stdout",
     "output_type": "stream",
     "text": [
      "最高分： 99\n",
      "最低分： 52\n",
      "總分： 655\n",
      "平均： 81.875\n"
     ]
    }
   ],
   "source": [
    "scores = [87, 99, 69, 52, 78, 98, 80, 92]\n",
    "print(\"最高分：\", max(scores))\n",
    "print(\"最低分：\", min(scores))\n",
    "print(\"總分：\", sum(scores))\n",
    "print(\"平均：\", sum(scores)/len(scores))"
   ]
  }
 ],
 "metadata": {
  "kernelspec": {
   "display_name": "Python 3",
   "language": "python",
   "name": "python3"
  },
  "language_info": {
   "codemirror_mode": {
    "name": "ipython",
    "version": 3
   },
   "file_extension": ".py",
   "mimetype": "text/x-python",
   "name": "python",
   "nbconvert_exporter": "python",
   "pygments_lexer": "ipython3",
   "version": "3.6.8"
  }
 },
 "nbformat": 4,
 "nbformat_minor": 4
}
