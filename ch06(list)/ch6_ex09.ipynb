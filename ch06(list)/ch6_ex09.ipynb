{
 "cells": [
  {
   "cell_type": "code",
   "execution_count": 41,
   "metadata": {},
   "outputs": [
    {
     "data": {
      "text/plain": [
       "'Are you sleeping Are you sleeping Brother John Brother John         Morning bells are ringing Morning bells are ringing         Ding ding dong Ding ding dong'"
      ]
     },
     "execution_count": 41,
     "metadata": {},
     "output_type": "execute_result"
    }
   ],
   "source": [
    "song = 'Are you sleeping Are you sleeping Brother John Brother John \\\n",
    "        Morning bells are ringing Morning bells are ringing \\\n",
    "        Ding ding dong Ding ding dong'\n",
    "song"
   ]
  },
  {
   "cell_type": "code",
   "execution_count": 44,
   "metadata": {},
   "outputs": [
    {
     "data": {
      "text/plain": [
       "'are you sleeping are you sleeping brother john brother john         morning bells are ringing morning bells are ringing         ding ding dong ding ding dong'"
      ]
     },
     "execution_count": 44,
     "metadata": {},
     "output_type": "execute_result"
    }
   ],
   "source": [
    "# 為了等等找字串不分開頭大小寫，先把所有都改成小寫\n",
    "song = song.lower()\n",
    "song"
   ]
  },
  {
   "cell_type": "code",
   "execution_count": 45,
   "metadata": {},
   "outputs": [
    {
     "data": {
      "text/plain": [
       "24"
      ]
     },
     "execution_count": 45,
     "metadata": {},
     "output_type": "execute_result"
    }
   ],
   "source": [
    "words = song.split()\n",
    "len(words)"
   ]
  },
  {
   "cell_type": "code",
   "execution_count": 46,
   "metadata": {},
   "outputs": [
    {
     "name": "stdout",
     "output_type": "stream",
     "text": [
      "['are', 'you', 'sleeping', 'are', 'you', 'sleeping', 'brother', 'john', 'brother', 'john', 'morning', 'bells', 'are', 'ringing', 'morning', 'bells', 'are', 'ringing', 'ding', 'ding', 'dong', 'ding', 'ding', 'dong']\n"
     ]
    }
   ],
   "source": [
    "print(words)"
   ]
  },
  {
   "cell_type": "code",
   "execution_count": 47,
   "metadata": {},
   "outputs": [
    {
     "name": "stdin",
     "output_type": "stream",
     "text": [
      "請輸入字串： are\n"
     ]
    },
    {
     "name": "stdout",
     "output_type": "stream",
     "text": [
      "are出現次數：4\n"
     ]
    }
   ],
   "source": [
    "word = input(\"請輸入字串：\")\n",
    "print(\"%s出現次數：%d\" % (word, words.count(word)))"
   ]
  }
 ],
 "metadata": {
  "kernelspec": {
   "display_name": "Python 3",
   "language": "python",
   "name": "python3"
  },
  "language_info": {
   "codemirror_mode": {
    "name": "ipython",
    "version": 3
   },
   "file_extension": ".py",
   "mimetype": "text/x-python",
   "name": "python",
   "nbconvert_exporter": "python",
   "pygments_lexer": "ipython3",
   "version": "3.6.8"
  }
 },
 "nbformat": 4,
 "nbformat_minor": 4
}
