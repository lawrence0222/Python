{
 "cells": [
  {
   "cell_type": "code",
   "execution_count": 3,
   "metadata": {},
   "outputs": [
    {
     "name": "stdin",
     "output_type": "stream",
     "text": [
      "請輸入本金： 100000\n",
      "請輸入年利率： 0.035\n",
      "請輸入存款年數： 10\n"
     ]
    },
    {
     "name": "stdout",
     "output_type": "stream",
     "text": [
      "第1年的本金和：103499\n",
      "第2年的本金和：107122\n",
      "第3年的本金和：110871\n",
      "第4年的本金和：114752\n",
      "第5年的本金和：118768\n",
      "第6年的本金和：122925\n",
      "第7年的本金和：127227\n",
      "第8年的本金和：131680\n",
      "第9年的本金和：136289\n",
      "第10年的本金和：141059\n"
     ]
    }
   ],
   "source": [
    "money = eval(input(\"請輸入本金：\"))\n",
    "rate = eval(input(\"請輸入年利率：\"))\n",
    "year = eval(input(\"請輸入存款年數：\"))\n",
    "for i in range(1, year+1):\n",
    "    money *= (1 + rate)\n",
    "    print(\"第%d年的本金和：%d\" % (i, money))"
   ]
  }
 ],
 "metadata": {
  "kernelspec": {
   "display_name": "Python 3",
   "language": "python",
   "name": "python3"
  },
  "language_info": {
   "codemirror_mode": {
    "name": "ipython",
    "version": 3
   },
   "file_extension": ".py",
   "mimetype": "text/x-python",
   "name": "python",
   "nbconvert_exporter": "python",
   "pygments_lexer": "ipython3",
   "version": "3.6.8"
  }
 },
 "nbformat": 4,
 "nbformat_minor": 4
}
