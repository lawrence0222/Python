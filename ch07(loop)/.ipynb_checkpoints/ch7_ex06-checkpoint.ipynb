{
 "cells": [
  {
   "cell_type": "code",
   "execution_count": 6,
   "metadata": {},
   "outputs": [
    {
     "name": "stdout",
     "output_type": "stream",
     "text": [
      "列印前三位球員：\n",
      "curry\n",
      "jordan\n",
      "james\n",
      "列印後三位球員：\n",
      "james\n",
      "durant\n",
      "obama\n"
     ]
    }
   ],
   "source": [
    "players = ['curry', 'jordan', 'james', 'durant', 'obama']\n",
    "\n",
    "print(\"列印前三位球員：\")\n",
    "for player in players[:3]:\n",
    "    print(player)\n",
    "\n",
    "print(\"列印後三位球員：\")\n",
    "for player in players[-3:]:\n",
    "    print(player)"
   ]
  }
 ],
 "metadata": {
  "kernelspec": {
   "display_name": "Python 3",
   "language": "python",
   "name": "python3"
  },
  "language_info": {
   "codemirror_mode": {
    "name": "ipython",
    "version": 3
   },
   "file_extension": ".py",
   "mimetype": "text/x-python",
   "name": "python",
   "nbconvert_exporter": "python",
   "pygments_lexer": "ipython3",
   "version": "3.6.8"
  }
 },
 "nbformat": 4,
 "nbformat_minor": 4
}
