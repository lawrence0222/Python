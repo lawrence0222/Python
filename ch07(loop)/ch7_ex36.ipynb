{
 "cells": [
  {
   "cell_type": "code",
   "execution_count": 1,
   "metadata": {},
   "outputs": [],
   "source": [
    "msg1 = '輸入你喜歡吃的水果'\n",
    "msg2 = '輸入「結束」可以結束對話'\n",
    "msg = msg1 + '\\n' + msg2 + '\\n'"
   ]
  },
  {
   "cell_type": "code",
   "execution_count": 2,
   "metadata": {},
   "outputs": [
    {
     "name": "stdin",
     "output_type": "stream",
     "text": [
      "輸入你喜歡吃的水果\n",
      "輸入「結束」可以結束對話\n",
      " 西瓜\n"
     ]
    },
    {
     "name": "stdout",
     "output_type": "stream",
     "text": [
      "我也喜歡吃 西瓜\n"
     ]
    },
    {
     "name": "stdin",
     "output_type": "stream",
     "text": [
      "輸入你喜歡吃的水果\n",
      "輸入「結束」可以結束對話\n",
      " 蘋果\n"
     ]
    },
    {
     "name": "stdout",
     "output_type": "stream",
     "text": [
      "我也喜歡吃 蘋果\n"
     ]
    },
    {
     "name": "stdin",
     "output_type": "stream",
     "text": [
      "輸入你喜歡吃的水果\n",
      "輸入「結束」可以結束對話\n",
      " 結束\n"
     ]
    }
   ],
   "source": [
    "while True:\n",
    "    input_msg = input(msg)\n",
    "    if input_msg == '結束': break\n",
    "    print(\"我也喜歡吃\", input_msg)"
   ]
  }
 ],
 "metadata": {
  "kernelspec": {
   "display_name": "Python 3",
   "language": "python",
   "name": "python3"
  },
  "language_info": {
   "codemirror_mode": {
    "name": "ipython",
    "version": 3
   },
   "file_extension": ".py",
   "mimetype": "text/x-python",
   "name": "python",
   "nbconvert_exporter": "python",
   "pygments_lexer": "ipython3",
   "version": "3.6.8"
  }
 },
 "nbformat": 4,
 "nbformat_minor": 4
}
