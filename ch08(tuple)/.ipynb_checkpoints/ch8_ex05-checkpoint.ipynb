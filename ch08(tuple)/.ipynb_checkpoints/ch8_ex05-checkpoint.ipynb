{
 "cells": [
  {
   "cell_type": "code",
   "execution_count": 1,
   "metadata": {},
   "outputs": [
    {
     "name": "stdout",
     "output_type": "stream",
     "text": [
      "[('Spring', '春天'), ('Summer', '夏天'), ('Fall', '秋天'), ('Winter', '冬天')]\n"
     ]
    }
   ],
   "source": [
    "season = ('Spring', 'Summer', 'Fall', 'Winter')\n",
    "chinese = ('春天', '夏天', '秋天', '冬天')\n",
    "zip_season = zip(season, chinese)\n",
    "lst_season = list(zip_season)\n",
    "print(lst_season)"
   ]
  }
 ],
 "metadata": {
  "kernelspec": {
   "display_name": "Python 3",
   "language": "python",
   "name": "python3"
  },
  "language_info": {
   "codemirror_mode": {
    "name": "ipython",
    "version": 3
   },
   "file_extension": ".py",
   "mimetype": "text/x-python",
   "name": "python",
   "nbconvert_exporter": "python",
   "pygments_lexer": "ipython3",
   "version": "3.6.8"
  }
 },
 "nbformat": 4,
 "nbformat_minor": 4
}
