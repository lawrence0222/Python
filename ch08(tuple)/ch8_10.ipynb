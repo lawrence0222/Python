{
 "cells": [
  {
   "cell_type": "markdown",
   "metadata": {},
   "source": [
    "# 重新設計ch8_09，將元組改為串列"
   ]
  },
  {
   "cell_type": "code",
   "execution_count": 1,
   "metadata": {},
   "outputs": [
    {
     "name": "stdout",
     "output_type": "stream",
     "text": [
      "列印元組 ('magic', 'xaab', '9099')\n",
      "列印串列 ['magic', 'xaab', '9099', 'secret']\n"
     ]
    }
   ],
   "source": [
    "keys = ('magic', 'xaab', '9099')\n",
    "list_keys = list(keys)\n",
    "list_keys.append('secret')\n",
    "print(\"列印元組\", keys)\n",
    "print(\"列印串列\", list_keys)"
   ]
  }
 ],
 "metadata": {
  "kernelspec": {
   "display_name": "Python 3",
   "language": "python",
   "name": "python3"
  },
  "language_info": {
   "codemirror_mode": {
    "name": "ipython",
    "version": 3
   },
   "file_extension": ".py",
   "mimetype": "text/x-python",
   "name": "python",
   "nbconvert_exporter": "python",
   "pygments_lexer": "ipython3",
   "version": "3.6.8"
  }
 },
 "nbformat": 4,
 "nbformat_minor": 4
}
