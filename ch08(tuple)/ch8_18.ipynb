{
 "cells": [
  {
   "cell_type": "code",
   "execution_count": 1,
   "metadata": {},
   "outputs": [
    {
     "name": "stdout",
     "output_type": "stream",
     "text": [
      "[('Name', 'Peter'), ('Age0', '30')]\n"
     ]
    }
   ],
   "source": [
    "fields = ['Name', 'Age0', 'Hometown']\n",
    "info = ['Peter', '30']\n",
    "zipdata = zip(fields, info)\n",
    "player = list(zipdata)\n",
    "print(player)"
   ]
  },
  {
   "cell_type": "markdown",
   "metadata": {},
   "source": [
    "# 若在zip()函數內加\"*\"符號，相當於可以unzip()串列"
   ]
  },
  {
   "cell_type": "code",
   "execution_count": 4,
   "metadata": {},
   "outputs": [
    {
     "name": "stdout",
     "output_type": "stream",
     "text": [
      "fields =  ('Name', 'Age0')\n",
      "info =  ('Peter', '30')\n"
     ]
    }
   ],
   "source": [
    "f, i = zip(*player)\n",
    "print(\"fields = \", f)\n",
    "print(\"info = \", i)"
   ]
  }
 ],
 "metadata": {
  "kernelspec": {
   "display_name": "Python 3",
   "language": "python",
   "name": "python3"
  },
  "language_info": {
   "codemirror_mode": {
    "name": "ipython",
    "version": 3
   },
   "file_extension": ".py",
   "mimetype": "text/x-python",
   "name": "python",
   "nbconvert_exporter": "python",
   "pygments_lexer": "ipython3",
   "version": "3.6.8"
  }
 },
 "nbformat": 4,
 "nbformat_minor": 4
}
