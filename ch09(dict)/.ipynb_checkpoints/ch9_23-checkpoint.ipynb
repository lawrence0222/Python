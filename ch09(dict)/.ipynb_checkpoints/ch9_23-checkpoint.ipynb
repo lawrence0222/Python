{
 "cells": [
  {
   "cell_type": "code",
   "execution_count": 1,
   "metadata": {},
   "outputs": [],
   "source": [
    "armys = []\n",
    "for soldier_number in range(50):\n",
    "    soldier = {'tag':'red', 'score':3, 'speed':'slow'}\n",
    "    armys.append(soldier)"
   ]
  },
  {
   "cell_type": "code",
   "execution_count": 2,
   "metadata": {},
   "outputs": [
    {
     "name": "stdout",
     "output_type": "stream",
     "text": [
      "{'tag': 'red', 'score': 3, 'speed': 'slow'}\n",
      "{'tag': 'red', 'score': 3, 'speed': 'slow'}\n",
      "{'tag': 'red', 'score': 3, 'speed': 'slow'}\n"
     ]
    }
   ],
   "source": [
    "for army in armys[:3]:   #列印前三個\n",
    "    print(army)"
   ]
  },
  {
   "cell_type": "code",
   "execution_count": 3,
   "metadata": {},
   "outputs": [
    {
     "name": "stdout",
     "output_type": "stream",
     "text": [
      "小兵數量： 50\n"
     ]
    }
   ],
   "source": [
    "print(\"小兵數量：\", len(armys))"
   ]
  }
 ],
 "metadata": {
  "kernelspec": {
   "display_name": "Python 3",
   "language": "python",
   "name": "python3"
  },
  "language_info": {
   "codemirror_mode": {
    "name": "ipython",
    "version": 3
   },
   "file_extension": ".py",
   "mimetype": "text/x-python",
   "name": "python",
   "nbconvert_exporter": "python",
   "pygments_lexer": "ipython3",
   "version": "3.6.8"
  }
 },
 "nbformat": 4,
 "nbformat_minor": 4
}
