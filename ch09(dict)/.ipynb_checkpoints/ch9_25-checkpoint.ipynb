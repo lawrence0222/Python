{
 "cells": [
  {
   "cell_type": "code",
   "execution_count": 1,
   "metadata": {},
   "outputs": [],
   "source": [
    "sports = {'Curry':['籃球', '美式足球'],\n",
    "          'Durant':['棒球'],\n",
    "          'James':['美式足球', '棒球', '籃球']}"
   ]
  },
  {
   "cell_type": "code",
   "execution_count": 3,
   "metadata": {},
   "outputs": [
    {
     "name": "stdout",
     "output_type": "stream",
     "text": [
      "Curry 喜歡的運動是：\n",
      "籃球\n",
      "美式足球\n",
      "Durant 喜歡的運動是：\n",
      "棒球\n",
      "James 喜歡的運動是：\n",
      "美式足球\n",
      "棒球\n",
      "籃球\n"
     ]
    }
   ],
   "source": [
    "for name, favorite_sport in sports.items():\n",
    "    print(name, '喜歡的運動是：')\n",
    "    for sport in favorite_sport:\n",
    "        print(sport)"
   ]
  }
 ],
 "metadata": {
  "kernelspec": {
   "display_name": "Python 3",
   "language": "python",
   "name": "python3"
  },
  "language_info": {
   "codemirror_mode": {
    "name": "ipython",
    "version": 3
   },
   "file_extension": ".py",
   "mimetype": "text/x-python",
   "name": "python",
   "nbconvert_exporter": "python",
   "pygments_lexer": "ipython3",
   "version": "3.6.8"
  }
 },
 "nbformat": 4,
 "nbformat_minor": 4
}
