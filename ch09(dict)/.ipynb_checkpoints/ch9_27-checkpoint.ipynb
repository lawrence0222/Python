{
 "cells": [
  {
   "cell_type": "code",
   "execution_count": 1,
   "metadata": {},
   "outputs": [
    {
     "name": "stdin",
     "output_type": "stream",
     "text": [
      "請輸入姓名： 蔡鎮陽\n",
      "想去的旅遊景點： 輕井澤\n",
      "是否還有人要參加市場調查?(是/否) 是\n",
      "請輸入姓名： 林昇\n",
      "想去的旅遊景點： 飛田新地\n",
      "是否還有人要參加市場調查?(是/否) 是\n",
      "請輸入姓名： 高浩洋\n",
      "想去的旅遊景點： 高雄\n",
      "是否還有人要參加市場調查?(是/否) 否\n"
     ]
    },
    {
     "name": "stdout",
     "output_type": "stream",
     "text": [
      "市場調查結果：\n",
      "蔡鎮陽 想去的景點： 輕井澤\n",
      "林昇 想去的景點： 飛田新地\n",
      "高浩洋 想去的景點： 高雄\n"
     ]
    }
   ],
   "source": [
    "survey_dict = {}\n",
    "market_survey = True\n",
    "\n",
    "while market_survey:\n",
    "    name = input(\"請輸入姓名：\")\n",
    "    travel_location = input(\"想去的旅遊景點：\")\n",
    "    survey_dict[name] =  travel_location\n",
    "    repeat = input(\"是否還有人要參加市場調查?(是/否)\")\n",
    "    if repeat != '是':\n",
    "        break\n",
    "\n",
    "print(\"市場調查結果：\")\n",
    "for name, location in survey_dict.items():\n",
    "    print(name, \"想去的景點：\", location)"
   ]
  }
 ],
 "metadata": {
  "kernelspec": {
   "display_name": "Python 3",
   "language": "python",
   "name": "python3"
  },
  "language_info": {
   "codemirror_mode": {
    "name": "ipython",
    "version": 3
   },
   "file_extension": ".py",
   "mimetype": "text/x-python",
   "name": "python",
   "nbconvert_exporter": "python",
   "pygments_lexer": "ipython3",
   "version": "3.6.8"
  }
 },
 "nbformat": 4,
 "nbformat_minor": 4
}
