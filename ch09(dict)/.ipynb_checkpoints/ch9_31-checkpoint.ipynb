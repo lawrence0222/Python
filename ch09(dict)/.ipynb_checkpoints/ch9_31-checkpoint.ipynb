{
 "cells": [
  {
   "cell_type": "code",
   "execution_count": 32,
   "metadata": {},
   "outputs": [],
   "source": [
    "falling = '''\n",
    "My last made me feel like I would never try again\n",
    "But when I saw you, I felt something I never felt\n",
    "Come closer, I'll give you all my love\n",
    "If you treat me right, baby, I'll give you everything\n",
    "My last made me feel like I would never try again\n",
    "But when I saw you, I felt something I never felt\n",
    "Come closer, I'll give you all my love\n",
    "If you treat me right, baby, I'll give you everything\n",
    "Talk to me, I need to hear you need me like I need you\n",
    "Fall for me, I wanna know you feel how I feel for you, love\n",
    "Before you, baby, I was numb, drown the pain by pouring up\n",
    "Speeding fast on the run, never want to get caught up\n",
    "Now you the one that I'm calling\n",
    "Swore that I'd never forget, don't think I'm just talking\n",
    "I think I might go all in, no exceptions, girl, I need ya\n",
    "Feeling like I'm out of my mind, 'cause I can't get enough\n",
    "Only one that I give my time, 'cause I got time for ya\n",
    "Might make an exception for ya, 'cause I been feeling ya\n",
    "Think I might be out of my mind, I think that you're the one\n",
    "My last made me feel like I would never try again\n",
    "But when I saw you, I felt something I never felt\n",
    "Come closer, I'll give you all my love\n",
    "If you treat me right, baby, I'll give you everything\n",
    "My last made me feel like I would never try again\n",
    "But when I saw you, I felt something I never felt\n",
    "Come closer, I'll give you all my love\n",
    "If you treat me right, baby, I'll give you everything\n",
    "I'll never give my all again\n",
    "'Cause I'm sick of falling down\n",
    "When I open up and give my trust\n",
    "They find a way to break it down\n",
    "Tear me up inside, and you break me down\n",
    "'''"
   ]
  },
  {
   "cell_type": "code",
   "execution_count": 33,
   "metadata": {},
   "outputs": [
    {
     "name": "stdout",
     "output_type": "stream",
     "text": [
      "\n",
      "My last made me feel like I would never try again\n",
      "But when I saw you, I felt something I never felt\n",
      "Come closer, I'll give you all my love\n",
      "If you treat me right, baby, I'll give you everything\n",
      "My last made me feel like I would never try again\n",
      "But when I saw you, I felt something I never felt\n",
      "Come closer, I'll give you all my love\n",
      "If you treat me right, baby, I'll give you everything\n",
      "Talk to me, I need to hear you need me like I need you\n",
      "Fall for me, I wanna know you feel how I feel for you, love\n",
      "Before you, baby, I was numb, drown the pain by pouring up\n",
      "Speeding fast on the run, never want to get caught up\n",
      "Now you the one that I'm calling\n",
      "Swore that I'd never forget, don't think I'm just talking\n",
      "I think I might go all in, no exceptions, girl, I need ya\n",
      "Feeling like I'm out of my mind, 'cause I can't get enough\n",
      "Only one that I give my time, 'cause I got time for ya\n",
      "Might make an exception for ya, 'cause I been feeling ya\n",
      "Think I might be out of my mind, I think that you're the one\n",
      "My last made me feel like I would never try again\n",
      "But when I saw you, I felt something I never felt\n",
      "Come closer, I'll give you all my love\n",
      "If you treat me right, baby, I'll give you everything\n",
      "My last made me feel like I would never try again\n",
      "But when I saw you, I felt something I never felt\n",
      "Come closer, I'll give you all my love\n",
      "If you treat me right, baby, I'll give you everything\n",
      "I'll never give my all again\n",
      "'Cause I'm sick of falling down\n",
      "When I open up and give my trust\n",
      "They find a way to break it down\n",
      "Tear me up inside, and you break me down\n",
      "\n"
     ]
    }
   ],
   "source": [
    "print(falling)"
   ]
  },
  {
   "cell_type": "code",
   "execution_count": 34,
   "metadata": {},
   "outputs": [
    {
     "name": "stdout",
     "output_type": "stream",
     "text": [
      "\n",
      "My last made me feel like I would never try again\n",
      "But when I saw you  I felt something I never felt\n",
      "Come closer  I ll give you all my love\n",
      "If you treat me right  baby  I ll give you everything\n",
      "My last made me feel like I would never try again\n",
      "But when I saw you  I felt something I never felt\n",
      "Come closer  I ll give you all my love\n",
      "If you treat me right  baby  I ll give you everything\n",
      "Talk to me  I need to hear you need me like I need you\n",
      "Fall for me  I wanna know you feel how I feel for you  love\n",
      "Before you  baby  I was numb  drown the pain by pouring up\n",
      "Speeding fast on the run  never want to get caught up\n",
      "Now you the one that I m calling\n",
      "Swore that I d never forget  don t think I m just talking\n",
      "I think I might go all in  no exceptions  girl  I need ya\n",
      "Feeling like I m out of my mind   cause I can t get enough\n",
      "Only one that I give my time   cause I got time for ya\n",
      "Might make an exception for ya   cause I been feeling ya\n",
      "Think I might be out of my mind  I think that you re the one\n",
      "My last made me feel like I would never try again\n",
      "But when I saw you  I felt something I never felt\n",
      "Come closer  I ll give you all my love\n",
      "If you treat me right  baby  I ll give you everything\n",
      "My last made me feel like I would never try again\n",
      "But when I saw you  I felt something I never felt\n",
      "Come closer  I ll give you all my love\n",
      "If you treat me right  baby  I ll give you everything\n",
      "I ll never give my all again\n",
      " Cause I m sick of falling down\n",
      "When I open up and give my trust\n",
      "They find a way to break it down\n",
      "Tear me up inside  and you break me down\n",
      "\n"
     ]
    }
   ],
   "source": [
    "#用空字元取代標點符號\n",
    "for ch in falling:\n",
    "    if ch in \",.?'\":\n",
    "        falling = falling.replace(ch,' ')\n",
    "    \n",
    "print(falling)        "
   ]
  },
  {
   "cell_type": "code",
   "execution_count": 35,
   "metadata": {},
   "outputs": [
    {
     "name": "stdout",
     "output_type": "stream",
     "text": [
      "['My', 'last', 'made', 'me', 'feel', 'like', 'I', 'would', 'never', 'try', 'again', 'But', 'when', 'I', 'saw', 'you', 'I', 'felt', 'something', 'I', 'never', 'felt', 'Come', 'closer', 'I', 'll', 'give', 'you', 'all', 'my', 'love', 'If', 'you', 'treat', 'me', 'right', 'baby', 'I', 'll', 'give', 'you', 'everything', 'My', 'last', 'made', 'me', 'feel', 'like', 'I', 'would', 'never', 'try', 'again', 'But', 'when', 'I', 'saw', 'you', 'I', 'felt', 'something', 'I', 'never', 'felt', 'Come', 'closer', 'I', 'll', 'give', 'you', 'all', 'my', 'love', 'If', 'you', 'treat', 'me', 'right', 'baby', 'I', 'll', 'give', 'you', 'everything', 'Talk', 'to', 'me', 'I', 'need', 'to', 'hear', 'you', 'need', 'me', 'like', 'I', 'need', 'you', 'Fall', 'for', 'me', 'I', 'wanna', 'know', 'you', 'feel', 'how', 'I', 'feel', 'for', 'you', 'love', 'Before', 'you', 'baby', 'I', 'was', 'numb', 'drown', 'the', 'pain', 'by', 'pouring', 'up', 'Speeding', 'fast', 'on', 'the', 'run', 'never', 'want', 'to', 'get', 'caught', 'up', 'Now', 'you', 'the', 'one', 'that', 'I', 'm', 'calling', 'Swore', 'that', 'I', 'd', 'never', 'forget', 'don', 't', 'think', 'I', 'm', 'just', 'talking', 'I', 'think', 'I', 'might', 'go', 'all', 'in', 'no', 'exceptions', 'girl', 'I', 'need', 'ya', 'Feeling', 'like', 'I', 'm', 'out', 'of', 'my', 'mind', 'cause', 'I', 'can', 't', 'get', 'enough', 'Only', 'one', 'that', 'I', 'give', 'my', 'time', 'cause', 'I', 'got', 'time', 'for', 'ya', 'Might', 'make', 'an', 'exception', 'for', 'ya', 'cause', 'I', 'been', 'feeling', 'ya', 'Think', 'I', 'might', 'be', 'out', 'of', 'my', 'mind', 'I', 'think', 'that', 'you', 're', 'the', 'one', 'My', 'last', 'made', 'me', 'feel', 'like', 'I', 'would', 'never', 'try', 'again', 'But', 'when', 'I', 'saw', 'you', 'I', 'felt', 'something', 'I', 'never', 'felt', 'Come', 'closer', 'I', 'll', 'give', 'you', 'all', 'my', 'love', 'If', 'you', 'treat', 'me', 'right', 'baby', 'I', 'll', 'give', 'you', 'everything', 'My', 'last', 'made', 'me', 'feel', 'like', 'I', 'would', 'never', 'try', 'again', 'But', 'when', 'I', 'saw', 'you', 'I', 'felt', 'something', 'I', 'never', 'felt', 'Come', 'closer', 'I', 'll', 'give', 'you', 'all', 'my', 'love', 'If', 'you', 'treat', 'me', 'right', 'baby', 'I', 'll', 'give', 'you', 'everything', 'I', 'll', 'never', 'give', 'my', 'all', 'again', 'Cause', 'I', 'm', 'sick', 'of', 'falling', 'down', 'When', 'I', 'open', 'up', 'and', 'give', 'my', 'trust', 'They', 'find', 'a', 'way', 'to', 'break', 'it', 'down', 'Tear', 'me', 'up', 'inside', 'and', 'you', 'break', 'me', 'down']\n"
     ]
    }
   ],
   "source": [
    "falling_list = falling.split()\n",
    "print(falling_list)"
   ]
  },
  {
   "cell_type": "code",
   "execution_count": 36,
   "metadata": {},
   "outputs": [
    {
     "name": "stdout",
     "output_type": "stream",
     "text": [
      "{'My': 4, 'last': 4, 'made': 4, 'me': 13, 'feel': 6, 'like': 6, 'I': 45, 'would': 4, 'never': 11, 'try': 4, 'again': 5, 'But': 4, 'when': 4, 'saw': 4, 'you': 24, 'felt': 8, 'something': 4, 'Come': 4, 'closer': 4, 'll': 9, 'give': 11, 'all': 6, 'my': 9, 'love': 5, 'If': 4, 'treat': 4, 'right': 4, 'baby': 5, 'everything': 4, 'Talk': 1, 'to': 4, 'need': 4, 'hear': 1, 'Fall': 1, 'for': 4, 'wanna': 1, 'know': 1, 'how': 1, 'Before': 1, 'was': 1, 'numb': 1, 'drown': 1, 'the': 4, 'pain': 1, 'by': 1, 'pouring': 1, 'up': 4, 'Speeding': 1, 'fast': 1, 'on': 1, 'run': 1, 'want': 1, 'get': 2, 'caught': 1, 'Now': 1, 'one': 3, 'that': 4, 'm': 4, 'calling': 1, 'Swore': 1, 'd': 1, 'forget': 1, 'don': 1, 't': 2, 'think': 3, 'just': 1, 'talking': 1, 'might': 2, 'go': 1, 'in': 1, 'no': 1, 'exceptions': 1, 'girl': 1, 'ya': 4, 'Feeling': 1, 'out': 2, 'of': 3, 'mind': 2, 'cause': 3, 'can': 1, 'enough': 1, 'Only': 1, 'time': 2, 'got': 1, 'Might': 1, 'make': 1, 'an': 1, 'exception': 1, 'been': 1, 'feeling': 1, 'Think': 1, 'be': 1, 're': 1, 'Cause': 1, 'sick': 1, 'falling': 1, 'down': 3, 'When': 1, 'open': 1, 'and': 2, 'trust': 1, 'They': 1, 'find': 1, 'a': 1, 'way': 1, 'break': 2, 'it': 1, 'Tear': 1, 'inside': 1}\n"
     ]
    }
   ],
   "source": [
    "#計每個單字出現次數\n",
    "falling_dict = {}\n",
    "for wd in falling_list:\n",
    "    if wd in falling_dict:\n",
    "        falling_dict[wd] += 1\n",
    "    else:\n",
    "        falling_dict[wd] = 1\n",
    "print(falling_dict)"
   ]
  }
 ],
 "metadata": {
  "kernelspec": {
   "display_name": "Python 3",
   "language": "python",
   "name": "python3"
  },
  "language_info": {
   "codemirror_mode": {
    "name": "ipython",
    "version": 3
   },
   "file_extension": ".py",
   "mimetype": "text/x-python",
   "name": "python",
   "nbconvert_exporter": "python",
   "pygments_lexer": "ipython3",
   "version": "3.6.8"
  }
 },
 "nbformat": 4,
 "nbformat_minor": 4
}
