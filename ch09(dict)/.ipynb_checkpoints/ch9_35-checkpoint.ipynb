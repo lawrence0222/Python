{
 "cells": [
  {
   "cell_type": "markdown",
   "metadata": {},
   "source": [
    "# 文件加密"
   ]
  },
  {
   "cell_type": "code",
   "execution_count": 1,
   "metadata": {},
   "outputs": [],
   "source": [
    "abc = 'abcdefghijklmnopqrstuvwxyz'"
   ]
  },
  {
   "cell_type": "code",
   "execution_count": 2,
   "metadata": {},
   "outputs": [
    {
     "data": {
      "text/plain": [
       "26"
      ]
     },
     "execution_count": 2,
     "metadata": {},
     "output_type": "execute_result"
    }
   ],
   "source": [
    "len(abc)"
   ]
  },
  {
   "cell_type": "code",
   "execution_count": 3,
   "metadata": {},
   "outputs": [],
   "source": [
    "encry_dict = {}\n",
    "front3 = abc[:3]\n",
    "end23 = abc[3:]"
   ]
  },
  {
   "cell_type": "code",
   "execution_count": 4,
   "metadata": {},
   "outputs": [
    {
     "name": "stdout",
     "output_type": "stream",
     "text": [
      "abc\n",
      "defghijklmnopqrstuvwxyz\n"
     ]
    }
   ],
   "source": [
    "print(front3)\n",
    "print(end23)"
   ]
  },
  {
   "cell_type": "code",
   "execution_count": 14,
   "metadata": {},
   "outputs": [
    {
     "name": "stdout",
     "output_type": "stream",
     "text": [
      "defghijklmnopqrstuvwxyzabc\n"
     ]
    }
   ],
   "source": [
    "subText = end23 + front3\n",
    "print(subText)"
   ]
  },
  {
   "cell_type": "code",
   "execution_count": 17,
   "metadata": {},
   "outputs": [
    {
     "data": {
      "text/plain": [
       "str"
      ]
     },
     "execution_count": 17,
     "metadata": {},
     "output_type": "execute_result"
    }
   ],
   "source": [
    "type(subText)"
   ]
  },
  {
   "cell_type": "code",
   "execution_count": 22,
   "metadata": {},
   "outputs": [],
   "source": [
    "encry_dict = dict(zip(subText, abc))"
   ]
  },
  {
   "cell_type": "code",
   "execution_count": 23,
   "metadata": {},
   "outputs": [
    {
     "name": "stdout",
     "output_type": "stream",
     "text": [
      "('d', 'a')\n",
      "('e', 'b')\n",
      "('f', 'c')\n",
      "('g', 'd')\n",
      "('h', 'e')\n",
      "('i', 'f')\n",
      "('j', 'g')\n",
      "('k', 'h')\n",
      "('l', 'i')\n",
      "('m', 'j')\n",
      "('n', 'k')\n",
      "('o', 'l')\n",
      "('p', 'm')\n",
      "('q', 'n')\n",
      "('r', 'o')\n",
      "('s', 'p')\n",
      "('t', 'q')\n",
      "('u', 'r')\n",
      "('v', 's')\n",
      "('w', 't')\n",
      "('x', 'u')\n",
      "('y', 'v')\n",
      "('z', 'w')\n",
      "('a', 'x')\n",
      "('b', 'y')\n",
      "('c', 'z')\n"
     ]
    }
   ],
   "source": [
    "for encry in encry_dict.items():\n",
    "    \n",
    "    print(encry)"
   ]
  },
  {
   "cell_type": "code",
   "execution_count": 24,
   "metadata": {},
   "outputs": [],
   "source": [
    "msg = 'iloveyou'\n",
    "cipher = []\n",
    "for wd in msg:\n",
    "    x = encry_dict[wd]\n",
    "    cipher.append(x)\n",
    "ciphertext = ''.join(cipher)"
   ]
  },
  {
   "cell_type": "code",
   "execution_count": 25,
   "metadata": {},
   "outputs": [
    {
     "name": "stdout",
     "output_type": "stream",
     "text": [
      "原始訊息： iloveyou\n",
      "加密訊系： filsbvlr\n"
     ]
    }
   ],
   "source": [
    "print(\"原始訊息：\", msg)\n",
    "print(\"加密訊系：\", ciphertext)"
   ]
  }
 ],
 "metadata": {
  "kernelspec": {
   "display_name": "Python 3",
   "language": "python",
   "name": "python3"
  },
  "language_info": {
   "codemirror_mode": {
    "name": "ipython",
    "version": 3
   },
   "file_extension": ".py",
   "mimetype": "text/x-python",
   "name": "python",
   "nbconvert_exporter": "python",
   "pygments_lexer": "ipython3",
   "version": "3.6.8"
  }
 },
 "nbformat": 4,
 "nbformat_minor": 4
}
