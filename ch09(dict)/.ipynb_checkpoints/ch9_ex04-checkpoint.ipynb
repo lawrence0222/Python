{
 "cells": [
  {
   "cell_type": "code",
   "execution_count": 6,
   "metadata": {},
   "outputs": [],
   "source": [
    "noodles = {'牛肉麵':100, '肉絲麵':80, '陽春麵':60, '大滷麵':90, '麻醬麵':70}"
   ]
  },
  {
   "cell_type": "code",
   "execution_count": 7,
   "metadata": {},
   "outputs": [
    {
     "name": "stdout",
     "output_type": "stream",
     "text": [
      "('陽春麵', 60)\n",
      "('麻醬麵', 70)\n",
      "('肉絲麵', 80)\n",
      "('大滷麵', 90)\n",
      "('牛肉麵', 100)\n"
     ]
    }
   ],
   "source": [
    "for noodle in sorted(noodles.items(), key=lambda item:item[1]):\n",
    "    print(noodle)\n",
    "    \n"
   ]
  }
 ],
 "metadata": {
  "kernelspec": {
   "display_name": "Python 3",
   "language": "python",
   "name": "python3"
  },
  "language_info": {
   "codemirror_mode": {
    "name": "ipython",
    "version": 3
   },
   "file_extension": ".py",
   "mimetype": "text/x-python",
   "name": "python",
   "nbconvert_exporter": "python",
   "pygments_lexer": "ipython3",
   "version": "3.6.8"
  }
 },
 "nbformat": 4,
 "nbformat_minor": 4
}
