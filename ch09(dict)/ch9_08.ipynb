{
 "cells": [
  {
   "cell_type": "code",
   "execution_count": 1,
   "metadata": {},
   "outputs": [],
   "source": [
    "soldier0 = {'tag':'red', 'score':3, 'xpos':100, \n",
    "            'ypos':30, 'speed':'slow'}"
   ]
  },
  {
   "cell_type": "code",
   "execution_count": 2,
   "metadata": {},
   "outputs": [
    {
     "name": "stdout",
     "output_type": "stream",
     "text": [
      "小兵目前的座標： 100 , 30\n"
     ]
    }
   ],
   "source": [
    "print('小兵目前的座標：', soldier0['xpos'], ',', soldier0['ypos'])"
   ]
  },
  {
   "cell_type": "code",
   "execution_count": 3,
   "metadata": {},
   "outputs": [
    {
     "name": "stdout",
     "output_type": "stream",
     "text": [
      "小兵位移後座標： 101 , 30\n"
     ]
    }
   ],
   "source": [
    "if soldier0['speed'] == 'slow':\n",
    "    x_move = 1\n",
    "elif soldier0['speed'] == 'medium':\n",
    "    x_move = 3\n",
    "else:\n",
    "    x_move = 5\n",
    "soldier0['xpos'] += x_move\n",
    "print('小兵位移後座標：', soldier0['xpos'], ',', soldier0['ypos'])"
   ]
  }
 ],
 "metadata": {
  "kernelspec": {
   "display_name": "Python 3",
   "language": "python",
   "name": "python3"
  },
  "language_info": {
   "codemirror_mode": {
    "name": "ipython",
    "version": 3
   },
   "file_extension": ".py",
   "mimetype": "text/x-python",
   "name": "python",
   "nbconvert_exporter": "python",
   "pygments_lexer": "ipython3",
   "version": "3.6.8"
  }
 },
 "nbformat": 4,
 "nbformat_minor": 4
}
