{
 "cells": [
  {
   "cell_type": "code",
   "execution_count": 1,
   "metadata": {},
   "outputs": [],
   "source": [
    "players = {'Stephen Curry':'Golden State Warriors',\n",
    "           'Kevin Durant' :'Golden State Warriors',\n",
    "           'Lebron James' :'Los Angeles Lakers',\n",
    "           'James Harden' :'Houston Rockets',\n",
    "           'Kobe Bryant'  :'Los Angeles Lakers'}"
   ]
  },
  {
   "cell_type": "code",
   "execution_count": 2,
   "metadata": {},
   "outputs": [
    {
     "data": {
      "text/plain": [
       "'Los Angeles Lakers'"
      ]
     },
     "execution_count": 2,
     "metadata": {},
     "output_type": "execute_result"
    }
   ],
   "source": [
    "players['Kobe Bryant']"
   ]
  },
  {
   "cell_type": "code",
   "execution_count": 3,
   "metadata": {},
   "outputs": [
    {
     "data": {
      "text/plain": [
       "'Houston Rockets'"
      ]
     },
     "execution_count": 3,
     "metadata": {},
     "output_type": "execute_result"
    }
   ],
   "source": [
    "players['James Harden']"
   ]
  },
  {
   "cell_type": "code",
   "execution_count": 4,
   "metadata": {},
   "outputs": [
    {
     "data": {
      "text/plain": [
       "'Golden State Warriors'"
      ]
     },
     "execution_count": 4,
     "metadata": {},
     "output_type": "execute_result"
    }
   ],
   "source": [
    "players['Kevin Durant']"
   ]
  },
  {
   "cell_type": "markdown",
   "metadata": {},
   "source": [
    "# 合併字典 update()"
   ]
  },
  {
   "cell_type": "code",
   "execution_count": 5,
   "metadata": {},
   "outputs": [],
   "source": [
    "dealerA = {1:'Nissan', 2:'Toyota', 3:'Lexus'}\n",
    "dealerB = {11:'BMW', 12:'Benz'}"
   ]
  },
  {
   "cell_type": "code",
   "execution_count": 6,
   "metadata": {},
   "outputs": [],
   "source": [
    "dealerA.update(dealerB)"
   ]
  },
  {
   "cell_type": "code",
   "execution_count": 7,
   "metadata": {},
   "outputs": [
    {
     "name": "stdout",
     "output_type": "stream",
     "text": [
      "{1: 'Nissan', 2: 'Toyota', 3: 'Lexus', 11: 'BMW', 12: 'Benz'}\n"
     ]
    }
   ],
   "source": [
    "print(dealerA)"
   ]
  },
  {
   "cell_type": "markdown",
   "metadata": {},
   "source": [
    "* 重新設計，dealerA與dealerB發生鍵相同，造成dealerA原先的汽車品牌被覆蓋"
   ]
  },
  {
   "cell_type": "code",
   "execution_count": 8,
   "metadata": {},
   "outputs": [],
   "source": [
    "dealerA = {1:'Nissan', 2:'Toyota', 3:'Lexus'}\n",
    "dealerB = {3:'BMW', 4:'Benz'}"
   ]
  },
  {
   "cell_type": "code",
   "execution_count": 9,
   "metadata": {},
   "outputs": [
    {
     "name": "stdout",
     "output_type": "stream",
     "text": [
      "{1: 'Nissan', 2: 'Toyota', 3: 'BMW', 4: 'Benz'}\n"
     ]
    }
   ],
   "source": [
    "dealerA.update(dealerB)\n",
    "print(dealerA)"
   ]
  },
  {
   "cell_type": "markdown",
   "metadata": {},
   "source": [
    "# dict()"
   ]
  },
  {
   "cell_type": "code",
   "execution_count": 11,
   "metadata": {},
   "outputs": [
    {
     "name": "stdout",
     "output_type": "stream",
     "text": [
      "{'日本': '東京', '泰國': '曼谷', '英國': '倫敦'}\n"
     ]
    }
   ],
   "source": [
    "# 將雙值序列的串列轉成字典\n",
    "# 若是元組(tuple)，也可以完成相同的工作\n",
    "nation = [['日本','東京'],['泰國','曼谷'],['英國','倫敦']]\n",
    "nationDict = dict(nation)\n",
    "print(nationDict)"
   ]
  }
 ],
 "metadata": {
  "kernelspec": {
   "display_name": "Python 3",
   "language": "python",
   "name": "python3"
  },
  "language_info": {
   "codemirror_mode": {
    "name": "ipython",
    "version": 3
   },
   "file_extension": ".py",
   "mimetype": "text/x-python",
   "name": "python",
   "nbconvert_exporter": "python",
   "pygments_lexer": "ipython3",
   "version": "3.6.8"
  }
 },
 "nbformat": 4,
 "nbformat_minor": 4
}
