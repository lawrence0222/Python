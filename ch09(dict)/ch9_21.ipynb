{
 "cells": [
  {
   "cell_type": "code",
   "execution_count": 1,
   "metadata": {},
   "outputs": [],
   "source": [
    "players = {'Stephen Curry':'Golden State Warriors',\n",
    "           'Kevin Durant' :'Golden State Warriors',\n",
    "           'Lebron James' :'Los Angeles Lakers',\n",
    "           'James Harden' :'Houston Rockets',\n",
    "           'Kobe Bryant'  :'Los Angeles Lakers'}"
   ]
  },
  {
   "cell_type": "code",
   "execution_count": 2,
   "metadata": {},
   "outputs": [
    {
     "name": "stdout",
     "output_type": "stream",
     "text": [
      "Golden State Warriors\n",
      "\n",
      "Golden State Warriors\n",
      "\n",
      "Los Angeles Lakers\n",
      "\n",
      "Houston Rockets\n",
      "\n",
      "Los Angeles Lakers\n",
      "\n"
     ]
    }
   ],
   "source": [
    "for team in players.values():\n",
    "    print(team)\n",
    "    print()"
   ]
  },
  {
   "cell_type": "markdown",
   "metadata": {},
   "source": [
    "* 使用set()刪除重複的value"
   ]
  },
  {
   "cell_type": "code",
   "execution_count": 3,
   "metadata": {},
   "outputs": [
    {
     "name": "stdout",
     "output_type": "stream",
     "text": [
      "Houston Rockets\n",
      "\n",
      "Golden State Warriors\n",
      "\n",
      "Los Angeles Lakers\n",
      "\n"
     ]
    }
   ],
   "source": [
    "for team in set(players.values()):\n",
    "    print(team)\n",
    "    print()"
   ]
  },
  {
   "cell_type": "markdown",
   "metadata": {},
   "source": [
    "# 依值排序與遍歷字典的值"
   ]
  },
  {
   "cell_type": "code",
   "execution_count": 4,
   "metadata": {},
   "outputs": [],
   "source": [
    "noodles = {'牛肉麵':100, '肉絲麵':80, '陽春麵':60, '大滷麵':90, '麻醬麵':70}"
   ]
  },
  {
   "cell_type": "code",
   "execution_count": 5,
   "metadata": {},
   "outputs": [
    {
     "name": "stdout",
     "output_type": "stream",
     "text": [
      "{'牛肉麵': 100, '肉絲麵': 80, '陽春麵': 60, '大滷麵': 90, '麻醬麵': 70}\n"
     ]
    }
   ],
   "source": [
    "print(noodles)"
   ]
  },
  {
   "cell_type": "code",
   "execution_count": 6,
   "metadata": {},
   "outputs": [
    {
     "name": "stdout",
     "output_type": "stream",
     "text": [
      "[('陽春麵', 60), ('麻醬麵', 70), ('肉絲麵', 80), ('大滷麵', 90), ('牛肉麵', 100)]\n"
     ]
    }
   ],
   "source": [
    "noodlesLst = sorted(noodles.items(), key=lambda item:item[1])\n",
    "print(noodlesLst)"
   ]
  }
 ],
 "metadata": {
  "kernelspec": {
   "display_name": "Python 3",
   "language": "python",
   "name": "python3"
  },
  "language_info": {
   "codemirror_mode": {
    "name": "ipython",
    "version": 3
   },
   "file_extension": ".py",
   "mimetype": "text/x-python",
   "name": "python",
   "nbconvert_exporter": "python",
   "pygments_lexer": "ipython3",
   "version": "3.6.8"
  }
 },
 "nbformat": 4,
 "nbformat_minor": 4
}
