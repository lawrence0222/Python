{
 "cells": [
  {
   "cell_type": "markdown",
   "metadata": {},
   "source": [
    "# 通訊錄"
   ]
  },
  {
   "cell_type": "code",
   "execution_count": 4,
   "metadata": {},
   "outputs": [
    {
     "name": "stdout",
     "output_type": "stream",
     "text": [
      "======================我的通訊錄=======================\n",
      "蔡鎮陽：台北市士林區\n",
      "王小明：台北市大安區\n",
      "陳小美：台南市安平區\n"
     ]
    },
    {
     "name": "stdin",
     "output_type": "stream",
     "text": [
      "1:新增 2:編輯 3:刪除 4:結束 我\n"
     ]
    },
    {
     "name": "stdout",
     "output_type": "stream",
     "text": [
      "輸入錯誤\n"
     ]
    },
    {
     "name": "stdin",
     "output_type": "stream",
     "text": [
      "1:新增 2:編輯 3:刪除 4:結束 哈\n"
     ]
    },
    {
     "name": "stdout",
     "output_type": "stream",
     "text": [
      "輸入錯誤\n"
     ]
    },
    {
     "name": "stdin",
     "output_type": "stream",
     "text": [
      "1:新增 2:編輯 3:刪除 4:結束 1\n",
      "姓名： 鄭小姐\n",
      "地址： 高雄左營\n"
     ]
    },
    {
     "name": "stdout",
     "output_type": "stream",
     "text": [
      "新增成功!!!\n"
     ]
    },
    {
     "name": "stdin",
     "output_type": "stream",
     "text": [
      "1:新增 2:編輯 3:刪除 4:結束 2\n",
      "請輸入要修改的姓名： 王小明\n",
      "王小明的新地址： 三盧地區\n"
     ]
    },
    {
     "name": "stdout",
     "output_type": "stream",
     "text": [
      "修改成功!!!\n"
     ]
    },
    {
     "name": "stdin",
     "output_type": "stream",
     "text": [
      "1:新增 2:編輯 3:刪除 4:結束 3\n",
      "請輸入要刪除的姓名： 老王\n"
     ]
    },
    {
     "name": "stdout",
     "output_type": "stream",
     "text": [
      "通訊錄無此人\n"
     ]
    },
    {
     "name": "stdin",
     "output_type": "stream",
     "text": [
      "1:新增 2:編輯 3:刪除 4:結束 4\n"
     ]
    },
    {
     "name": "stdout",
     "output_type": "stream",
     "text": [
      "結束\n",
      "======================我的通訊錄=======================\n",
      "蔡鎮陽：台北市士林區\n",
      "王小明：三盧地區\n",
      "陳小美：台南市安平區\n",
      "鄭小姐：高雄左營\n"
     ]
    }
   ],
   "source": [
    "address_dict = {\n",
    "    '蔡鎮陽':'台北市士林區',\n",
    "    '王小明':'台北市大安區',\n",
    "    '陳小美':'台南市安平區'\n",
    "}\n",
    "print(\"我的通訊錄\".center(50, '='))\n",
    "for name, location in address_dict.items():\n",
    "    print(name + '：' + location)\n",
    "    \n",
    "msg = '1:新增 2:編輯 3:刪除 4:結束'\n",
    "\n",
    "while True:\n",
    "    selection = input(msg)\n",
    "    \n",
    "    if selection == '1':\n",
    "        name = input('姓名：')\n",
    "        location = input('地址：')\n",
    "        address_dict[name] = location\n",
    "        print('新增成功!!!')\n",
    "    elif selection == '2':\n",
    "        name = input('請輸入要修改的姓名：')\n",
    "        if name not in address_dict:\n",
    "            print('通訊錄無此人')\n",
    "            continue\n",
    "        location = input(name +'的新地址：')\n",
    "        address_dict[name] = location\n",
    "        print('修改成功!!!')\n",
    "    elif selection == '3':\n",
    "        name = input('請輸入要刪除的姓名：')\n",
    "        if name not in address_dict:\n",
    "            print('通訊錄無此人')\n",
    "            continue\n",
    "        del address_dict[name]\n",
    "        print('刪除成功')\n",
    "    elif selection == '4':\n",
    "        print('結束')\n",
    "        print(\"我的通訊錄\".center(50, '='))\n",
    "        for name, location in address_dict.items():\n",
    "            print(name + '：' + location)\n",
    "        break\n",
    "    else:\n",
    "        print('輸入錯誤')"
   ]
  }
 ],
 "metadata": {
  "kernelspec": {
   "display_name": "Python 3",
   "language": "python",
   "name": "python3"
  },
  "language_info": {
   "codemirror_mode": {
    "name": "ipython",
    "version": 3
   },
   "file_extension": ".py",
   "mimetype": "text/x-python",
   "name": "python",
   "nbconvert_exporter": "python",
   "pygments_lexer": "ipython3",
   "version": "3.6.8"
  }
 },
 "nbformat": 4,
 "nbformat_minor": 4
}
