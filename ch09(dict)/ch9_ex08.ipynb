{
 "cells": [
  {
   "cell_type": "markdown",
   "metadata": {},
   "source": [
    "# 列印出ch9_31中出現最多次的單字"
   ]
  },
  {
   "cell_type": "code",
   "execution_count": 1,
   "metadata": {},
   "outputs": [],
   "source": [
    "falling = '''\n",
    "My last made me feel like I would never try again\n",
    "But when I saw you, I felt something I never felt\n",
    "Come closer, I'll give you all my love\n",
    "If you treat me right, baby, I'll give you everything\n",
    "My last made me feel like I would never try again\n",
    "But when I saw you, I felt something I never felt\n",
    "Come closer, I'll give you all my love\n",
    "If you treat me right, baby, I'll give you everything\n",
    "Talk to me, I need to hear you need me like I need you\n",
    "Fall for me, I wanna know you feel how I feel for you, love\n",
    "Before you, baby, I was numb, drown the pain by pouring up\n",
    "Speeding fast on the run, never want to get caught up\n",
    "Now you the one that I'm calling\n",
    "Swore that I'd never forget, don't think I'm just talking\n",
    "I think I might go all in, no exceptions, girl, I need ya\n",
    "Feeling like I'm out of my mind, 'cause I can't get enough\n",
    "Only one that I give my time, 'cause I got time for ya\n",
    "Might make an exception for ya, 'cause I been feeling ya\n",
    "Think I might be out of my mind, I think that you're the one\n",
    "My last made me feel like I would never try again\n",
    "But when I saw you, I felt something I never felt\n",
    "Come closer, I'll give you all my love\n",
    "If you treat me right, baby, I'll give you everything\n",
    "My last made me feel like I would never try again\n",
    "But when I saw you, I felt something I never felt\n",
    "Come closer, I'll give you all my love\n",
    "If you treat me right, baby, I'll give you everything\n",
    "I'll never give my all again\n",
    "'Cause I'm sick of falling down\n",
    "When I open up and give my trust\n",
    "They find a way to break it down\n",
    "Tear me up inside, and you break me down\n",
    "'''\n",
    "\n",
    "#用空字元取代標點符號\n",
    "for ch in falling:\n",
    "    if ch in \",.?'\":\n",
    "        falling = falling.replace(ch,' ')\n",
    "\n",
    "falling_list = falling.split()\n",
    "\n",
    "# 串列生成式\n",
    "falling_dict = {word:falling_list.count(word) for word in falling_list}"
   ]
  },
  {
   "cell_type": "code",
   "execution_count": 2,
   "metadata": {},
   "outputs": [
    {
     "name": "stdout",
     "output_type": "stream",
     "text": [
      "I 45\n"
     ]
    }
   ],
   "source": [
    "most_appear = max(falling_dict.values())\n",
    "for wd, time in falling_dict.items():\n",
    "    if time == most_appear:\n",
    "        print(wd, time)"
   ]
  }
 ],
 "metadata": {
  "kernelspec": {
   "display_name": "Python 3",
   "language": "python",
   "name": "python3"
  },
  "language_info": {
   "codemirror_mode": {
    "name": "ipython",
    "version": 3
   },
   "file_extension": ".py",
   "mimetype": "text/x-python",
   "name": "python",
   "nbconvert_exporter": "python",
   "pygments_lexer": "ipython3",
   "version": "3.6.8"
  }
 },
 "nbformat": 4,
 "nbformat_minor": 4
}
