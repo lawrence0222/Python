{
 "cells": [
  {
   "cell_type": "markdown",
   "metadata": {},
   "source": [
    "# 大數據資料與集合的應用\n",
    "使用set()函數，就能快速的將重複資料排除"
   ]
  },
  {
   "cell_type": "code",
   "execution_count": 2,
   "metadata": {},
   "outputs": [],
   "source": [
    "fruits1 = ['apple', 'banana', 'apple', 'orange', 'banana']\n",
    "x = set(fruits1)\n",
    "fruits2 = list(x)"
   ]
  },
  {
   "cell_type": "code",
   "execution_count": 3,
   "metadata": {},
   "outputs": [
    {
     "name": "stdout",
     "output_type": "stream",
     "text": [
      "原先串列fruits1資料 =  ['apple', 'banana', 'apple', 'orange', 'banana']\n",
      "新的串列fruits2資料 =  ['apple', 'banana', 'orange']\n"
     ]
    }
   ],
   "source": [
    "print(\"原先串列fruits1資料 = \", fruits1)\n",
    "print(\"新的串列fruits2資料 = \", fruits2)"
   ]
  }
 ],
 "metadata": {
  "kernelspec": {
   "display_name": "Python 3",
   "language": "python",
   "name": "python3"
  },
  "language_info": {
   "codemirror_mode": {
    "name": "ipython",
    "version": 3
   },
   "file_extension": ".py",
   "mimetype": "text/x-python",
   "name": "python",
   "nbconvert_exporter": "python",
   "pygments_lexer": "ipython3",
   "version": "3.6.8"
  }
 },
 "nbformat": 4,
 "nbformat_minor": 4
}
