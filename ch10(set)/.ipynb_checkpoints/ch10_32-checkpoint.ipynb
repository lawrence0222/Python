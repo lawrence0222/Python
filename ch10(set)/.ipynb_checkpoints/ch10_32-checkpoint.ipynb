{
 "cells": [
  {
   "cell_type": "markdown",
   "metadata": {},
   "source": [
    "# intersection_update()\n",
    "此方法將回傳集合的交集"
   ]
  },
  {
   "cell_type": "code",
   "execution_count": 1,
   "metadata": {},
   "outputs": [],
   "source": [
    "A = {'a', 'b', 'c', 'b'}\n",
    "B = {'a', 'k', 'c'}\n",
    "C = {'c', 'f', 'w'}"
   ]
  },
  {
   "cell_type": "code",
   "execution_count": 2,
   "metadata": {},
   "outputs": [
    {
     "name": "stdout",
     "output_type": "stream",
     "text": [
      "None\n",
      "{'a', 'c'}\n",
      "{'a', 'k', 'c'}\n"
     ]
    }
   ],
   "source": [
    "ret_value = A.intersection_update(B) #傳回值是None\n",
    "print(ret_value)\n",
    "print(A)  #A變為A跟B的交集\n",
    "print(B)"
   ]
  },
  {
   "cell_type": "code",
   "execution_count": 3,
   "metadata": {},
   "outputs": [
    {
     "name": "stdout",
     "output_type": "stream",
     "text": [
      "None\n",
      "{'c'}\n",
      "{'a', 'k', 'c'}\n",
      "{'f', 'w', 'c'}\n"
     ]
    }
   ],
   "source": [
    "ret_value = A.intersection_update(B, C)\n",
    "print(ret_value)\n",
    "print(A)  #A變為A跟B跟C的交集\n",
    "print(B)\n",
    "print(C)"
   ]
  }
 ],
 "metadata": {
  "kernelspec": {
   "display_name": "Python 3",
   "language": "python",
   "name": "python3"
  },
  "language_info": {
   "codemirror_mode": {
    "name": "ipython",
    "version": 3
   },
   "file_extension": ".py",
   "mimetype": "text/x-python",
   "name": "python",
   "nbconvert_exporter": "python",
   "pygments_lexer": "ipython3",
   "version": "3.6.8"
  }
 },
 "nbformat": 4,
 "nbformat_minor": 4
}
