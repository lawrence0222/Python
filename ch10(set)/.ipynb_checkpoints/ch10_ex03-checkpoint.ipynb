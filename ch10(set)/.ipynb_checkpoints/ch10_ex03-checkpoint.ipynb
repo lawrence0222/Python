{
 "cells": [
  {
   "cell_type": "code",
   "execution_count": 1,
   "metadata": {},
   "outputs": [],
   "source": [
    "Math = {'Peter', 'Norton', 'Kevin', 'Mary', 'John', 'Ford', 'Nelson', 'Damon', 'Ivan', 'Tom'}\n",
    "Computer = {'Curry', 'James', 'Mary', 'Turisa', 'Tracy', 'Judy', 'Lee', 'Jarmul', 'Damon', 'Ivan'}\n",
    "Physics = {'Eric', 'Lee', 'Kevin', 'Mary', 'Christy', 'John', 'Nelson', 'Kazil', 'Linda', 'Tom'}"
   ]
  },
  {
   "cell_type": "code",
   "execution_count": 6,
   "metadata": {},
   "outputs": [
    {
     "name": "stdout",
     "output_type": "stream",
     "text": [
      "<class 'set'>\n"
     ]
    }
   ],
   "source": [
    "a = Math & Computer & Physics\n",
    "print(type(a))"
   ]
  },
  {
   "cell_type": "code",
   "execution_count": 5,
   "metadata": {},
   "outputs": [
    {
     "name": "stdout",
     "output_type": "stream",
     "text": [
      "同時參加三個夏令營的名單： {'Mary'}\n"
     ]
    }
   ],
   "source": [
    "print(\"同時參加三個夏令營的名單：\", a)"
   ]
  },
  {
   "cell_type": "code",
   "execution_count": 8,
   "metadata": {},
   "outputs": [
    {
     "name": "stdout",
     "output_type": "stream",
     "text": [
      "<class 'set'>\n"
     ]
    }
   ],
   "source": [
    "b = Math & Computer\n",
    "print(type(b))"
   ]
  },
  {
   "cell_type": "code",
   "execution_count": 9,
   "metadata": {},
   "outputs": [
    {
     "name": "stdout",
     "output_type": "stream",
     "text": [
      "同時參加Math和Computer夏令營的名單： {'Mary', 'Ivan', 'Damon'}\n"
     ]
    }
   ],
   "source": [
    "print(\"同時參加Math和Computer夏令營的名單：\", b)"
   ]
  },
  {
   "cell_type": "code",
   "execution_count": 10,
   "metadata": {},
   "outputs": [
    {
     "name": "stdout",
     "output_type": "stream",
     "text": [
      "<class 'set'>\n"
     ]
    }
   ],
   "source": [
    "c = Math & Physics\n",
    "print(type(c))"
   ]
  },
  {
   "cell_type": "code",
   "execution_count": 11,
   "metadata": {},
   "outputs": [
    {
     "name": "stdout",
     "output_type": "stream",
     "text": [
      "同時參加Math和Physics夏令營的名單： {'Mary', 'John', 'Tom', 'Kevin', 'Nelson'}\n"
     ]
    }
   ],
   "source": [
    "print(\"同時參加Math和Physics夏令營的名單：\", c)"
   ]
  },
  {
   "cell_type": "code",
   "execution_count": 12,
   "metadata": {},
   "outputs": [
    {
     "name": "stdout",
     "output_type": "stream",
     "text": [
      "<class 'set'>\n"
     ]
    }
   ],
   "source": [
    "d = Computer & Physics\n",
    "print(type(d))"
   ]
  },
  {
   "cell_type": "code",
   "execution_count": 13,
   "metadata": {},
   "outputs": [
    {
     "name": "stdout",
     "output_type": "stream",
     "text": [
      "同時參加Computer和Physics夏令營的名單： {'Mary', 'Lee'}\n"
     ]
    }
   ],
   "source": [
    "print(\"同時參加Computer和Physics夏令營的名單：\", d)"
   ]
  }
 ],
 "metadata": {
  "kernelspec": {
   "display_name": "Python 3",
   "language": "python",
   "name": "python3"
  },
  "language_info": {
   "codemirror_mode": {
    "name": "ipython",
    "version": 3
   },
   "file_extension": ".py",
   "mimetype": "text/x-python",
   "name": "python",
   "nbconvert_exporter": "python",
   "pygments_lexer": "ipython3",
   "version": "3.6.8"
  }
 },
 "nbformat": 4,
 "nbformat_minor": 4
}
