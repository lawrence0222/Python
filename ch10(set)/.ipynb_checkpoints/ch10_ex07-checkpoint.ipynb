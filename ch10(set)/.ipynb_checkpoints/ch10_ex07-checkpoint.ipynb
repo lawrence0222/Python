{
 "cells": [
  {
   "cell_type": "code",
   "execution_count": 3,
   "metadata": {},
   "outputs": [],
   "source": [
    "cocktail = {\n",
    "    'Blue Hawaiian': {'rum','sweet wine','coconut cream','pineapple juice','lemon juice'},\n",
    "    'Ginger Mojito': {'rum','ginger','mint leaves','lime juice','ginger soda'},\n",
    "    'New Yorker': {'whiskey','red wine','lemon juice','sugar syrup'},\n",
    "    'Bloody Mary': {'vodka','lemon juice','tomato juice','tabasco','little salt'},\n",
    "    \"Horse's Neck\": {'brandy','ginger soda'},\n",
    "    'Cosmopolitan': {'vodka','sweet wine','lime juice','cranberry juice'},\n",
    "    'Sex on the Beach': {'vodka','peach liqueur','orange juice','cranberry juice'}\n",
    "    }"
   ]
  },
  {
   "cell_type": "code",
   "execution_count": 4,
   "metadata": {},
   "outputs": [
    {
     "name": "stdout",
     "output_type": "stream",
     "text": [
      "Bloody Mary\n",
      "Cosmopolitan\n",
      "Sex on the Beach\n"
     ]
    }
   ],
   "source": [
    "for name, formulas in cocktail.items():\n",
    "    if 'vodka' in formulas:\n",
    "        print(name)"
   ]
  },
  {
   "cell_type": "code",
   "execution_count": 5,
   "metadata": {},
   "outputs": [
    {
     "name": "stdout",
     "output_type": "stream",
     "text": [
      "Blue Hawaiian\n",
      "Cosmopolitan\n"
     ]
    }
   ],
   "source": [
    "for name, formulas in cocktail.items():\n",
    "    if 'sweet wine' in formulas:\n",
    "        print(name)"
   ]
  },
  {
   "cell_type": "code",
   "execution_count": 6,
   "metadata": {},
   "outputs": [
    {
     "name": "stdout",
     "output_type": "stream",
     "text": [
      "Cosmopolitan\n",
      "Sex on the Beach\n"
     ]
    }
   ],
   "source": [
    "for name, formulas in cocktail.items():\n",
    "    if 'vodka' in formulas and 'cranberry juice' in formulas:\n",
    "        print(name)"
   ]
  },
  {
   "cell_type": "code",
   "execution_count": 7,
   "metadata": {},
   "outputs": [
    {
     "name": "stdout",
     "output_type": "stream",
     "text": [
      "Bloody Mary\n"
     ]
    }
   ],
   "source": [
    "for name, formulas in cocktail.items():\n",
    "    if 'vodka' in formulas and 'cranberry juice' not in formulas:\n",
    "        print(name)"
   ]
  }
 ],
 "metadata": {
  "kernelspec": {
   "display_name": "Python 3",
   "language": "python",
   "name": "python3"
  },
  "language_info": {
   "codemirror_mode": {
    "name": "ipython",
    "version": 3
   },
   "file_extension": ".py",
   "mimetype": "text/x-python",
   "name": "python",
   "nbconvert_exporter": "python",
   "pygments_lexer": "ipython3",
   "version": "3.6.8"
  }
 },
 "nbformat": 4,
 "nbformat_minor": 4
}
