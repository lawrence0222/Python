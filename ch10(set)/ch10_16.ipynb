{
 "cells": [
  {
   "cell_type": "markdown",
   "metadata": {},
   "source": [
    "# 對稱差集(symmetric difference)\n",
    "* 符號：' ^ '"
   ]
  },
  {
   "cell_type": "code",
   "execution_count": 1,
   "metadata": {},
   "outputs": [],
   "source": [
    "math = {'Kevin', 'Peter', 'Eric'}\n",
    "physics = {'Peter', 'Nelson', 'Tom'}"
   ]
  },
  {
   "cell_type": "code",
   "execution_count": 2,
   "metadata": {},
   "outputs": [
    {
     "name": "stdout",
     "output_type": "stream",
     "text": [
      "{'Eric', 'Nelson', 'Kevin', 'Tom'}\n"
     ]
    }
   ],
   "source": [
    "#沒有同時參加數學和物理夏令營的成員\n",
    "math_sydi_physics = math ^ physics\n",
    "print(math_sydi_physics)"
   ]
  }
 ],
 "metadata": {
  "kernelspec": {
   "display_name": "Python 3",
   "language": "python",
   "name": "python3"
  },
  "language_info": {
   "codemirror_mode": {
    "name": "ipython",
    "version": 3
   },
   "file_extension": ".py",
   "mimetype": "text/x-python",
   "name": "python",
   "nbconvert_exporter": "python",
   "pygments_lexer": "ipython3",
   "version": "3.6.8"
  }
 },
 "nbformat": 4,
 "nbformat_minor": 4
}
