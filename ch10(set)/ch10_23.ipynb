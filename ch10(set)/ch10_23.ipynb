{
 "cells": [
  {
   "cell_type": "markdown",
   "metadata": {},
   "source": [
    "# copy()"
   ]
  },
  {
   "cell_type": "code",
   "execution_count": 2,
   "metadata": {},
   "outputs": [],
   "source": [
    "#賦值與淺拷貝的比較\n",
    "numset = {1, 2, 3}\n",
    "deep_numset = numset"
   ]
  },
  {
   "cell_type": "code",
   "execution_count": 3,
   "metadata": {},
   "outputs": [
    {
     "name": "stdout",
     "output_type": "stream",
     "text": [
      "{10, 1, 2, 3}\n",
      "{10, 1, 2, 3}\n"
     ]
    }
   ],
   "source": [
    "#賦值\n",
    "deep_numset.add(10)\n",
    "print(numset)\n",
    "print(deep_numset)"
   ]
  },
  {
   "cell_type": "code",
   "execution_count": 4,
   "metadata": {},
   "outputs": [
    {
     "name": "stdout",
     "output_type": "stream",
     "text": [
      "{10, 1, 2, 3}\n",
      "{1, 2, 3, 100, 10}\n"
     ]
    }
   ],
   "source": [
    "#淺拷貝\n",
    "shallow_numset = numset.copy()\n",
    "shallow_numset.add(100)\n",
    "print(numset)\n",
    "print(shallow_numset)"
   ]
  }
 ],
 "metadata": {
  "kernelspec": {
   "display_name": "Python 3",
   "language": "python",
   "name": "python3"
  },
  "language_info": {
   "codemirror_mode": {
    "name": "ipython",
    "version": 3
   },
   "file_extension": ".py",
   "mimetype": "text/x-python",
   "name": "python",
   "nbconvert_exporter": "python",
   "pygments_lexer": "ipython3",
   "version": "3.6.8"
  }
 },
 "nbformat": 4,
 "nbformat_minor": 4
}
