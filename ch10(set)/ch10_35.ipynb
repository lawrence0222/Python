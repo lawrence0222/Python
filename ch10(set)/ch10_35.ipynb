{
 "cells": [
  {
   "cell_type": "markdown",
   "metadata": {},
   "source": [
    "# symmetric_difference_update()\n",
    "將集合修改為與另一集合的對稱差集"
   ]
  },
  {
   "cell_type": "code",
   "execution_count": 1,
   "metadata": {},
   "outputs": [],
   "source": [
    "cars1 = {'Audi', 'Ford', 'Toyota'}\n",
    "cars2 = {'Nissan', 'Toyota'}"
   ]
  },
  {
   "cell_type": "code",
   "execution_count": 2,
   "metadata": {},
   "outputs": [
    {
     "name": "stdout",
     "output_type": "stream",
     "text": [
      "{'Toyota', 'Audi', 'Ford'}\n",
      "{'Nissan', 'Toyota'}\n"
     ]
    }
   ],
   "source": [
    "print(cars1)\n",
    "print(cars2)"
   ]
  },
  {
   "cell_type": "code",
   "execution_count": 3,
   "metadata": {},
   "outputs": [
    {
     "name": "stdout",
     "output_type": "stream",
     "text": [
      "{'Audi', 'Nissan', 'Ford'}\n",
      "{'Nissan', 'Toyota'}\n"
     ]
    }
   ],
   "source": [
    "cars1.symmetric_difference_update(cars2)\n",
    "print(cars1)\n",
    "print(cars2)"
   ]
  }
 ],
 "metadata": {
  "kernelspec": {
   "display_name": "Python 3",
   "language": "python",
   "name": "python3"
  },
  "language_info": {
   "codemirror_mode": {
    "name": "ipython",
    "version": 3
   },
   "file_extension": ".py",
   "mimetype": "text/x-python",
   "name": "python",
   "nbconvert_exporter": "python",
   "pygments_lexer": "ipython3",
   "version": "3.6.8"
  }
 },
 "nbformat": 4,
 "nbformat_minor": 4
}
