{
 "cells": [
  {
   "cell_type": "code",
   "execution_count": 3,
   "metadata": {},
   "outputs": [],
   "source": [
    "students = {'Peter', 'Norton', 'Kevin', 'Mary', 'John',\n",
    "            'Ford', 'Nelson', 'Damon', 'Ivan', 'Tom'\n",
    "           }"
   ]
  },
  {
   "cell_type": "code",
   "execution_count": 4,
   "metadata": {},
   "outputs": [],
   "source": [
    "Math = {'Peter', 'Kevin', 'Damon'}\n",
    "Physics = {'Nelson', 'Damon', 'Tom'}"
   ]
  },
  {
   "cell_type": "code",
   "execution_count": 7,
   "metadata": {},
   "outputs": [
    {
     "name": "stdout",
     "output_type": "stream",
     "text": [
      "有5人都參加： {'Peter', 'Nelson', 'Kevin', 'Tom', 'Damon'}\n"
     ]
    }
   ],
   "source": [
    "# 有參加數學和物理夏令營的人\n",
    "All = Math | Physics\n",
    "print(\"有%d人都參加：\" % len(All), All)"
   ]
  },
  {
   "cell_type": "code",
   "execution_count": 8,
   "metadata": {},
   "outputs": [
    {
     "name": "stdout",
     "output_type": "stream",
     "text": [
      "有5人都沒有參加： {'Ivan', 'John', 'Norton', 'Mary', 'Ford'}\n"
     ]
    }
   ],
   "source": [
    "# 都沒有參加夏令營的人\n",
    "unAttend = students - All\n",
    "print(\"有%d人都沒有參加：\" % len(unAttend), unAttend)"
   ]
  }
 ],
 "metadata": {
  "kernelspec": {
   "display_name": "Python 3",
   "language": "python",
   "name": "python3"
  },
  "language_info": {
   "codemirror_mode": {
    "name": "ipython",
    "version": 3
   },
   "file_extension": ".py",
   "mimetype": "text/x-python",
   "name": "python",
   "nbconvert_exporter": "python",
   "pygments_lexer": "ipython3",
   "version": "3.6.8"
  }
 },
 "nbformat": 4,
 "nbformat_minor": 4
}
