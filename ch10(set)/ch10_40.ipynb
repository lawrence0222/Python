{
 "cells": [
  {
   "cell_type": "code",
   "execution_count": 11,
   "metadata": {},
   "outputs": [],
   "source": [
    "# 使用集合觀念重新設計ch9_32\n",
    "word = 'deepstone'\n",
    "alphabetcount = {alphabet:word.count(alphabet) for alphabet in word}"
   ]
  },
  {
   "cell_type": "code",
   "execution_count": 12,
   "metadata": {},
   "outputs": [
    {
     "name": "stdout",
     "output_type": "stream",
     "text": [
      "<class 'dict'>\n",
      "{'d': 1, 'e': 3, 'p': 1, 's': 1, 't': 1, 'o': 1, 'n': 1}\n"
     ]
    }
   ],
   "source": [
    "print(type(alphabetcount))\n",
    "print(alphabetcount)"
   ]
  },
  {
   "cell_type": "code",
   "execution_count": 13,
   "metadata": {},
   "outputs": [
    {
     "name": "stdout",
     "output_type": "stream",
     "text": [
      "<class 'dict'>\n",
      "{'d': 1, 'e': 3, 't': 1, 'o': 1, 'n': 1, 's': 1, 'p': 1}\n"
     ]
    }
   ],
   "source": [
    "alphabetcount = {alphabet:word.count(alphabet) for alphabet in set(word)}\n",
    "print(type(alphabetcount))\n",
    "print(alphabetcount)"
   ]
  }
 ],
 "metadata": {
  "kernelspec": {
   "display_name": "Python 3",
   "language": "python",
   "name": "python3"
  },
  "language_info": {
   "codemirror_mode": {
    "name": "ipython",
    "version": 3
   },
   "file_extension": ".py",
   "mimetype": "text/x-python",
   "name": "python",
   "nbconvert_exporter": "python",
   "pygments_lexer": "ipython3",
   "version": "3.6.8"
  }
 },
 "nbformat": 4,
 "nbformat_minor": 4
}
