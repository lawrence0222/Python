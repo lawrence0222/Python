{
 "cells": [
  {
   "cell_type": "code",
   "execution_count": 1,
   "metadata": {},
   "outputs": [],
   "source": [
    "cocktail = {\n",
    "    'Blue Hawaiian': {'rum','sweet wine','coconut cream','pineapple juice','lemon juice'},\n",
    "    'Ginger Mojito': {'rum','ginger','mint leaves','lime juice','ginger soda'},\n",
    "    'New Yorker': {'whiskey','red wine','lemon juice','sugar syrup'},\n",
    "    'Bloody Mary': {'vodka','lemon juice','tomato juice','tabasco','little salt'}\n",
    "    }"
   ]
  },
  {
   "cell_type": "code",
   "execution_count": 2,
   "metadata": {},
   "outputs": [
    {
     "name": "stdout",
     "output_type": "stream",
     "text": [
      "Bloody Mary\n"
     ]
    }
   ],
   "source": [
    "#含有伏特加的酒\n",
    "for name, formulas in cocktail.items():\n",
    "    if 'vodka' in formulas:\n",
    "        print(name)"
   ]
  },
  {
   "cell_type": "code",
   "execution_count": 3,
   "metadata": {},
   "outputs": [
    {
     "name": "stdout",
     "output_type": "stream",
     "text": [
      "Blue Hawaiian\n",
      "New Yorker\n",
      "Bloody Mary\n"
     ]
    }
   ],
   "source": [
    "#含有檸檬汁的酒\n",
    "for name, formulas in cocktail.items():\n",
    "    if 'lemon juice' in formulas:\n",
    "        print(name)"
   ]
  },
  {
   "cell_type": "code",
   "execution_count": 6,
   "metadata": {},
   "outputs": [
    {
     "name": "stdout",
     "output_type": "stream",
     "text": [
      "Blue Hawaiian\n"
     ]
    }
   ],
   "source": [
    "#含有蘭姆酒但沒有薑的酒\n",
    "for name, formulas in cocktail.items():\n",
    "    if 'rum' in formulas and 'ginger' not in formulas:\n",
    "        print(name)"
   ]
  },
  {
   "cell_type": "code",
   "execution_count": 8,
   "metadata": {},
   "outputs": [
    {
     "name": "stdout",
     "output_type": "stream",
     "text": [
      "Blue Hawaiian\n",
      "New Yorker\n"
     ]
    }
   ],
   "source": [
    "#含有檸檬汁但是沒有奶或是Tabasco的酒\n",
    "for name, formulas in cocktail.items():\n",
    "    if 'lemon juice' in formulas and not formulas & {'Cream', 'tabasco'}:\n",
    "        print(name)"
   ]
  }
 ],
 "metadata": {
  "kernelspec": {
   "display_name": "Python 3",
   "language": "python",
   "name": "python3"
  },
  "language_info": {
   "codemirror_mode": {
    "name": "ipython",
    "version": 3
   },
   "file_extension": ".py",
   "mimetype": "text/x-python",
   "name": "python",
   "nbconvert_exporter": "python",
   "pygments_lexer": "ipython3",
   "version": "3.6.8"
  }
 },
 "nbformat": 4,
 "nbformat_minor": 4
}
