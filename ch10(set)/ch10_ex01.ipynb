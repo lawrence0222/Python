{
 "cells": [
  {
   "cell_type": "code",
   "execution_count": 4,
   "metadata": {},
   "outputs": [],
   "source": [
    "article = \"Silicon Stone Education is an unbiased organization,\" + \\\n",
    "          \"concentrated on bridging the gap between academic and the working world in order to benefit society as a whole. \" + \\\n",
    "          \" We have carefully crafted our online certification system and test content databases. \"+ \\\n",
    "          \"The content for each topic is created by experts and is all carefully designed with a comprehensive knowledge to greatly benefit all candidates who participate.\""
   ]
  },
  {
   "cell_type": "code",
   "execution_count": 5,
   "metadata": {},
   "outputs": [
    {
     "name": "stdout",
     "output_type": "stream",
     "text": [
      "Silicon Stone Education is an unbiased organization,concentrated on bridging the gap between academic and the working world in order to benefit society as a whole.  We have carefully crafted our online certification system and test content databases. The content for each topic is created by experts and is all carefully designed with a comprehensive knowledge to greatly benefit all candidates who participate.\n"
     ]
    }
   ],
   "source": [
    "print(article)"
   ]
  },
  {
   "cell_type": "code",
   "execution_count": 8,
   "metadata": {},
   "outputs": [],
   "source": [
    "article_set = set(article)\n",
    "article_list = list(article_set)"
   ]
  },
  {
   "cell_type": "code",
   "execution_count": 10,
   "metadata": {},
   "outputs": [
    {
     "name": "stdout",
     "output_type": "stream",
     "text": [
      "['g', 'z', 'r', 'i', 'd', 's', 'v', 'u', 'n', 'E', 'b', 'l', 'h', ' ', 'e', 'W', 'k', 'w', 'p', 'S', ',', 'x', '.', 'a', 'c', 'y', 't', 'm', 'f', 'o', 'T']\n",
      "<class 'list'>\n"
     ]
    }
   ],
   "source": [
    "print(article_list)\n",
    "print(type(article_list))"
   ]
  }
 ],
 "metadata": {
  "kernelspec": {
   "display_name": "Python 3",
   "language": "python",
   "name": "python3"
  },
  "language_info": {
   "codemirror_mode": {
    "name": "ipython",
    "version": 3
   },
   "file_extension": ".py",
   "mimetype": "text/x-python",
   "name": "python",
   "nbconvert_exporter": "python",
   "pygments_lexer": "ipython3",
   "version": "3.6.8"
  }
 },
 "nbformat": 4,
 "nbformat_minor": 4
}
