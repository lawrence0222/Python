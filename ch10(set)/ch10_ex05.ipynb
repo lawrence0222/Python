{
 "cells": [
  {
   "cell_type": "code",
   "execution_count": 1,
   "metadata": {},
   "outputs": [],
   "source": [
    "zen = '''\n",
    "The Zen of Python, by Tim Peters\n",
    "\n",
    "Beautiful is better than ugly.\n",
    "Explicit is better than implicit.\n",
    "Simple is better than complex.\n",
    "Complex is better than complicated.\n",
    "Flat is better than nested.\n",
    "Sparse is better than dense.\n",
    "Readability counts.\n",
    "Special cases aren't special enough to break the rules.\n",
    "Although practicality beats purity.\n",
    "Errors should never pass silently.\n",
    "Unless explicitly silenced.\n",
    "In the face of ambiguity, refuse the temptation to guess.\n",
    "There should be one-- and preferably only one --obvious way to do it.\n",
    "Although that way may not be obvious at first unless you're Dutch.\n",
    "Now is better than never.\n",
    "Although never is often better than *right* now.\n",
    "If the implementation is hard to explain, it's a bad idea.\n",
    "If the implementation is easy to explain, it may be a good idea.\n",
    "Namespaces are one honking great idea -- let's do more of those!\n",
    "'''"
   ]
  },
  {
   "cell_type": "code",
   "execution_count": 2,
   "metadata": {},
   "outputs": [],
   "source": [
    "#用空字元取代標點符號\n",
    "for ch in zen:\n",
    "    if ch in \",.?'!*-\":\n",
    "        zen = zen.replace(ch,' ')\n",
    "\n",
    "zen_list = zen.split()\n",
    "\n",
    "# 串列生成式\n",
    "zen_dict = {word:zen_list.count(word) for word in set(zen_list)}"
   ]
  },
  {
   "cell_type": "code",
   "execution_count": 3,
   "metadata": {},
   "outputs": [
    {
     "name": "stdout",
     "output_type": "stream",
     "text": [
      "[('Sparse', 1), ('at', 1), ('aren', 1), ('now', 1), ('purity', 1), ('Now', 1), ('often', 1), ('break', 1), ('not', 1), ('let', 1), ('great', 1), ('face', 1), ('honking', 1), ('Unless', 1), ('temptation', 1), ('silenced', 1), ('re', 1), ('complicated', 1), ('guess', 1), ('explicitly', 1), ('hard', 1), ('preferably', 1), ('by', 1), ('and', 1), ('good', 1), ('Zen', 1), ('you', 1), ('cases', 1), ('Python', 1), ('dense', 1), ('unless', 1), ('rules', 1), ('only', 1), ('beats', 1), ('Simple', 1), ('Tim', 1), ('easy', 1), ('Peters', 1), ('counts', 1), ('complex', 1), ('ambiguity', 1), ('those', 1), ('Dutch', 1), ('silently', 1), ('first', 1), ('enough', 1), ('special', 1), ('ugly', 1), ('are', 1), ('practicality', 1), ('Complex', 1), ('Flat', 1), ('refuse', 1), ('Namespaces', 1), ('There', 1), ('Special', 1), ('nested', 1), ('pass', 1), ('t', 1), ('Explicit', 1), ('In', 1), ('that', 1), ('bad', 1), ('more', 1), ('Errors', 1), ('implicit', 1), ('Readability', 1), ('right', 1), ('Beautiful', 1), ('The', 1), ('way', 2), ('may', 2), ('a', 2), ('implementation', 2), ('do', 2), ('should', 2), ('explain', 2), ('obvious', 2), ('If', 2), ('s', 2), ('idea', 3), ('be', 3), ('never', 3), ('one', 3), ('it', 3), ('Although', 3), ('of', 3), ('to', 5), ('the', 5), ('better', 8), ('than', 8), ('is', 10)]\n"
     ]
    }
   ],
   "source": [
    "zen_dictLst = sorted(zen_dict.items(), key=lambda item:item[1])\n",
    "print(zen_dictLst)"
   ]
  }
 ],
 "metadata": {
  "kernelspec": {
   "display_name": "Python 3",
   "language": "python",
   "name": "python3"
  },
  "language_info": {
   "codemirror_mode": {
    "name": "ipython",
    "version": 3
   },
   "file_extension": ".py",
   "mimetype": "text/x-python",
   "name": "python",
   "nbconvert_exporter": "python",
   "pygments_lexer": "ipython3",
   "version": "3.6.8"
  }
 },
 "nbformat": 4,
 "nbformat_minor": 4
}
