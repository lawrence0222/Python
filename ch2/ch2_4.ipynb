{
 "cells": [
  {
   "cell_type": "code",
   "execution_count": 2,
   "metadata": {},
   "outputs": [
    {
     "name": "stdout",
     "output_type": "stream",
     "text": [
      "圓面積是：(單位是公分)\n",
      "78.53975\n",
      "圓周長是：(單位是公分)\n",
      "31.4159\n"
     ]
    }
   ],
   "source": [
    "#計算圓面積與周長\n",
    "PI = 3.14159\n",
    "r = 5\n",
    "area = 5 ** 2 * PI\n",
    "print(\"圓面積是：(單位是公分)\")\n",
    "print(area)\n",
    "circumference = 5 * 2 * PI\n",
    "print(\"圓周長是：(單位是公分)\")\n",
    "print(circumference)"
   ]
  },
  {
   "cell_type": "code",
   "execution_count": null,
   "metadata": {},
   "outputs": [],
   "source": []
  }
 ],
 "metadata": {
  "kernelspec": {
   "display_name": "Python 3",
   "language": "python",
   "name": "python3"
  },
  "language_info": {
   "name": ""
  }
 },
 "nbformat": 4,
 "nbformat_minor": 4
}
