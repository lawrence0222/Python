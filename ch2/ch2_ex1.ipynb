{
 "cells": [
  {
   "cell_type": "code",
   "execution_count": 1,
   "metadata": {},
   "outputs": [
    {
     "name": "stdout",
     "output_type": "stream",
     "text": [
      "252000\n"
     ]
    }
   ],
   "source": [
    "#使用程式計算每年可以儲存多少錢\n",
    "\n",
    "hourly_salary = 150                          #時薪\n",
    "annual_salary = hourly_salary*8*300          #年薪\n",
    "monthly_fee = 9000                           #月支出                      \n",
    "annual_fee = monthly_fee * 12                #年支出\n",
    "annual_savings = annual_salary - annual_fee  #每年儲存金額\n",
    "print(annual_savings)"
   ]
  },
  {
   "cell_type": "code",
   "execution_count": null,
   "metadata": {},
   "outputs": [],
   "source": []
  }
 ],
 "metadata": {
  "kernelspec": {
   "display_name": "Python 3",
   "language": "python",
   "name": "python3"
  },
  "language_info": {
   "codemirror_mode": {
    "name": "ipython",
    "version": 3
   },
   "file_extension": ".py",
   "mimetype": "text/x-python",
   "name": "python",
   "nbconvert_exporter": "python",
   "pygments_lexer": "ipython3",
   "version": "3.6.8"
  }
 },
 "nbformat": 4,
 "nbformat_minor": 4
}
