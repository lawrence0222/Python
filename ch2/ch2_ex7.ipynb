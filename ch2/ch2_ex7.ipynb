{
 "cells": [
  {
   "cell_type": "code",
   "execution_count": 7,
   "metadata": {},
   "outputs": [
    {
     "name": "stdout",
     "output_type": "stream",
     "text": [
      "(a) 3.339683\n",
      "(b) 2.976046\n",
      "(c) 3.283738\n"
     ]
    }
   ],
   "source": [
    "\"\"\"\n",
    "萊布尼茲公式\n",
    "請分別設計下列級數的執行結果：\n",
    "(a)：PI = 4 * (1 - 1/3 + 1/5 - 1/7 + 1/9)\n",
    "(b)：PI = 4 * (1 - 1/3 + 1/5 - 1/7 + 1/9 - 1/11)\n",
    "(c)：PI = 4 * (1 - 1/3 + 1/5 - 1/7 + 1/9 - 1/11 + 1/13)\n",
    "\"\"\"\n",
    "a = 4 * (1 - 1/3 + 1/5 - 1/7 + 1/9)\n",
    "b = 4 * (1 - 1/3 + 1/5 - 1/7 + 1/9 - 1/11)\n",
    "c = 4 * (1 - 1/3 + 1/5 - 1/7 + 1/9 - 1/11 + 1/13)\n",
    "print(\"(a) {:f}\".format(a))\n",
    "print(\"(b) {:f}\".format(b))\n",
    "print(\"(c) {:f}\".format(c))"
   ]
  },
  {
   "cell_type": "code",
   "execution_count": null,
   "metadata": {},
   "outputs": [],
   "source": []
  }
 ],
 "metadata": {
  "kernelspec": {
   "display_name": "Python 3",
   "language": "python",
   "name": "python3"
  },
  "language_info": {
   "codemirror_mode": {
    "name": "ipython",
    "version": 3
   },
   "file_extension": ".py",
   "mimetype": "text/x-python",
   "name": "python",
   "nbconvert_exporter": "python",
   "pygments_lexer": "ipython3",
   "version": "3.6.8"
  }
 },
 "nbformat": 4,
 "nbformat_minor": 4
}
