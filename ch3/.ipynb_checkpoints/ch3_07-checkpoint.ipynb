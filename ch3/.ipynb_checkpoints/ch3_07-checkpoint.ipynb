{
 "cells": [
  {
   "cell_type": "code",
   "execution_count": 1,
   "metadata": {},
   "outputs": [
    {
     "name": "stdout",
     "output_type": "stream",
     "text": [
      "93\n",
      "0x5d\n"
     ]
    }
   ],
   "source": [
    "\"\"\"\n",
    "16進位整數與函數hex()\n",
    "Python中定義凡是0x開頭的數字，代表這是16進位的整數。\n",
    "hex()函數可以將一般數字轉換為16進位\n",
    "實例：將10進位數值與8進位數值互轉的應用\n",
    "\"\"\"\n",
    "x = 0x5D\n",
    "print(x)\n",
    "y = 93\n",
    "print(hex(y))"
   ]
  },
  {
   "cell_type": "code",
   "execution_count": null,
   "metadata": {},
   "outputs": [],
   "source": []
  }
 ],
 "metadata": {
  "kernelspec": {
   "display_name": "Python 3",
   "language": "python",
   "name": "python3"
  },
  "language_info": {
   "codemirror_mode": {
    "name": "ipython",
    "version": 3
   },
   "file_extension": ".py",
   "mimetype": "text/x-python",
   "name": "python",
   "nbconvert_exporter": "python",
   "pygments_lexer": "ipython3",
   "version": "3.6.8"
  }
 },
 "nbformat": 4,
 "nbformat_minor": 4
}
