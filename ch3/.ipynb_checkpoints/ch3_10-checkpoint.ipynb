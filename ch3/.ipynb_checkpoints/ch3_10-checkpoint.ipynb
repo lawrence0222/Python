{
 "cells": [
  {
   "cell_type": "markdown",
   "metadata": {},
   "source": [
    "數值運算常用的函數\n",
    "● abs()：計算絕對值。\n",
    "● pow(x,y)：返回x的y次方。\n",
    "● round()：採用演算法則的Bankers Rounding觀念，如果處理位數左邊是奇數則使用4捨5入，若處理位數左邊是偶數則使用5捨6入，例如：\n",
    "           round(1.5) = 2，round(2.5) = 2。\n",
    "           處理小數時，第二個參數代表取到小數第幾位，小數位數後的小數位數採用\"5\"以下捨去，\"51\"以上進位，例如：\n",
    "           round(2.15,1) = 2.1，round(2.25,1) = 2.2，round(2.151,1) = 2.2，round(2.251,1) = 2.3。"
   ]
  },
  {
   "cell_type": "code",
   "execution_count": 11,
   "metadata": {},
   "outputs": [
    {
     "name": "stdout",
     "output_type": "stream",
     "text": [
      "以下輸出abs()函數的應用\n",
      "-10\n",
      "10\n",
      "以下輸出pow(x,y)函數的應用\n",
      "125\n",
      "以下輸出round()函數的應用\n",
      "47.5\n",
      "48\n",
      "48.5\n",
      "48\n",
      "49.5\n",
      "50\n",
      "以下輸出round(x,n)函數的應用\n",
      "2.15\n",
      "2.1\n",
      "2.25\n",
      "2.2\n",
      "2.151\n",
      "2.2\n",
      "2.251\n",
      "2.3\n"
     ]
    }
   ],
   "source": [
    "#abs()、pow(x,y)、round()、round(x,n)函數的應用\n",
    "print(\"以下輸出abs()函數的應用\")\n",
    "x = -10\n",
    "print(x)\n",
    "print(abs(x))\n",
    "\n",
    "print(\"以下輸出pow(x,y)函數的應用\")\n",
    "x = 5\n",
    "y = 3\n",
    "print(pow(x,y))\n",
    "\n",
    "print(\"以下輸出round()函數的應用\")\n",
    "x = 47.5\n",
    "print(x)\n",
    "print(round(x))\n",
    "x = 48.5\n",
    "print(x)\n",
    "print(round(x))\n",
    "x = 49.5\n",
    "print(x)\n",
    "print(round(x))\n",
    "\n",
    "print(\"以下輸出round(x,n)函數的應用\")\n",
    "x = 2.15\n",
    "print(x)\n",
    "print(round(x,1))\n",
    "x = 2.25\n",
    "print(x)\n",
    "print(round(x,1))\n",
    "x = 2.151\n",
    "print(x)\n",
    "print(round(x,1))\n",
    "x = 2.251\n",
    "print(x)\n",
    "print(round(x,1))"
   ]
  },
  {
   "cell_type": "code",
   "execution_count": null,
   "metadata": {},
   "outputs": [],
   "source": []
  }
 ],
 "metadata": {
  "kernelspec": {
   "display_name": "Python 3",
   "language": "python",
   "name": "python3"
  },
  "language_info": {
   "codemirror_mode": {
    "name": "ipython",
    "version": 3
   },
   "file_extension": ".py",
   "mimetype": "text/x-python",
   "name": "python",
   "nbconvert_exporter": "python",
   "pygments_lexer": "ipython3",
   "version": "3.6.8"
  }
 },
 "nbformat": 4,
 "nbformat_minor": 4
}
