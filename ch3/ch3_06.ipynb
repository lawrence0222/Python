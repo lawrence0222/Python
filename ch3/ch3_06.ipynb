{
 "cells": [
  {
   "cell_type": "code",
   "execution_count": 3,
   "metadata": {},
   "outputs": [
    {
     "name": "stdout",
     "output_type": "stream",
     "text": [
      "47\n",
      "0o57\n"
     ]
    }
   ],
   "source": [
    "\"\"\"\n",
    "8進位整數與函數oct()\n",
    "Python中定義凡是0o開頭的數字，代表這是8進位的整數。\n",
    "oct()函數可以將一般數字轉換為8進位\n",
    "實例：將10進位數值死8進位數值互轉的應用\n",
    "\"\"\"\n",
    "x = 0o57\n",
    "print(x)\n",
    "y = 47\n",
    "print(oct(y))"
   ]
  },
  {
   "cell_type": "code",
   "execution_count": null,
   "metadata": {},
   "outputs": [],
   "source": []
  }
 ],
 "metadata": {
  "kernelspec": {
   "display_name": "Python 3",
   "language": "python",
   "name": "python3"
  },
  "language_info": {
   "codemirror_mode": {
    "name": "ipython",
    "version": 3
   },
   "file_extension": ".py",
   "mimetype": "text/x-python",
   "name": "python",
   "nbconvert_exporter": "python",
   "pygments_lexer": "ipython3",
   "version": "3.6.8"
  }
 },
 "nbformat": 4,
 "nbformat_minor": 4
}
