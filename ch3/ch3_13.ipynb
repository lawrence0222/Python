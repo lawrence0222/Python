{
 "cells": [
  {
   "cell_type": "code",
   "execution_count": 6,
   "metadata": {},
   "outputs": [
    {
     "name": "stdout",
     "output_type": "stream",
     "text": [
      "以下是數值相加\n",
      "555\n",
      "以下是由數值組成的字串相加\n",
      "222333\n",
      "以下是由數值組成的字串相加，同時中間加上一個空格\n",
      "222 333\n"
     ]
    }
   ],
   "source": [
    "#字串連接的應用\n",
    "num1 = 222\n",
    "num2 = 333\n",
    "num3 = num1 + num2\n",
    "print(\"以下是數值相加\")\n",
    "print(num3)\n",
    "\n",
    "numstr1 = \"222\"\n",
    "numstr2 = \"333\"\n",
    "numstr3 = numstr1 + numstr2\n",
    "print(\"以下是由數值組成的字串相加\")\n",
    "print(numstr3)\n",
    "numstr4 = numstr1 + \" \" + numstr2\n",
    "print(\"以下是由數值組成的字串相加，同時中間加上一個空格\")\n",
    "print(numstr4)"
   ]
  },
  {
   "cell_type": "code",
   "execution_count": null,
   "metadata": {},
   "outputs": [],
   "source": []
  }
 ],
 "metadata": {
  "kernelspec": {
   "display_name": "Python 3",
   "language": "python",
   "name": "python3"
  },
  "language_info": {
   "codemirror_mode": {
    "name": "ipython",
    "version": 3
   },
   "file_extension": ".py",
   "mimetype": "text/x-python",
   "name": "python",
   "nbconvert_exporter": "python",
   "pygments_lexer": "ipython3",
   "version": "3.6.8"
  }
 },
 "nbformat": 4,
 "nbformat_minor": 4
}
