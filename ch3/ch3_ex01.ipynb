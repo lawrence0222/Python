{
 "cells": [
  {
   "cell_type": "markdown",
   "metadata": {},
   "source": [
    "a = 10 , b = 18 , c = 5 ,\n",
    "請計算下列執行結果，並取整數結果。\n",
    "(a) s = a + b - c\n",
    "(b) s = 2 * a + 3 - c\n",
    "(c) s = b * c + 20 / b\n",
    "(d) s = a % c * b + 10\n",
    "(e) s = a ** c - a * b * c"
   ]
  },
  {
   "cell_type": "code",
   "execution_count": 12,
   "metadata": {},
   "outputs": [
    {
     "name": "stdout",
     "output_type": "stream",
     "text": [
      "(a) 23\n",
      "(b) 18\n",
      "(c) 91\n",
      "(d) 10\n",
      "(e) 99100\n"
     ]
    }
   ],
   "source": [
    "a = 10\n",
    "b = 18\n",
    "c = 5\n",
    "\n",
    "s = a + b - c\n",
    "print(\"(a) \" + str(s))\n",
    "\n",
    "s = 2 * a + 3 - c\n",
    "print(\"(b) \" + str(s))\n",
    "\n",
    "s = b * c + 20 / b\n",
    "print(\"(c) \" + str(int(s)))\n",
    "\n",
    "s = a % c * b + 10\n",
    "print(\"(d) \" + str(s))\n",
    "\n",
    "s = a ** c - a * b * c\n",
    "print(\"(e) \" + str(s))"
   ]
  },
  {
   "cell_type": "code",
   "execution_count": null,
   "metadata": {},
   "outputs": [],
   "source": []
  }
 ],
 "metadata": {
  "kernelspec": {
   "display_name": "Python 3",
   "language": "python",
   "name": "python3"
  },
  "language_info": {
   "codemirror_mode": {
    "name": "ipython",
    "version": 3
   },
   "file_extension": ".py",
   "mimetype": "text/x-python",
   "name": "python",
   "nbconvert_exporter": "python",
   "pygments_lexer": "ipython3",
   "version": "3.6.8"
  }
 },
 "nbformat": 4,
 "nbformat_minor": 4
}
