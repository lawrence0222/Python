{
 "cells": [
  {
   "cell_type": "markdown",
   "metadata": {},
   "source": [
    "# 輸入華氏溫度  輸出攝氏溫度\n",
    "\n",
    "攝氏溫度 = (華氏溫度-32)*5/9\n",
    "華氏溫度 = 攝氏溫度*(9/5)+32"
   ]
  },
  {
   "cell_type": "code",
   "execution_count": 1,
   "metadata": {},
   "outputs": [
    {
     "name": "stdin",
     "output_type": "stream",
     "text": [
      "請輸入華氏溫度： 84\n"
     ]
    },
    {
     "name": "stdout",
     "output_type": "stream",
     "text": [
      "轉換為攝氏溫度為：28.89\n"
     ]
    }
   ],
   "source": [
    "f = eval(input(\"請輸入華氏溫度：\"))\n",
    "c = (f - 32) * 5 / 9\n",
    "print(\"轉換為攝氏溫度為：%4.2f\" % c)"
   ]
  }
 ],
 "metadata": {
  "kernelspec": {
   "display_name": "Python 3",
   "language": "python",
   "name": "python3"
  },
  "language_info": {
   "codemirror_mode": {
    "name": "ipython",
    "version": 3
   },
   "file_extension": ".py",
   "mimetype": "text/x-python",
   "name": "python",
   "nbconvert_exporter": "python",
   "pygments_lexer": "ipython3",
   "version": "3.6.8"
  }
 },
 "nbformat": 4,
 "nbformat_minor": 4
}
