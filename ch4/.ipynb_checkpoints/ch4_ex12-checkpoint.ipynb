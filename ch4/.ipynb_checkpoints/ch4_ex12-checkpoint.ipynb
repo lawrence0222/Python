{
 "cells": [
  {
   "cell_type": "code",
   "execution_count": 3,
   "metadata": {},
   "outputs": [
    {
     "name": "stdin",
     "output_type": "stream",
     "text": [
      "請輸入三個點座標： 0,0, 3,0, 3,4\n"
     ]
    },
    {
     "name": "stdout",
     "output_type": "stream",
     "text": [
      "三點所圍成的三角形面積為 6.00\n"
     ]
    }
   ],
   "source": [
    "x1, x2, y1, y2, z1, z2 = eval(input(\"請輸入三個點座標：\"))\n",
    "dist1 = ((x1 - y1) ** 2 + (x2 - y2) ** 2) ** 0.5\n",
    "dist2 = ((x1 - z1) ** 2 + (x2 - z2) ** 2) ** 0.5\n",
    "dist3 = ((z1 - y1) ** 2 + (z2 - y2) ** 2) ** 0.5\n",
    "p = (dist1 + dist2 + dist3) / 2\n",
    "area = (p * (p - dist1) * (p - dist2) * (p - dist3)) ** 0.5\n",
    "print(\"三點所圍成的三角形面積為%5.2f\" % area)"
   ]
  },
  {
   "cell_type": "code",
   "execution_count": null,
   "metadata": {},
   "outputs": [],
   "source": []
  }
 ],
 "metadata": {
  "kernelspec": {
   "display_name": "Python 3",
   "language": "python",
   "name": "python3"
  },
  "language_info": {
   "codemirror_mode": {
    "name": "ipython",
    "version": 3
   },
   "file_extension": ".py",
   "mimetype": "text/x-python",
   "name": "python",
   "nbconvert_exporter": "python",
   "pygments_lexer": "ipython3",
   "version": "3.6.8"
  }
 },
 "nbformat": 4,
 "nbformat_minor": 4
}
