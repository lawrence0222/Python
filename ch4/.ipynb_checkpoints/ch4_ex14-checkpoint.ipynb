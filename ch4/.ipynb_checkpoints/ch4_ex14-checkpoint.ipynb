{
 "cells": [
  {
   "cell_type": "code",
   "execution_count": 1,
   "metadata": {},
   "outputs": [],
   "source": [
    "import math"
   ]
  },
  {
   "cell_type": "code",
   "execution_count": 9,
   "metadata": {},
   "outputs": [
    {
     "name": "stdin",
     "output_type": "stream",
     "text": [
      "請輸入甲地的經緯度： 22.2838,114.1731\n",
      "請輸入乙地的經緯度： 25.0452,121.5168\n"
     ]
    }
   ],
   "source": [
    "x1, y1 = eval(input(\"請輸入甲地的經緯度：\"))\n",
    "x2, y2 = eval(input(\"請輸入乙地的經緯度：\"))"
   ]
  },
  {
   "cell_type": "code",
   "execution_count": 10,
   "metadata": {},
   "outputs": [
    {
     "name": "stdout",
     "output_type": "stream",
     "text": [
      "甲乙兩地距離為： 808.3115099471376\n"
     ]
    }
   ],
   "source": [
    "r = 6371 #地球半徑\n",
    "distance = r * math.acos(math.sin(math.radians(x1)) * math.sin(math.radians(x2)) + \n",
    "                         math.cos(math.radians(x1)) * math.cos(math.radians(x2)) * \n",
    "                         math.cos(math.radians(y1 - y2)))\n",
    "print(\"甲乙兩地距離為：\", distance)"
   ]
  },
  {
   "cell_type": "code",
   "execution_count": null,
   "metadata": {},
   "outputs": [],
   "source": []
  }
 ],
 "metadata": {
  "kernelspec": {
   "display_name": "Python 3",
   "language": "python",
   "name": "python3"
  },
  "language_info": {
   "codemirror_mode": {
    "name": "ipython",
    "version": 3
   },
   "file_extension": ".py",
   "mimetype": "text/x-python",
   "name": "python",
   "nbconvert_exporter": "python",
   "pygments_lexer": "ipython3",
   "version": "3.6.8"
  }
 },
 "nbformat": 4,
 "nbformat_minor": 4
}
