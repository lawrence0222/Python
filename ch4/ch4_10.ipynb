{
 "cells": [
  {
   "cell_type": "code",
   "execution_count": 10,
   "metadata": {},
   "outputs": [
    {
     "name": "stdout",
     "output_type": "stream",
     "text": [
      " 姓名    國文    英文    總分\n",
      "蔡鎮陽   100     100     200\n",
      "蔡鎮洋   100      98     198\n",
      "蔡鎮烊   100      80     180\n"
     ]
    }
   ],
   "source": [
    "print(\" 姓名    國文    英文    總分\")\n",
    "print(\"%3s  %4d    %4d    %4d\" % (\"蔡鎮陽\", 100, 100, 200))\n",
    "print(\"%3s  %4d    %4d    %4d\" % (\"蔡鎮洋\", 100, 98, 198))\n",
    "print(\"%3s  %4d    %4d    %4d\" % (\"蔡鎮烊\", 100, 80, 180))"
   ]
  },
  {
   "cell_type": "code",
   "execution_count": null,
   "metadata": {},
   "outputs": [],
   "source": []
  }
 ],
 "metadata": {
  "kernelspec": {
   "display_name": "Python 3",
   "language": "python",
   "name": "python3"
  },
  "language_info": {
   "codemirror_mode": {
    "name": "ipython",
    "version": 3
   },
   "file_extension": ".py",
   "mimetype": "text/x-python",
   "name": "python",
   "nbconvert_exporter": "python",
   "pygments_lexer": "ipython3",
   "version": "3.6.8"
  }
 },
 "nbformat": 4,
 "nbformat_minor": 4
}
