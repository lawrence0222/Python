{
 "cells": [
  {
   "cell_type": "markdown",
   "metadata": {},
   "source": [
    "# 資本資料輸出與運算"
   ]
  },
  {
   "cell_type": "code",
   "execution_count": 1,
   "metadata": {},
   "outputs": [
    {
     "name": "stdout",
     "output_type": "stream",
     "text": [
      "歡迎使用成績輸入系統\n"
     ]
    },
    {
     "name": "stdin",
     "output_type": "stream",
     "text": [
      "請輸入你的姓名： 蔡鎮陽\n",
      "輸入你的英文成績： 100\n",
      "輸入你的數學成績： 100\n"
     ]
    },
    {
     "name": "stdout",
     "output_type": "stream",
     "text": [
      "蔡鎮陽 你的總分是 200\n"
     ]
    }
   ],
   "source": [
    "print(\"歡迎使用成績輸入系統\")\n",
    "name = input(\"請輸入你的姓名：\")\n",
    "score_eng = input(\"輸入你的英文成績：\")\n",
    "score_math = input(\"輸入你的數學成績：\")\n",
    "score_total = int(score_eng) + int(score_math)\n",
    "print(\"{} 你的總分是 {}\".format(name, score_total))"
   ]
  },
  {
   "cell_type": "code",
   "execution_count": null,
   "metadata": {},
   "outputs": [],
   "source": []
  }
 ],
 "metadata": {
  "kernelspec": {
   "display_name": "Python 3",
   "language": "python",
   "name": "python3"
  },
  "language_info": {
   "codemirror_mode": {
    "name": "ipython",
    "version": 3
   },
   "file_extension": ".py",
   "mimetype": "text/x-python",
   "name": "python",
   "nbconvert_exporter": "python",
   "pygments_lexer": "ipython3",
   "version": "3.6.8"
  }
 },
 "nbformat": 4,
 "nbformat_minor": 4
}
