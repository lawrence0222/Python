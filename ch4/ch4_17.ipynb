{
 "cells": [
  {
   "cell_type": "markdown",
   "metadata": {},
   "source": [
    "# 處理字串的數學運算eval()\n",
    "\n",
    "result = eval(expression)     # expression是字串\n",
    "\n",
    "這個函數可直接傳回字串內數學表達式的計算結果"
   ]
  },
  {
   "cell_type": "code",
   "execution_count": 1,
   "metadata": {},
   "outputs": [
    {
     "name": "stdin",
     "output_type": "stream",
     "text": [
      "請輸入數學公式 6*5+9*9/3\n"
     ]
    },
    {
     "name": "stdout",
     "output_type": "stream",
     "text": [
      "計算結果：57.00\n"
     ]
    }
   ],
   "source": [
    "numberstr = input(\"請輸入數學公式\")\n",
    "number = eval(numberstr)\n",
    "print(\"計算結果：%5.2f\" % number)"
   ]
  }
 ],
 "metadata": {
  "kernelspec": {
   "display_name": "Python 3",
   "language": "python",
   "name": "python3"
  },
  "language_info": {
   "codemirror_mode": {
    "name": "ipython",
    "version": 3
   },
   "file_extension": ".py",
   "mimetype": "text/x-python",
   "name": "python",
   "nbconvert_exporter": "python",
   "pygments_lexer": "ipython3",
   "version": "3.6.8"
  }
 },
 "nbformat": 4,
 "nbformat_minor": 4
}
