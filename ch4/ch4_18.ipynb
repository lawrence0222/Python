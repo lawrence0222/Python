{
 "cells": [
  {
   "cell_type": "markdown",
   "metadata": {},
   "source": [
    "# 使用eval()重新設計ch4_15"
   ]
  },
  {
   "cell_type": "code",
   "execution_count": 1,
   "metadata": {},
   "outputs": [
    {
     "name": "stdout",
     "output_type": "stream",
     "text": [
      "歡迎使用成績輸入系統\n"
     ]
    },
    {
     "name": "stdin",
     "output_type": "stream",
     "text": [
      "請輸入你的姓名： 蔡鎮陽\n",
      "輸入你的英文成績： 98\n",
      "輸入你的數學成績： 100\n"
     ]
    },
    {
     "name": "stdout",
     "output_type": "stream",
     "text": [
      "蔡鎮陽 你的總分是 198\n"
     ]
    }
   ],
   "source": [
    "print(\"歡迎使用成績輸入系統\")\n",
    "name = input(\"請輸入你的姓名：\")\n",
    "score_eng = eval(input(\"輸入你的英文成績：\"))\n",
    "score_math = eval(input(\"輸入你的數學成績：\"))\n",
    "score_total = score_eng + score_math\n",
    "print(\"{} 你的總分是 {}\".format(name, score_total))"
   ]
  },
  {
   "cell_type": "code",
   "execution_count": null,
   "metadata": {},
   "outputs": [],
   "source": []
  }
 ],
 "metadata": {
  "kernelspec": {
   "display_name": "Python 3",
   "language": "python",
   "name": "python3"
  },
  "language_info": {
   "codemirror_mode": {
    "name": "ipython",
    "version": 3
   },
   "file_extension": ".py",
   "mimetype": "text/x-python",
   "name": "python",
   "nbconvert_exporter": "python",
   "pygments_lexer": "ipython3",
   "version": "3.6.8"
  }
 },
 "nbformat": 4,
 "nbformat_minor": 4
}
