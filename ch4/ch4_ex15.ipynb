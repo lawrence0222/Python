{
 "cells": [
  {
   "cell_type": "code",
   "execution_count": 1,
   "metadata": {},
   "outputs": [
    {
     "name": "stdin",
     "output_type": "stream",
     "text": [
      "請輸入飛機的時速(公尺/秒)： 180\n",
      "請輸入飛機的加速度(公尺/秒)： 6\n"
     ]
    }
   ],
   "source": [
    "speed = eval(input(\"請輸入飛機的時速(公尺/秒)：\"))\n",
    "acceleration = eval(input(\"請輸入飛機的加速度(公尺/秒)：\"))"
   ]
  },
  {
   "cell_type": "code",
   "execution_count": 4,
   "metadata": {},
   "outputs": [
    {
     "name": "stdout",
     "output_type": "stream",
     "text": [
      "此飛機起飛時所需的跑道長度為 97200.000公尺\n"
     ]
    }
   ],
   "source": [
    "distance = speed ** 2 / 2 * acceleration\n",
    "print(\"此飛機起飛時所需的跑道長度為%10.3f公尺\" % distance)"
   ]
  },
  {
   "cell_type": "code",
   "execution_count": null,
   "metadata": {},
   "outputs": [],
   "source": []
  }
 ],
 "metadata": {
  "kernelspec": {
   "display_name": "Python 3",
   "language": "python",
   "name": "python3"
  },
  "language_info": {
   "codemirror_mode": {
    "name": "ipython",
    "version": 3
   },
   "file_extension": ".py",
   "mimetype": "text/x-python",
   "name": "python",
   "nbconvert_exporter": "python",
   "pygments_lexer": "ipython3",
   "version": "3.6.8"
  }
 },
 "nbformat": 4,
 "nbformat_minor": 4
}
