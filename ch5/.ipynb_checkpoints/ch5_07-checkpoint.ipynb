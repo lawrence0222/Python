{
 "cells": [
  {
   "cell_type": "markdown",
   "metadata": {},
   "source": [
    "# 輸入字元，程式會告知輸入的字元是大寫字母、小寫字母；阿拉伯數字或是特殊字元"
   ]
  },
  {
   "cell_type": "code",
   "execution_count": 4,
   "metadata": {},
   "outputs": [
    {
     "name": "stdin",
     "output_type": "stream",
     "text": [
      "請輸入字元： %\n"
     ]
    },
    {
     "name": "stdout",
     "output_type": "stream",
     "text": [
      "這是特殊字元\n"
     ]
    }
   ],
   "source": [
    "ch = input(\"請輸入字元：\")\n",
    "if ord(ch) >= ord(\"A\") and ord(ch) <= ord(\"Z\"):\n",
    "    print(\"這是大寫字母\")\n",
    "elif ord(ch) >= ord(\"a\") and ord(ch) <= ord(\"z\"):\n",
    "    print(\"這是小寫字母\")\n",
    "elif ord(ch) >= ord(\"0\") and ord(ch) <= ord(\"9\"):\n",
    "    print(\"這是阿拉伯數字\")\n",
    "else:\n",
    "    print(\"這是特殊字元\")"
   ]
  }
 ],
 "metadata": {
  "kernelspec": {
   "display_name": "Python 3",
   "language": "python",
   "name": "python3"
  },
  "language_info": {
   "codemirror_mode": {
    "name": "ipython",
    "version": 3
   },
   "file_extension": ".py",
   "mimetype": "text/x-python",
   "name": "python",
   "nbconvert_exporter": "python",
   "pygments_lexer": "ipython3",
   "version": "3.6.8"
  }
 },
 "nbformat": 4,
 "nbformat_minor": 4
}
