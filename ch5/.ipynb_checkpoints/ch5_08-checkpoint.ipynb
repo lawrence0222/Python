{
 "cells": [
  {
   "cell_type": "markdown",
   "metadata": {},
   "source": [
    "# 測試輸入年份是否為閏年"
   ]
  },
  {
   "cell_type": "code",
   "execution_count": 12,
   "metadata": {},
   "outputs": [
    {
     "name": "stdin",
     "output_type": "stream",
     "text": [
      "請輸入年份： 2400\n"
     ]
    },
    {
     "name": "stdout",
     "output_type": "stream",
     "text": [
      "2400年是閏年\n"
     ]
    }
   ],
   "source": [
    "year = eval(input(\"請輸入年份：\"))\n",
    "\n",
    "if year % 4:\n",
    "    print(\"%d年不是閏年\" % year)\n",
    "else:\n",
    "    if year % 100 != 0 or year % 400 == 0:\n",
    "        print(\"%d年是閏年\" % year)\n",
    "    else:\n",
    "        print(\"%d年不是閏年\" % year)"
   ]
  },
  {
   "cell_type": "markdown",
   "metadata": {},
   "source": [
    "# if敘述與None的應用\n",
    "* None在布林值運算時會被當作false"
   ]
  },
  {
   "cell_type": "code",
   "execution_count": 13,
   "metadata": {},
   "outputs": [
    {
     "name": "stdout",
     "output_type": "stream",
     "text": [
      "尚未定義flag\n",
      "尚未定義flag\n"
     ]
    }
   ],
   "source": [
    "flag = None\n",
    "if flag == None:\n",
    "    print(\"尚未定義flag\")\n",
    "\n",
    "if flag:\n",
    "    print(\"有定義\")\n",
    "else:\n",
    "    print(\"尚未定義flag\")"
   ]
  }
 ],
 "metadata": {
  "kernelspec": {
   "display_name": "Python 3",
   "language": "python",
   "name": "python3"
  },
  "language_info": {
   "codemirror_mode": {
    "name": "ipython",
    "version": 3
   },
   "file_extension": ".py",
   "mimetype": "text/x-python",
   "name": "python",
   "nbconvert_exporter": "python",
   "pygments_lexer": "ipython3",
   "version": "3.6.8"
  }
 },
 "nbformat": 4,
 "nbformat_minor": 4
}
