{
 "cells": [
  {
   "cell_type": "markdown",
   "metadata": {},
   "source": [
    "# 一元二次方程式公式解\n",
    "\n",
    "\n",
    "$ 3x^2 + 5x + 1 = 0 $"
   ]
  },
  {
   "cell_type": "code",
   "execution_count": 3,
   "metadata": {},
   "outputs": [
    {
     "name": "stdout",
     "output_type": "stream",
     "text": [
      " r1 = -0.1743 \n",
      " r2 = -1.0757\n"
     ]
    }
   ],
   "source": [
    "a = 3\n",
    "b = 5\n",
    "c = 1\n",
    "\n",
    "r1 = (-b + (b ** 2 - 4 * a * c) ** 0.5) / (2 ** a)\n",
    "r2 = (-b - (b ** 2 - 4 * a * c) ** 0.5) / (2 ** a)\n",
    "\n",
    "print(\" r1 = %6.4f \\n r2 = %6.4f\" % (r1, r2))"
   ]
  }
 ],
 "metadata": {
  "kernelspec": {
   "display_name": "Python 3",
   "language": "python",
   "name": "python3"
  },
  "language_info": {
   "codemirror_mode": {
    "name": "ipython",
    "version": 3
   },
   "file_extension": ".py",
   "mimetype": "text/x-python",
   "name": "python",
   "nbconvert_exporter": "python",
   "pygments_lexer": "ipython3",
   "version": "3.6.8"
  }
 },
 "nbformat": 4,
 "nbformat_minor": 4
}
