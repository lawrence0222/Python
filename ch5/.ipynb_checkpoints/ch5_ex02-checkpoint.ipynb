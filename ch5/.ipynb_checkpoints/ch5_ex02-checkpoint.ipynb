{
 "cells": [
  {
   "cell_type": "markdown",
   "metadata": {},
   "source": [
    "# 輸入3個數字，將數字由大到小輸出"
   ]
  },
  {
   "cell_type": "code",
   "execution_count": 5,
   "metadata": {},
   "outputs": [
    {
     "name": "stdin",
     "output_type": "stream",
     "text": [
      "請輸入三個數字： 0, 44, 12\n"
     ]
    },
    {
     "name": "stdout",
     "output_type": "stream",
     "text": [
      "44, 12, 0\n"
     ]
    }
   ],
   "source": [
    "x, y, z = eval(input(\"請輸入三個數字：\"))\n",
    "\n",
    "if x > y and x > z:\n",
    "    if y > z:\n",
    "        print(\"%d, %d, %d\" % (x, y, z))\n",
    "    else:\n",
    "        print(\"%d, %d, %d\" % (x, z, y))\n",
    "elif y > x and y > z:\n",
    "    if x > z:\n",
    "        print(\"%d, %d, %d\" % (y, x, z))\n",
    "    else:\n",
    "        print(\"%d, %d, %d\" % (y, z, x))\n",
    "else:\n",
    "    if x > y:\n",
    "        print(\"%d, %d, %d\" % (z, x, y))\n",
    "    else:\n",
    "        print(\"%d, %d, %d\" % (z, y, x))"
   ]
  }
 ],
 "metadata": {
  "kernelspec": {
   "display_name": "Python 3",
   "language": "python",
   "name": "python3"
  },
  "language_info": {
   "codemirror_mode": {
    "name": "ipython",
    "version": 3
   },
   "file_extension": ".py",
   "mimetype": "text/x-python",
   "name": "python",
   "nbconvert_exporter": "python",
   "pygments_lexer": "ipython3",
   "version": "3.6.8"
  }
 },
 "nbformat": 4,
 "nbformat_minor": 4
}
