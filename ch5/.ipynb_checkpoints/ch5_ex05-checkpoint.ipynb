{
 "cells": [
  {
   "cell_type": "code",
   "execution_count": 8,
   "metadata": {},
   "outputs": [
    {
     "name": "stdin",
     "output_type": "stream",
     "text": [
      "請先選擇要轉換的溫標(華氏or攝氏)： 攝氏\n",
      "請輸入攝氏溫度： 64\n"
     ]
    },
    {
     "name": "stdout",
     "output_type": "stream",
     "text": [
      "轉換成華氏溫度為：147.20\n"
     ]
    }
   ],
   "source": [
    "mode = input(\"請先選擇要轉換的溫標(華氏or攝氏)：\")\n",
    "\n",
    "if mode == \"華氏\":\n",
    "    temp = eval(input(\"請輸入華氏溫度：\"))\n",
    "    temp = (temp - 32) * 5 / 9\n",
    "    print(\"轉換成攝氏溫度為：%5.2f\" % temp)\n",
    "else:\n",
    "    temp = eval(input(\"請輸入攝氏溫度：\"))\n",
    "    temp = temp * 9 / 5 + 32\n",
    "    print(\"轉換成華氏溫度為：%5.2f\" % temp)"
   ]
  }
 ],
 "metadata": {
  "kernelspec": {
   "display_name": "Python 3",
   "language": "python",
   "name": "python3"
  },
  "language_info": {
   "codemirror_mode": {
    "name": "ipython",
    "version": 3
   },
   "file_extension": ".py",
   "mimetype": "text/x-python",
   "name": "python",
   "nbconvert_exporter": "python",
   "pygments_lexer": "ipython3",
   "version": "3.6.8"
  }
 },
 "nbformat": 4,
 "nbformat_minor": 4
}
