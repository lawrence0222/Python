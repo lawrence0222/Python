{
 "cells": [
  {
   "cell_type": "code",
   "execution_count": 2,
   "metadata": {},
   "outputs": [
    {
     "name": "stdin",
     "output_type": "stream",
     "text": [
      "輸入天數： 42\n"
     ]
    },
    {
     "name": "stdout",
     "output_type": "stream",
     "text": [
      "42天後是星期日\n"
     ]
    }
   ],
   "source": [
    "days = eval(input(\"輸入天數：\"))\n",
    "\n",
    "days_sub = days % 7\n",
    "day = None\n",
    "\n",
    "if days_sub == 0:\n",
    "    day = \"日\"\n",
    "elif days_sub == 1:\n",
    "    day = \"一\"\n",
    "elif days_sub == 2:\n",
    "    day = \"二\"\n",
    "elif days_sub == 3:\n",
    "    day = \"三\"\n",
    "elif days_sub == 4:\n",
    "    day = \"四\"\n",
    "elif days_sub == 5:\n",
    "    day = \"五\"\n",
    "elif days_sub == 6:\n",
    "    day = \"六\"\n",
    "    \n",
    "print(\"{}天後是星期{}\".format(days, day))"
   ]
  }
 ],
 "metadata": {
  "kernelspec": {
   "display_name": "Python 3",
   "language": "python",
   "name": "python3"
  },
  "language_info": {
   "codemirror_mode": {
    "name": "ipython",
    "version": 3
   },
   "file_extension": ".py",
   "mimetype": "text/x-python",
   "name": "python",
   "nbconvert_exporter": "python",
   "pygments_lexer": "ipython3",
   "version": "3.6.8"
  }
 },
 "nbformat": 4,
 "nbformat_minor": 4
}
