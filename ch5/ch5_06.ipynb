{
 "cells": [
  {
   "cell_type": "markdown",
   "metadata": {},
   "source": [
    "# 計算票價\n",
    "\n",
    "有一地區的票價收費標準是100元\n",
    "* 如果小於等於6歲或是大於等於80歲，收費是打2折\n",
    "* 如果是7-12歲或60-79歲，收費是打5折"
   ]
  },
  {
   "cell_type": "code",
   "execution_count": 7,
   "metadata": {},
   "outputs": [
    {
     "name": "stdin",
     "output_type": "stream",
     "text": [
      "請輸入年齡： 89\n"
     ]
    }
   ],
   "source": [
    "age = eval(input(\"請輸入年齡：\"))\n",
    "ticket = 100"
   ]
  },
  {
   "cell_type": "code",
   "execution_count": 8,
   "metadata": {},
   "outputs": [
    {
     "name": "stdout",
     "output_type": "stream",
     "text": [
      "票價是：20\n"
     ]
    }
   ],
   "source": [
    "if age <= 6 or age >= 80:\n",
    "    ticket = ticket * 0.2\n",
    "    print(\"票價是：%d\" % ticket)\n",
    "elif age <= 12 or age >= 60:\n",
    "    ticket = ticket * 0.5\n",
    "    print(\"票價是：%d\" % ticket)\n",
    "else:\n",
    "    print(\"票價是：%d\" % ticket)"
   ]
  }
 ],
 "metadata": {
  "kernelspec": {
   "display_name": "Python 3",
   "language": "python",
   "name": "python3"
  },
  "language_info": {
   "codemirror_mode": {
    "name": "ipython",
    "version": 3
   },
   "file_extension": ".py",
   "mimetype": "text/x-python",
   "name": "python",
   "nbconvert_exporter": "python",
   "pygments_lexer": "ipython3",
   "version": "3.6.8"
  }
 },
 "nbformat": 4,
 "nbformat_minor": 4
}
