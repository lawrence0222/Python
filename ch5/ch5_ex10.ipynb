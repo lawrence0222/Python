{
 "cells": [
  {
   "cell_type": "code",
   "execution_count": 14,
   "metadata": {},
   "outputs": [
    {
     "name": "stdout",
     "output_type": "stream",
     "text": [
      "方程式：ax^2 + bx + c = 0\n"
     ]
    },
    {
     "name": "stdin",
     "output_type": "stream",
     "text": [
      "請輸入a,b,c係數之值： 2,5,6\n"
     ]
    },
    {
     "name": "stdout",
     "output_type": "stream",
     "text": [
      "無實數解\n"
     ]
    }
   ],
   "source": [
    "print(\"方程式：ax^2 + bx + c = 0\")\n",
    "a, b, c = eval(input(\"請輸入a,b,c係數之值：\"))\n",
    "\n",
    "r = b ** 2 - 4 * a * c\n",
    "if r > 0 :\n",
    "    r1 = (-b + r ** 0.5) / (2 ** a)\n",
    "    r2 = (-b - r ** 0.5) / (2 ** a)\n",
    "    print(\"兩個解：{0:.5f},{1:.5f}\".format(r1,r2))\n",
    "elif r == 0:\n",
    "    r1 = -b / (2 ** a)\n",
    "    print(\"唯一解：{}\".format(r1))\n",
    "else:\n",
    "    print(\"無實數解\")"
   ]
  }
 ],
 "metadata": {
  "kernelspec": {
   "display_name": "Python 3",
   "language": "python",
   "name": "python3"
  },
  "language_info": {
   "codemirror_mode": {
    "name": "ipython",
    "version": 3
   },
   "file_extension": ".py",
   "mimetype": "text/x-python",
   "name": "python",
   "nbconvert_exporter": "python",
   "pygments_lexer": "ipython3",
   "version": "3.6.8"
  }
 },
 "nbformat": 4,
 "nbformat_minor": 4
}
