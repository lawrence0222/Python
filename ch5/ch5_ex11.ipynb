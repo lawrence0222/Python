{
 "cells": [
  {
   "cell_type": "code",
   "execution_count": 4,
   "metadata": {},
   "outputs": [
    {
     "name": "stdout",
     "output_type": "stream",
     "text": [
      "● ax + by = e \n",
      "● cx + dy = f \n",
      "\n"
     ]
    },
    {
     "name": "stdin",
     "output_type": "stream",
     "text": [
      "請依序給予a~f值(用逗號隔開)： 2,2,2,2,2,5\n"
     ]
    },
    {
     "name": "stdout",
     "output_type": "stream",
     "text": [
      "無解\n"
     ]
    }
   ],
   "source": [
    "print(\"● ax + by = e \\n\" + \\\n",
    "      \"● cx + dy = f \\n\")\n",
    "a, b, c, d, e, f = eval(input(\"請依序給予a~f值(用逗號隔開)：\"))\n",
    "\n",
    "if a * d - b * c == 0:\n",
    "    print(\"無解\")\n",
    "else:\n",
    "    x = (e * d - b * f) / (a * d - b * c)\n",
    "    y = (a * f - e * c) / (a * d - b * c)\n",
    "    print(\" x = %6.4f \\n y = %6.4f\" % (x, y))"
   ]
  }
 ],
 "metadata": {
  "kernelspec": {
   "display_name": "Python 3",
   "language": "python",
   "name": "python3"
  },
  "language_info": {
   "codemirror_mode": {
    "name": "ipython",
    "version": 3
   },
   "file_extension": ".py",
   "mimetype": "text/x-python",
   "name": "python",
   "nbconvert_exporter": "python",
   "pygments_lexer": "ipython3",
   "version": "3.6.8"
  }
 },
 "nbformat": 4,
 "nbformat_minor": 4
}
