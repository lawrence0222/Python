{
 "cells": [
  {
   "cell_type": "code",
   "execution_count": 4,
   "metadata": {},
   "outputs": [
    {
     "name": "stdout",
     "output_type": "stream",
     "text": [
      "第1-3場得分： [23, 19, 22]\n",
      "第2-4場得分： [19, 22, 31]\n",
      "第1,3,5場得分： [23, 22, 18]\n"
     ]
    }
   ],
   "source": [
    "james = [23, 19, 22, 31, 18]\n",
    "\n",
    "print(\"第1-3場得分：\", james[:3])\n",
    "print(\"第2-4場得分：\", james[1:4])\n",
    "print(\"第1,3,5場得分：\", james[::2])"
   ]
  }
 ],
 "metadata": {
  "kernelspec": {
   "display_name": "Python 3",
   "language": "python",
   "name": "python3"
  },
  "language_info": {
   "codemirror_mode": {
    "name": "ipython",
    "version": 3
   },
   "file_extension": ".py",
   "mimetype": "text/x-python",
   "name": "python",
   "nbconvert_exporter": "python",
   "pygments_lexer": "ipython3",
   "version": "3.6.8"
  }
 },
 "nbformat": 4,
 "nbformat_minor": 4
}
