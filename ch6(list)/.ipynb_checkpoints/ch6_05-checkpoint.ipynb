{
 "cells": [
  {
   "cell_type": "markdown",
   "metadata": {},
   "source": [
    "# 列出球隊前3名隊員、從索引1到最後隊員與後三名隊員子串列"
   ]
  },
  {
   "cell_type": "code",
   "execution_count": 1,
   "metadata": {},
   "outputs": [
    {
     "name": "stdout",
     "output_type": "stream",
     "text": [
      "['Curry', 'Durant', 'Iquodala']\n",
      "['Durant', 'Iquodala', 'Bell', 'Thompson']\n",
      "['Iquodala', 'Bell', 'Thompson']\n"
     ]
    }
   ],
   "source": [
    "warriors = ['Curry', 'Durant', 'Iquodala', 'Bell', 'Thompson']\n",
    "\n",
    "print(warriors[0:3])\n",
    "print(warriors[1:])\n",
    "print(warriors[-3:])"
   ]
  }
 ],
 "metadata": {
  "kernelspec": {
   "display_name": "Python 3",
   "language": "python",
   "name": "python3"
  },
  "language_info": {
   "codemirror_mode": {
    "name": "ipython",
    "version": 3
   },
   "file_extension": ".py",
   "mimetype": "text/x-python",
   "name": "python",
   "nbconvert_exporter": "python",
   "pygments_lexer": "ipython3",
   "version": "3.6.8"
  }
 },
 "nbformat": 4,
 "nbformat_minor": 4
}
