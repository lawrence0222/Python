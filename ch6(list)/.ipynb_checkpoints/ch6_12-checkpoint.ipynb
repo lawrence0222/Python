{
 "cells": [
  {
   "cell_type": "code",
   "execution_count": 1,
   "metadata": {},
   "outputs": [
    {
     "name": "stdout",
     "output_type": "stream",
     "text": [
      "舊汽車銷售品牌： ['Audi', 'Benz', 'BMW', 'Toyota']\n",
      "新汽車銷售品牌： ['Ford', 'Benz', 'BMW', 'Toyota']\n"
     ]
    }
   ],
   "source": [
    "cars = ['Audi', 'Benz', 'BMW', 'Toyota']\n",
    "print(\"舊汽車銷售品牌：\", cars)\n",
    "cars[0] = 'Ford'\n",
    "print(\"新汽車銷售品牌：\", cars)"
   ]
  }
 ],
 "metadata": {
  "kernelspec": {
   "display_name": "Python 3",
   "language": "python",
   "name": "python3"
  },
  "language_info": {
   "codemirror_mode": {
    "name": "ipython",
    "version": 3
   },
   "file_extension": ".py",
   "mimetype": "text/x-python",
   "name": "python",
   "nbconvert_exporter": "python",
   "pygments_lexer": "ipython3",
   "version": "3.6.8"
  }
 },
 "nbformat": 4,
 "nbformat_minor": 4
}
