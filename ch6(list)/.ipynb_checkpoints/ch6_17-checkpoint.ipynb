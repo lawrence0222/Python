{
 "cells": [
  {
   "cell_type": "code",
   "execution_count": 1,
   "metadata": {},
   "outputs": [
    {
     "name": "stdout",
     "output_type": "stream",
     "text": [
      "2018年初NBA勇士隊主將陣容 ['Curry', 'Durant', 'Iquodala', 'Bell', 'Thompson']\n",
      "2018年末NBA勇士隊主將陣容 ['Curry', 'Durant', 'Iquodala', 'Thompson']\n"
     ]
    }
   ],
   "source": [
    "warriors = ['Curry', 'Durant', 'Iquodala', 'Bell', 'Thompson']\n",
    "print(\"2018年初NBA勇士隊主將陣容\", warriors)\n",
    "del warriors[3]\n",
    "print(\"2018年末NBA勇士隊主將陣容\", warriors)"
   ]
  }
 ],
 "metadata": {
  "kernelspec": {
   "display_name": "Python 3",
   "language": "python",
   "name": "python3"
  },
  "language_info": {
   "codemirror_mode": {
    "name": "ipython",
    "version": 3
   },
   "file_extension": ".py",
   "mimetype": "text/x-python",
   "name": "python",
   "nbconvert_exporter": "python",
   "pygments_lexer": "ipython3",
   "version": "3.6.8"
  }
 },
 "nbformat": 4,
 "nbformat_minor": 4
}
