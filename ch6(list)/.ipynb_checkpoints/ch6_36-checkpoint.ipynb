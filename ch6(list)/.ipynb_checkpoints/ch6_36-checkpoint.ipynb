{
 "cells": [
  {
   "cell_type": "code",
   "execution_count": 2,
   "metadata": {},
   "outputs": [
    {
     "name": "stdout",
     "output_type": "stream",
     "text": [
      "姓名： Leborn James\n",
      "位置： SF\n",
      "出生日期： 12/30/84\n",
      "在第4場比賽有最高分31分\n"
     ]
    }
   ],
   "source": [
    "James = [['Leborn James', 'SF', '12/30/84'], 23, 19, 22, 31, 18]\n",
    "highest_score = max(James[1:len(James)])\n",
    "game = James.index(highest_score)\n",
    "name = James[0][0]\n",
    "position = James[0][1]\n",
    "born = James[0][2]\n",
    "print(\"姓名：\", name)\n",
    "print(\"位置：\", position)\n",
    "print(\"出生日期：\", born)\n",
    "print(\"在第%d場比賽有最高分%d分\" % (game, highest_score))"
   ]
  }
 ],
 "metadata": {
  "kernelspec": {
   "display_name": "Python 3",
   "language": "python",
   "name": "python3"
  },
  "language_info": {
   "codemirror_mode": {
    "name": "ipython",
    "version": 3
   },
   "file_extension": ".py",
   "mimetype": "text/x-python",
   "name": "python",
   "nbconvert_exporter": "python",
   "pygments_lexer": "ipython3",
   "version": "3.6.8"
  }
 },
 "nbformat": 4,
 "nbformat_minor": 4
}
