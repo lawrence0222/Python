{
 "cells": [
  {
   "cell_type": "code",
   "execution_count": 1,
   "metadata": {},
   "outputs": [
    {
     "name": "stdout",
     "output_type": "stream",
     "text": [
      "原cars1內容： ['toyota', 'nissan', 'honda']\n",
      "原cars2內容： ['ford', 'audi']\n",
      "執行append()後串列cars1內容： ['toyota', 'nissan', 'honda', ['ford', 'audi']]\n",
      "執行append()後串列cars2內容： ['ford', 'audi']\n"
     ]
    }
   ],
   "source": [
    "cars1 = ['toyota', 'nissan', 'honda']\n",
    "cars2 = ['ford', 'audi']\n",
    "print(\"原cars1內容：\", cars1)\n",
    "print(\"原cars2內容：\", cars2)\n",
    "cars1.append(cars2)\n",
    "print(\"執行append()後串列cars1內容：\", cars1)\n",
    "print(\"執行append()後串列cars2內容：\", cars2)"
   ]
  }
 ],
 "metadata": {
  "kernelspec": {
   "display_name": "Python 3",
   "language": "python",
   "name": "python3"
  },
  "language_info": {
   "codemirror_mode": {
    "name": "ipython",
    "version": 3
   },
   "file_extension": ".py",
   "mimetype": "text/x-python",
   "name": "python",
   "nbconvert_exporter": "python",
   "pygments_lexer": "ipython3",
   "version": "3.6.8"
  }
 },
 "nbformat": 4,
 "nbformat_minor": 4
}
