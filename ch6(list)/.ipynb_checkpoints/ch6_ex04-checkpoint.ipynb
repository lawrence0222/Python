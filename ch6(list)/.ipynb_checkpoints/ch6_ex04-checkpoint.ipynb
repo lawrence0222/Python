{
 "cells": [
  {
   "cell_type": "code",
   "execution_count": 1,
   "metadata": {},
   "outputs": [
    {
     "name": "stdout",
     "output_type": "stream",
     "text": [
      "['Taipei', 'Tokyo', 'New York', 'Seoul', 'Dubai']\n"
     ]
    }
   ],
   "source": [
    "cities = ['Taipei', 'Tokyo', 'New York', 'Seoul', 'Dubai']\n",
    "print(cities)"
   ]
  },
  {
   "cell_type": "code",
   "execution_count": 2,
   "metadata": {},
   "outputs": [
    {
     "name": "stdout",
     "output_type": "stream",
     "text": [
      "['Taipei', 'Tokyo', 'New York', 'Seoul', 'Dubai', 'London']\n"
     ]
    }
   ],
   "source": [
    "cities.append('London')\n",
    "print(cities)"
   ]
  },
  {
   "cell_type": "code",
   "execution_count": 6,
   "metadata": {},
   "outputs": [
    {
     "name": "stdout",
     "output_type": "stream",
     "text": [
      "['Taipei', 'Tokyo', 'New York', 'Xian', 'Seoul', 'Dubai', 'London']\n"
     ]
    }
   ],
   "source": [
    "cities.insert(len(cities)//2, 'Xian')\n",
    "print(cities)"
   ]
  },
  {
   "cell_type": "code",
   "execution_count": 7,
   "metadata": {},
   "outputs": [
    {
     "name": "stdout",
     "output_type": "stream",
     "text": [
      "['Taipei', 'New York', 'Xian', 'Seoul', 'Dubai', 'London']\n"
     ]
    }
   ],
   "source": [
    "cities.remove('Tokyo')\n",
    "print(cities)"
   ]
  }
 ],
 "metadata": {
  "kernelspec": {
   "display_name": "Python 3",
   "language": "python",
   "name": "python3"
  },
  "language_info": {
   "codemirror_mode": {
    "name": "ipython",
    "version": 3
   },
   "file_extension": ".py",
   "mimetype": "text/x-python",
   "name": "python",
   "nbconvert_exporter": "python",
   "pygments_lexer": "ipython3",
   "version": "3.6.8"
  }
 },
 "nbformat": 4,
 "nbformat_minor": 4
}
