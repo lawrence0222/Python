{
 "cells": [
  {
   "cell_type": "code",
   "execution_count": 1,
   "metadata": {},
   "outputs": [
    {
     "name": "stdout",
     "output_type": "stream",
     "text": [
      "舊的比賽分數： [23, 19, 22, 31, 18]\n",
      "新的比賽分數： [23, 19, 22, 31, 28]\n"
     ]
    }
   ],
   "source": [
    "james = [23, 19, 22, 31, 18]\n",
    "print(\"舊的比賽分數：\", james)\n",
    "james[4] = 28\n",
    "print(\"新的比賽分數：\", james)"
   ]
  }
 ],
 "metadata": {
  "kernelspec": {
   "display_name": "Python 3",
   "language": "python",
   "name": "python3"
  },
  "language_info": {
   "codemirror_mode": {
    "name": "ipython",
    "version": 3
   },
   "file_extension": ".py",
   "mimetype": "text/x-python",
   "name": "python",
   "nbconvert_exporter": "python",
   "pygments_lexer": "ipython3",
   "version": "3.6.8"
  }
 },
 "nbformat": 4,
 "nbformat_minor": 4
}
