{
 "cells": [
  {
   "cell_type": "code",
   "execution_count": 4,
   "metadata": {},
   "outputs": [
    {
     "name": "stdout",
     "output_type": "stream",
     "text": [
      "刪除nums1串列索引1元素前 = [1, 3, 5]\n",
      "刪除nums1串列索引1元素後 = [1, 5]\n",
      "刪除nums2串列索引[0:2]前 = [1, 2, 3, 4, 5, 6]\n",
      "刪除nums2串列索引[0:2]後 = [3, 4, 5, 6]\n",
      "刪除nums3串列索引[0:6:2]前 = [1, 2, 3, 4, 5, 6]\n",
      "刪除nums3串列索引[0:6:2]後 = [2, 4, 6]\n"
     ]
    }
   ],
   "source": [
    "nums1 = [1, 3, 5]\n",
    "print(\"刪除nums1串列索引1元素前 =\", nums1)\n",
    "del nums1[1]\n",
    "print(\"刪除nums1串列索引1元素後 =\", nums1)\n",
    "nums2 = [1, 2, 3, 4, 5, 6]\n",
    "print(\"刪除nums2串列索引[0:2]前 =\", nums2)\n",
    "del nums2[0:2]\n",
    "print(\"刪除nums2串列索引[0:2]後 =\", nums2)\n",
    "nums3 = [1, 2, 3, 4, 5, 6]\n",
    "print(\"刪除nums3串列索引[0:6:2]前 =\", nums3)\n",
    "del nums3[0:6:2]\n",
    "print(\"刪除nums3串列索引[0:6:2]後 =\", nums3)"
   ]
  },
  {
   "cell_type": "code",
   "execution_count": null,
   "metadata": {},
   "outputs": [],
   "source": []
  }
 ],
 "metadata": {
  "kernelspec": {
   "display_name": "Python 3",
   "language": "python",
   "name": "python3"
  },
  "language_info": {
   "codemirror_mode": {
    "name": "ipython",
    "version": 3
   },
   "file_extension": ".py",
   "mimetype": "text/x-python",
   "name": "python",
   "nbconvert_exporter": "python",
   "pygments_lexer": "ipython3",
   "version": "3.6.8"
  }
 },
 "nbformat": 4,
 "nbformat_minor": 4
}
