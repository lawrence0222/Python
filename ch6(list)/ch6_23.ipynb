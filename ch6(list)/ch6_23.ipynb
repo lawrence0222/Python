{
 "cells": [
  {
   "cell_type": "markdown",
   "metadata": {},
   "source": [
    "# 格式化字串位置的應用"
   ]
  },
  {
   "cell_type": "code",
   "execution_count": 4,
   "metadata": {},
   "outputs": [
    {
     "name": "stdout",
     "output_type": "stream",
     "text": [
      "/                Tamkang University                /\n",
      "/Information Management                            /\n",
      "/                                    Chen Yang Tsai/\n",
      "/00000000000000000000000000000000Tamkang University/\n"
     ]
    }
   ],
   "source": [
    "title = \"Tamkang University\"\n",
    "print(\"/%s/\" % title.center(50))\n",
    "dt = \"Information Management\"\n",
    "print(\"/%s/\" % dt.ljust(50))\n",
    "site = \"Chen Yang Tsai\"\n",
    "print(\"/%s/\" % site.rjust(50))\n",
    "print(\"/%s/\" % title.zfill(50))"
   ]
  }
 ],
 "metadata": {
  "kernelspec": {
   "display_name": "Python 3",
   "language": "python",
   "name": "python3"
  },
  "language_info": {
   "codemirror_mode": {
    "name": "ipython",
    "version": 3
   },
   "file_extension": ".py",
   "mimetype": "text/x-python",
   "name": "python",
   "nbconvert_exporter": "python",
   "pygments_lexer": "ipython3",
   "version": "3.6.8"
  }
 },
 "nbformat": 4,
 "nbformat_minor": 4
}
