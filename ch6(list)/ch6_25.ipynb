{
 "cells": [
  {
   "cell_type": "markdown",
   "metadata": {},
   "source": [
    "# insert()"
   ]
  },
  {
   "cell_type": "code",
   "execution_count": 4,
   "metadata": {},
   "outputs": [
    {
     "name": "stdout",
     "output_type": "stream",
     "text": [
      "目前串列內容： ['Honda', 'Toyota', 'Ford']\n",
      "在索引位置1插入Nissan\n",
      "目前串列內容： ['Honda', 'Nissan', 'Toyota', 'Ford']\n",
      "在索引位置0插入BMW\n",
      "目前串列內容： ['BMW', 'Honda', 'Nissan', 'Toyota', 'Ford']\n"
     ]
    }
   ],
   "source": [
    "cars = ['Honda', 'Toyota', 'Ford']\n",
    "print(\"目前串列內容：\", cars)\n",
    "print(\"在索引位置1插入Nissan\")\n",
    "cars.insert(1, 'Nissan')\n",
    "print(\"目前串列內容：\", cars)\n",
    "print(\"在索引位置0插入BMW\")\n",
    "cars.insert(0, 'BMW')\n",
    "print(\"目前串列內容：\", cars)"
   ]
  }
 ],
 "metadata": {
  "kernelspec": {
   "display_name": "Python 3",
   "language": "python",
   "name": "python3"
  },
  "language_info": {
   "codemirror_mode": {
    "name": "ipython",
    "version": 3
   },
   "file_extension": ".py",
   "mimetype": "text/x-python",
   "name": "python",
   "nbconvert_exporter": "python",
   "pygments_lexer": "ipython3",
   "version": "3.6.8"
  }
 },
 "nbformat": 4,
 "nbformat_minor": 4
}
