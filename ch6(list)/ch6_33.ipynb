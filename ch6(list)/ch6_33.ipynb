{
 "cells": [
  {
   "cell_type": "code",
   "execution_count": 5,
   "metadata": {},
   "outputs": [
    {
     "name": "stdout",
     "output_type": "stream",
     "text": [
      "nissan第一次出現的位置索引是 1\n"
     ]
    }
   ],
   "source": [
    "cars = ['toyota', 'nissan', 'honda']\n",
    "search_str = 'nissan'\n",
    "i = cars.index(search_str)\n",
    "print(\"%s第一次出現的位置索引是 %d\" % (search_str, i))"
   ]
  },
  {
   "cell_type": "code",
   "execution_count": 8,
   "metadata": {},
   "outputs": [
    {
     "name": "stdout",
     "output_type": "stream",
     "text": [
      "30第一次出現的位置索引是 2\n"
     ]
    }
   ],
   "source": [
    "nums = [7, 12, 30, 12, 30, 9, 8]\n",
    "search_num = 30\n",
    "j = nums.index(search_num)\n",
    "print(\"%d第一次出現的位置索引是 %d\" % (search_num, j))"
   ]
  }
 ],
 "metadata": {
  "kernelspec": {
   "display_name": "Python 3",
   "language": "python",
   "name": "python3"
  },
  "language_info": {
   "codemirror_mode": {
    "name": "ipython",
    "version": 3
   },
   "file_extension": ".py",
   "mimetype": "text/x-python",
   "name": "python",
   "nbconvert_exporter": "python",
   "pygments_lexer": "ipython3",
   "version": "3.6.8"
  }
 },
 "nbformat": 4,
 "nbformat_minor": 4
}
