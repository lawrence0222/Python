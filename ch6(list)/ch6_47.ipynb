{
 "cells": [
  {
   "cell_type": "markdown",
   "metadata": {},
   "source": [
    "* len()\n",
    "* max()\n",
    "* min()"
   ]
  },
  {
   "cell_type": "code",
   "execution_count": 1,
   "metadata": {},
   "outputs": [
    {
     "name": "stdout",
     "output_type": "stream",
     "text": [
      "字串長度  13\n",
      "字串最大的unicode碼值和字元  114 r\n",
      "字串最小的unicode碼值和字元  32  \n"
     ]
    }
   ],
   "source": [
    "string = \"Deep Learning\"\n",
    "strlen = len(string)\n",
    "print(\"字串長度 \", strlen)\n",
    "maxstr = max(string)\n",
    "print(\"字串最大的unicode碼值和字元 \", ord(maxstr), maxstr)\n",
    "mixstr = min(string)\n",
    "print(\"字串最小的unicode碼值和字元 \", ord(mixstr), mixstr)"
   ]
  }
 ],
 "metadata": {
  "kernelspec": {
   "display_name": "Python 3",
   "language": "python",
   "name": "python3"
  },
  "language_info": {
   "codemirror_mode": {
    "name": "ipython",
    "version": 3
   },
   "file_extension": ".py",
   "mimetype": "text/x-python",
   "name": "python",
   "nbconvert_exporter": "python",
   "pygments_lexer": "ipython3",
   "version": "3.6.8"
  }
 },
 "nbformat": 4,
 "nbformat_minor": 4
}
