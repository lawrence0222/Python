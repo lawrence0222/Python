{
 "cells": [
  {
   "cell_type": "code",
   "execution_count": 1,
   "metadata": {},
   "outputs": [
    {
     "name": "stdin",
     "output_type": "stream",
     "text": [
      "請輸入字元： d\n"
     ]
    },
    {
     "name": "stdout",
     "output_type": "stream",
     "text": [
      "in 運算式\n",
      "輸入字元在密碼中\n",
      "not in 運算式\n",
      "輸入字元在密碼中\n"
     ]
    }
   ],
   "source": [
    "password = 'deepstone'\n",
    "ch = input(\"請輸入字元：\")\n",
    "print(\"in 運算式\")\n",
    "if ch in password:\n",
    "    print(\"輸入字元在密碼中\")\n",
    "else:\n",
    "    print(\"輸入字元不在密碼中\")\n",
    "print(\"not in 運算式\")\n",
    "if ch not in password:\n",
    "    print(\"輸入字元不在密碼中\")\n",
    "else:\n",
    "    print(\"輸入字元在密碼中\")"
   ]
  }
 ],
 "metadata": {
  "kernelspec": {
   "display_name": "Python 3",
   "language": "python",
   "name": "python3"
  },
  "language_info": {
   "codemirror_mode": {
    "name": "ipython",
    "version": 3
   },
   "file_extension": ".py",
   "mimetype": "text/x-python",
   "name": "python",
   "nbconvert_exporter": "python",
   "pygments_lexer": "ipython3",
   "version": "3.6.8"
  }
 },
 "nbformat": 4,
 "nbformat_minor": 4
}
