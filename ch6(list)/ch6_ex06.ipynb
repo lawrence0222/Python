{
 "cells": [
  {
   "cell_type": "code",
   "execution_count": 20,
   "metadata": {},
   "outputs": [
    {
     "name": "stdout",
     "output_type": "stream",
     "text": [
      "['鄭X昕', 80, 95, 88, 263, 87.7]\n",
      "['宋X萱', 98, 97, 96, 291, 97.0]\n",
      "['陳X彤', 85, 84, 92, 261, 87.0]\n",
      "['蔡X真', 92, 90, 96, 278, 92.7]\n",
      "['黃X琪', 88, 76, 90, 254, 84.7]\n"
     ]
    }
   ],
   "source": [
    "sc = [['鄭X昕', 80, 95, 88],\n",
    "      ['宋X萱', 98, 97, 96],\n",
    "      ['陳X彤', 85, 84, 92],\n",
    "      ['蔡X真', 92, 90, 96],\n",
    "      ['黃X琪', 88, 76, 90]\n",
    "     ]\n",
    "for i in sc:\n",
    "    i.append(sum(i[1:len(i)]))\n",
    "    i.append(round(i[-1]/3, 1))\n",
    "    print(i)"
   ]
  }
 ],
 "metadata": {
  "kernelspec": {
   "display_name": "Python 3",
   "language": "python",
   "name": "python3"
  },
  "language_info": {
   "codemirror_mode": {
    "name": "ipython",
    "version": 3
   },
   "file_extension": ".py",
   "mimetype": "text/x-python",
   "name": "python",
   "nbconvert_exporter": "python",
   "pygments_lexer": "ipython3",
   "version": "3.6.8"
  }
 },
 "nbformat": 4,
 "nbformat_minor": 4
}
