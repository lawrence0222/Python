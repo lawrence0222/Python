{
 "cells": [
  {
   "cell_type": "code",
   "execution_count": 1,
   "metadata": {},
   "outputs": [
    {
     "name": "stdout",
     "output_type": "stream",
     "text": [
      "/ DeepStone /\n",
      "/DeepStone /\n",
      "/ DeepStone/\n",
      "/DeepStone/\n",
      "/DeepStone/\n"
     ]
    }
   ],
   "source": [
    "strN = \" DeepStone \"\n",
    "strL = strN.lstrip()   # 刪除左邊多餘空白\n",
    "strR = strN.rstrip()   # 刪除右邊多餘空白\n",
    "strB = strN.lstrip()   # 先刪除左邊多餘空白\n",
    "strB = strB.rstrip()   # 再刪除右邊多餘空白\n",
    "strO = strN.strip()    # 一次刪除頭尾端多於空白\n",
    "print(\"/%s/\" % strN)\n",
    "print(\"/%s/\" % strL)\n",
    "print(\"/%s/\" % strR)\n",
    "print(\"/%s/\" % strB)\n",
    "print(\"/%s/\" % strO)"
   ]
  }
 ],
 "metadata": {
  "kernelspec": {
   "display_name": "Python 3",
   "language": "python",
   "name": "python3"
  },
  "language_info": {
   "codemirror_mode": {
    "name": "ipython",
    "version": 3
   },
   "file_extension": ".py",
   "mimetype": "text/x-python",
   "name": "python",
   "nbconvert_exporter": "python",
   "pygments_lexer": "ipython3",
   "version": "3.6.8"
  }
 },
 "nbformat": 4,
 "nbformat_minor": 4
}
