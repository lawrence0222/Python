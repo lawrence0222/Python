{
 "cells": [
  {
   "cell_type": "markdown",
   "metadata": {},
   "source": [
    "# sorted() 由大到小"
   ]
  },
  {
   "cell_type": "code",
   "execution_count": 2,
   "metadata": {},
   "outputs": [
    {
     "name": "stdout",
     "output_type": "stream",
     "text": [
      "目前串列cars內容： ['BMW', 'Honda', 'Nissan', 'Toyota', 'Ford']\n",
      "使用sorted()由大到小排序： ['Toyota', 'Nissan', 'Honda', 'Ford', 'BMW']\n"
     ]
    }
   ],
   "source": [
    "cars = ['BMW', 'Honda', 'Nissan', 'Toyota', 'Ford']\n",
    "print(\"目前串列cars內容：\", cars)\n",
    "cars_sorted = sorted(cars, reverse = True)\n",
    "print(\"使用sorted()由大到小排序：\", cars_sorted)"
   ]
  },
  {
   "cell_type": "code",
   "execution_count": 3,
   "metadata": {},
   "outputs": [
    {
     "name": "stdout",
     "output_type": "stream",
     "text": [
      "目前串列nums內容： [5, 3, 9, 2]\n",
      "使用sorted()由大到小排序： [9, 5, 3, 2]\n"
     ]
    }
   ],
   "source": [
    "nums = [5, 3, 9, 2]\n",
    "print(\"目前串列nums內容：\", nums)\n",
    "nums_sorted = sorted(nums, reverse = True)\n",
    "print(\"使用sorted()由大到小排序：\", nums_sorted)"
   ]
  }
 ],
 "metadata": {
  "kernelspec": {
   "display_name": "Python 3",
   "language": "python",
   "name": "python3"
  },
  "language_info": {
   "codemirror_mode": {
    "name": "ipython",
    "version": 3
   },
   "file_extension": ".py",
   "mimetype": "text/x-python",
   "name": "python",
   "nbconvert_exporter": "python",
   "pygments_lexer": "ipython3",
   "version": "3.6.8"
  }
 },
 "nbformat": 4,
 "nbformat_minor": 4
}
