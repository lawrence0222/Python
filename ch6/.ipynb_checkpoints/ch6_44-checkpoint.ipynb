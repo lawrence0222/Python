{
 "cells": [
  {
   "cell_type": "markdown",
   "metadata": {},
   "source": [
    "# 切片拷貝(copy)"
   ]
  },
  {
   "cell_type": "code",
   "execution_count": 1,
   "metadata": {},
   "outputs": [
    {
     "name": "stdout",
     "output_type": "stream",
     "text": [
      "mysports的位址： 2447599622216\n",
      "friendsports的位址： 2447599622984\n",
      "我喜歡的運動： ['skateboarding', 'volleyball']\n",
      "朋友喜歡的運動： ['skateboarding', 'volleyball']\n",
      "   【新增運動項目後】   \n",
      "mysports的位址： 2447599622216\n",
      "friendsports的位址： 2447599622984\n",
      "我喜歡的運動： ['skateboarding', 'volleyball', 'football']\n",
      "朋友喜歡的運動： ['skateboarding', 'volleyball', 'soccer']\n"
     ]
    }
   ],
   "source": [
    "mysports = ['skateboarding', 'volleyball']\n",
    "friendsports = mysports[:]\n",
    "print(\"mysports的位址：\", id(mysports))\n",
    "print(\"friendsports的位址：\", id(friendsports))\n",
    "print(\"我喜歡的運動：\", mysports)\n",
    "print(\"朋友喜歡的運動：\", friendsports)\n",
    "mysports.append('football')\n",
    "friendsports.append('soccer')\n",
    "print(\"【新增運動項目後】\".center(15))\n",
    "print(\"mysports的位址：\", id(mysports))\n",
    "print(\"friendsports的位址：\", id(friendsports))\n",
    "print(\"我喜歡的運動：\", mysports)\n",
    "print(\"朋友喜歡的運動：\", friendsports)"
   ]
  }
 ],
 "metadata": {
  "kernelspec": {
   "display_name": "Python 3",
   "language": "python",
   "name": "python3"
  },
  "language_info": {
   "codemirror_mode": {
    "name": "ipython",
    "version": 3
   },
   "file_extension": ".py",
   "mimetype": "text/x-python",
   "name": "python",
   "nbconvert_exporter": "python",
   "pygments_lexer": "ipython3",
   "version": "3.6.8"
  }
 },
 "nbformat": 4,
 "nbformat_minor": 4
}
