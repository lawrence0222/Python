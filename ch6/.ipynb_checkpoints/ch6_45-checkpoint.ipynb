{
 "cells": [
  {
   "cell_type": "code",
   "execution_count": 4,
   "metadata": {},
   "outputs": [
    {
     "name": "stdout",
     "output_type": "stream",
     "text": [
      "string[0] =  P \n",
      "string[1] =  y \n",
      "string[2] =  t \n",
      "string[3] =  h \n",
      "string[4] =  o \n",
      "string[5] =  n\n",
      "string[-1] =  n \n",
      "string[-2] =  o \n",
      "string[-3] =  h \n",
      "string[-4] =  t \n",
      "string[-5] =  y \n",
      "string[-6] =  P\n",
      "多重指定觀念的輸出測試 =  P y t h o n\n"
     ]
    }
   ],
   "source": [
    "string = \"Python\"\n",
    "# 正值索引\n",
    "print(\"string[0] = \", string[0],\n",
    "     \"\\nstring[1] = \", string[1],\n",
    "     \"\\nstring[2] = \", string[2],\n",
    "     \"\\nstring[3] = \", string[3],\n",
    "     \"\\nstring[4] = \", string[4],\n",
    "     \"\\nstring[5] = \", string[5],)\n",
    "# 負值索引\n",
    "print(\"string[-1] = \", string[-1],\n",
    "     \"\\nstring[-2] = \", string[-2],\n",
    "     \"\\nstring[-3] = \", string[-3],\n",
    "     \"\\nstring[-4] = \", string[-4],\n",
    "     \"\\nstring[-5] = \", string[-5],\n",
    "     \"\\nstring[-6] = \", string[-6],)\n",
    "# 多重指定觀念\n",
    "s1, s2, s3, s4, s5, s6 = string\n",
    "print(\"多重指定觀念的輸出測試 = \",s1, s2, s3, s4, s5, s6)"
   ]
  }
 ],
 "metadata": {
  "kernelspec": {
   "display_name": "Python 3",
   "language": "python",
   "name": "python3"
  },
  "language_info": {
   "codemirror_mode": {
    "name": "ipython",
    "version": 3
   },
   "file_extension": ".py",
   "mimetype": "text/x-python",
   "name": "python",
   "nbconvert_exporter": "python",
   "pygments_lexer": "ipython3",
   "version": "3.6.8"
  }
 },
 "nbformat": 4,
 "nbformat_minor": 4
}
