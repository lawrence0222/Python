{
 "cells": [
  {
   "cell_type": "markdown",
   "metadata": {},
   "source": [
    "# 字串切片\n"
   ]
  },
  {
   "cell_type": "code",
   "execution_count": 3,
   "metadata": {},
   "outputs": [
    {
     "name": "stdout",
     "output_type": "stream",
     "text": [
      "Dee\n",
      "eep\n",
      "epL\n",
      "eep Learning\n",
      "Dee\n",
      "Deep Learn\n"
     ]
    }
   ],
   "source": [
    "string = \"Deep Learning\"\n",
    "print(string[0:3])\n",
    "print(string[1:4])\n",
    "print(string[1:6:2])\n",
    "print(string[1:])\n",
    "print(string[:3])\n",
    "print(string[:-3])"
   ]
  }
 ],
 "metadata": {
  "kernelspec": {
   "display_name": "Python 3",
   "language": "python",
   "name": "python3"
  },
  "language_info": {
   "codemirror_mode": {
    "name": "ipython",
    "version": 3
   },
   "file_extension": ".py",
   "mimetype": "text/x-python",
   "name": "python",
   "nbconvert_exporter": "python",
   "pygments_lexer": "ipython3",
   "version": "3.6.8"
  }
 },
 "nbformat": 4,
 "nbformat_minor": 4
}
