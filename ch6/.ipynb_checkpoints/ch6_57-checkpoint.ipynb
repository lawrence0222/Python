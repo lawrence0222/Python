{
 "cells": [
  {
   "cell_type": "code",
   "execution_count": 1,
   "metadata": {},
   "outputs": [
    {
     "name": "stdout",
     "output_type": "stream",
     "text": [
      "[(0, 'coffee'), (1, 'tea'), (2, 'wine')]\n"
     ]
    }
   ],
   "source": [
    "drinks = ['coffee', 'tea', 'wine']\n",
    "enumerate_drinks = enumerate(drinks) # 初始值是0\n",
    "print(list(enumerate_drinks))"
   ]
  },
  {
   "cell_type": "code",
   "execution_count": 2,
   "metadata": {},
   "outputs": [
    {
     "name": "stdout",
     "output_type": "stream",
     "text": [
      "[(10, 'coffee'), (11, 'tea'), (12, 'wine')]\n"
     ]
    }
   ],
   "source": [
    "enumerate_drinks = enumerate(drinks, start = 10) # 初始值是10\n",
    "print(list(enumerate_drinks))"
   ]
  }
 ],
 "metadata": {
  "kernelspec": {
   "display_name": "Python 3",
   "language": "python",
   "name": "python3"
  },
  "language_info": {
   "codemirror_mode": {
    "name": "ipython",
    "version": 3
   },
   "file_extension": ".py",
   "mimetype": "text/x-python",
   "name": "python",
   "nbconvert_exporter": "python",
   "pygments_lexer": "ipython3",
   "version": "3.6.8"
  }
 },
 "nbformat": 4,
 "nbformat_minor": 4
}
