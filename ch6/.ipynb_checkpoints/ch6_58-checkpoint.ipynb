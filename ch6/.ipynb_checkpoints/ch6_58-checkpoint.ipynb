{
 "cells": [
  {
   "cell_type": "markdown",
   "metadata": {},
   "source": [
    "# 使用者帳號管理系統"
   ]
  },
  {
   "cell_type": "code",
   "execution_count": 1,
   "metadata": {},
   "outputs": [
    {
     "name": "stdin",
     "output_type": "stream",
     "text": [
      "請輸入新帳號： lawrence\n"
     ]
    },
    {
     "name": "stdout",
     "output_type": "stream",
     "text": [
      "XX公司系統\n"
     ]
    },
    {
     "name": "stdin",
     "output_type": "stream",
     "text": [
      "請輸入帳號： lawrence\n"
     ]
    },
    {
     "name": "stdout",
     "output_type": "stream",
     "text": [
      "歡迎進入公司系統\n"
     ]
    }
   ],
   "source": [
    "accounts = []\n",
    "account = input(\"請輸入新帳號：\")\n",
    "accounts.append(account)\n",
    "print(\"XX公司系統\")\n",
    "ac = input(\"請輸入帳號：\")\n",
    "if ac in accounts:\n",
    "    print(\"歡迎進入公司系統\")\n",
    "else:\n",
    "    print(\"帳號錯誤\")"
   ]
  }
 ],
 "metadata": {
  "kernelspec": {
   "display_name": "Python 3",
   "language": "python",
   "name": "python3"
  },
  "language_info": {
   "codemirror_mode": {
    "name": "ipython",
    "version": 3
   },
   "file_extension": ".py",
   "mimetype": "text/x-python",
   "name": "python",
   "nbconvert_exporter": "python",
   "pygments_lexer": "ipython3",
   "version": "3.6.8"
  }
 },
 "nbformat": 4,
 "nbformat_minor": 4
}
