{
 "cells": [
  {
   "cell_type": "code",
   "execution_count": 1,
   "metadata": {},
   "outputs": [
    {
     "name": "stdout",
     "output_type": "stream",
     "text": [
      "第一場得分： 23\n",
      "第二場得分： 19\n",
      "第三場得分： 22\n",
      "第四場得分： 31\n",
      "第五場得分： 18\n"
     ]
    }
   ],
   "source": [
    "james = [23, 19, 22, 31, 18]\n",
    "\n",
    "print(\"第一場得分：\", james[0])\n",
    "print(\"第二場得分：\", james[1])\n",
    "print(\"第三場得分：\", james[2])\n",
    "print(\"第四場得分：\", james[3])\n",
    "print(\"第五場得分：\", james[4])"
   ]
  }
 ],
 "metadata": {
  "kernelspec": {
   "display_name": "Python 3",
   "language": "python",
   "name": "python3"
  },
  "language_info": {
   "codemirror_mode": {
    "name": "ipython",
    "version": 3
   },
   "file_extension": ".py",
   "mimetype": "text/x-python",
   "name": "python",
   "nbconvert_exporter": "python",
   "pygments_lexer": "ipython3",
   "version": "3.6.8"
  }
 },
 "nbformat": 4,
 "nbformat_minor": 4
}
