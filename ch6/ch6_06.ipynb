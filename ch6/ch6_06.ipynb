{
 "cells": [
  {
   "cell_type": "markdown",
   "metadata": {},
   "source": [
    "# 串列索引值是-1的應用"
   ]
  },
  {
   "cell_type": "code",
   "execution_count": 2,
   "metadata": {},
   "outputs": [
    {
     "name": "stdout",
     "output_type": "stream",
     "text": [
      "最後一名球員是 Thompson\n",
      "最後一場得分： 18\n",
      "最後一個元素： Deep Stone\n"
     ]
    }
   ],
   "source": [
    "warriors = ['Curry', 'Durant', 'Iquodala', 'Bell', 'Thompson']\n",
    "print(\"最後一名球員是\", warriors[-1])\n",
    "james = [23, 19, 22, 31, 18]\n",
    "print(\"最後一場得分：\", james[-1])\n",
    "mixs = [9, 20.5, 'Deep Stone']\n",
    "print(\"最後一個元素：\", mixs[-1])"
   ]
  }
 ],
 "metadata": {
  "kernelspec": {
   "display_name": "Python 3",
   "language": "python",
   "name": "python3"
  },
  "language_info": {
   "codemirror_mode": {
    "name": "ipython",
    "version": 3
   },
   "file_extension": ".py",
   "mimetype": "text/x-python",
   "name": "python",
   "nbconvert_exporter": "python",
   "pygments_lexer": "ipython3",
   "version": "3.6.8"
  }
 },
 "nbformat": 4,
 "nbformat_minor": 4
}
