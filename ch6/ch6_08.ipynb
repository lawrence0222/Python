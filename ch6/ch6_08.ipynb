{
 "cells": [
  {
   "cell_type": "code",
   "execution_count": 1,
   "metadata": {},
   "outputs": [
    {
     "name": "stdout",
     "output_type": "stream",
     "text": [
      "最高得分： 31\n",
      "最低得分： 18\n",
      "總得分： 113\n"
     ]
    }
   ],
   "source": [
    "james = [23, 19, 22, 31, 18]\n",
    "\n",
    "print(\"最高得分：\", max(james))\n",
    "print(\"最低得分：\", min(james))\n",
    "print(\"總得分：\", sum(james))"
   ]
  }
 ],
 "metadata": {
  "kernelspec": {
   "display_name": "Python 3",
   "language": "python",
   "name": "python3"
  },
  "language_info": {
   "codemirror_mode": {
    "name": "ipython",
    "version": 3
   },
   "file_extension": ".py",
   "mimetype": "text/x-python",
   "name": "python",
   "nbconvert_exporter": "python",
   "pygments_lexer": "ipython3",
   "version": "3.6.8"
  }
 },
 "nbformat": 4,
 "nbformat_minor": 4
}
