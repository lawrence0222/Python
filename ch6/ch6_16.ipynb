{
 "cells": [
  {
   "cell_type": "code",
   "execution_count": 5,
   "metadata": {},
   "outputs": [
    {
     "name": "stdout",
     "output_type": "stream",
     "text": [
      "Leborn James 和 Kevin Love第四場總得分 =  53\n"
     ]
    }
   ],
   "source": [
    "James = ['Leborn James', 23, 19, 22, 31, 18]\n",
    "Love = ['Kevin Love', 20, 18, 30, 22, 15]\n",
    "game4 = James[4] + Love[4]\n",
    "LKgame = James[0] + \" 和 \" + Love[0] + \"第四場總得分 = \"\n",
    "print(LKgame, game4)"
   ]
  }
 ],
 "metadata": {
  "kernelspec": {
   "display_name": "Python 3",
   "language": "python",
   "name": "python3"
  },
  "language_info": {
   "codemirror_mode": {
    "name": "ipython",
    "version": 3
   },
   "file_extension": ".py",
   "mimetype": "text/x-python",
   "name": "python",
   "nbconvert_exporter": "python",
   "pygments_lexer": "ipython3",
   "version": "3.6.8"
  }
 },
 "nbformat": 4,
 "nbformat_minor": 4
}
