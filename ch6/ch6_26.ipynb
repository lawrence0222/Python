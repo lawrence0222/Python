{
 "cells": [
  {
   "cell_type": "markdown",
   "metadata": {},
   "source": [
    "# pop()"
   ]
  },
  {
   "cell_type": "code",
   "execution_count": 1,
   "metadata": {},
   "outputs": [
    {
     "name": "stdout",
     "output_type": "stream",
     "text": [
      "目前串列內容： ['BMW', 'Honda', 'Nissan', 'Toyota', 'Ford']\n",
      "使用pop()所刪除的元素是Ford\n",
      "目前串列內容： ['BMW', 'Honda', 'Nissan', 'Toyota']\n",
      "使用pop(1)所刪除的元素是Honda\n",
      "目前串列內容： ['BMW', 'Nissan', 'Toyota']\n"
     ]
    }
   ],
   "source": [
    "cars = ['BMW', 'Honda', 'Nissan', 'Toyota', 'Ford']\n",
    "print(\"目前串列內容：\", cars)\n",
    "popped_car = cars.pop()\n",
    "print(\"使用pop()所刪除的元素是%s\" % popped_car)\n",
    "print(\"目前串列內容：\", cars)\n",
    "popped_car = cars.pop(1)\n",
    "print(\"使用pop(1)所刪除的元素是%s\" % popped_car)\n",
    "print(\"目前串列內容：\", cars)"
   ]
  }
 ],
 "metadata": {
  "kernelspec": {
   "display_name": "Python 3",
   "language": "python",
   "name": "python3"
  },
  "language_info": {
   "codemirror_mode": {
    "name": "ipython",
    "version": 3
   },
   "file_extension": ".py",
   "mimetype": "text/x-python",
   "name": "python",
   "nbconvert_exporter": "python",
   "pygments_lexer": "ipython3",
   "version": "3.6.8"
  }
 },
 "nbformat": 4,
 "nbformat_minor": 4
}
