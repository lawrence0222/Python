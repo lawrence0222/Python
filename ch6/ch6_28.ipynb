{
 "cells": [
  {
   "cell_type": "markdown",
   "metadata": {},
   "source": [
    "# reverse()"
   ]
  },
  {
   "cell_type": "code",
   "execution_count": 5,
   "metadata": {},
   "outputs": [
    {
     "name": "stdout",
     "output_type": "stream",
     "text": [
      "目前串列內容： ['BMW', 'Honda', 'Nissan', 'Toyota', 'Ford']\n",
      "使用[::-1]顛倒順序： ['Ford', 'Toyota', 'Nissan', 'Honda', 'BMW']\n",
      "使用reverse()顛倒順序： ['Ford', 'Toyota', 'Nissan', 'Honda', 'BMW']\n"
     ]
    }
   ],
   "source": [
    "cars = ['BMW', 'Honda', 'Nissan', 'Toyota', 'Ford']\n",
    "print(\"目前串列內容：\", cars)\n",
    "print(\"使用[::-1]顛倒順序：\", cars[::-1])\n",
    "cars.reverse()\n",
    "print(\"使用reverse()顛倒順序：\", cars)"
   ]
  }
 ],
 "metadata": {
  "kernelspec": {
   "display_name": "Python 3",
   "language": "python",
   "name": "python3"
  },
  "language_info": {
   "codemirror_mode": {
    "name": "ipython",
    "version": 3
   },
   "file_extension": ".py",
   "mimetype": "text/x-python",
   "name": "python",
   "nbconvert_exporter": "python",
   "pygments_lexer": "ipython3",
   "version": "3.6.8"
  }
 },
 "nbformat": 4,
 "nbformat_minor": 4
}
