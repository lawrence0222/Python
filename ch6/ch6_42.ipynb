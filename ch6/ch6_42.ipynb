{
 "cells": [
  {
   "cell_type": "markdown",
   "metadata": {},
   "source": [
    "# 賦值的特性\n",
    "只要有一個串列改變，另一個串列也會同步更改"
   ]
  },
  {
   "cell_type": "code",
   "execution_count": 1,
   "metadata": {},
   "outputs": [
    {
     "name": "stdout",
     "output_type": "stream",
     "text": [
      "我喜歡的運動： ['skateboarding', 'volleyball']\n",
      "朋友喜歡的運動： ['skateboarding', 'volleyball']\n",
      "我喜歡的運動： ['skateboarding', 'volleyball', 'football', 'soccer']\n",
      "朋友喜歡的運動： ['skateboarding', 'volleyball', 'football', 'soccer']\n"
     ]
    }
   ],
   "source": [
    "mysports = ['skateboarding', 'volleyball']\n",
    "friendsports = mysports\n",
    "print(\"我喜歡的運動：\", mysports)\n",
    "print(\"朋友喜歡的運動：\", friendsports)\n",
    "mysports.append('football')\n",
    "friendsports.append('soccer')\n",
    "print(\"我喜歡的運動：\", mysports)\n",
    "print(\"朋友喜歡的運動：\", friendsports)"
   ]
  }
 ],
 "metadata": {
  "kernelspec": {
   "display_name": "Python 3",
   "language": "python",
   "name": "python3"
  },
  "language_info": {
   "codemirror_mode": {
    "name": "ipython",
    "version": 3
   },
   "file_extension": ".py",
   "mimetype": "text/x-python",
   "name": "python",
   "nbconvert_exporter": "python",
   "pygments_lexer": "ipython3",
   "version": "3.6.8"
  }
 },
 "nbformat": 4,
 "nbformat_minor": 4
}
