{
 "cells": [
  {
   "cell_type": "markdown",
   "metadata": {},
   "source": [
    "# 位址的觀念\n",
    "如果使用下列方式設定2個串列變數相等，相當於只是將變數位址拷貝給另一個變數\n",
    "* friendsports = mysports"
   ]
  },
  {
   "cell_type": "code",
   "execution_count": 6,
   "metadata": {},
   "outputs": [
    {
     "name": "stdout",
     "output_type": "stream",
     "text": [
      "mysports的位址： 2834937695816\n",
      "friendsports的位址： 2834937695816\n",
      "我喜歡的運動： ['skateboarding', 'volleyball']\n",
      "朋友喜歡的運動： ['skateboarding', 'volleyball']\n",
      "   【新增運動項目後】   \n",
      "mysports的位址： 2834937695816\n",
      "friendsports的位址： 2834937695816\n",
      "我喜歡的運動： ['skateboarding', 'volleyball', 'football', 'soccer']\n",
      "朋友喜歡的運動： ['skateboarding', 'volleyball', 'football', 'soccer']\n"
     ]
    }
   ],
   "source": [
    "mysports = ['skateboarding', 'volleyball']\n",
    "friendsports = mysports\n",
    "print(\"mysports的位址：\", id(mysports))\n",
    "print(\"friendsports的位址：\", id(friendsports))\n",
    "print(\"我喜歡的運動：\", mysports)\n",
    "print(\"朋友喜歡的運動：\", friendsports)\n",
    "mysports.append('football')\n",
    "friendsports.append('soccer')\n",
    "print(\"【新增運動項目後】\".center(15))\n",
    "print(\"mysports的位址：\", id(mysports))\n",
    "print(\"friendsports的位址：\", id(friendsports))\n",
    "print(\"我喜歡的運動：\", mysports)\n",
    "print(\"朋友喜歡的運動：\", friendsports)"
   ]
  }
 ],
 "metadata": {
  "kernelspec": {
   "display_name": "Python 3",
   "language": "python",
   "name": "python3"
  },
  "language_info": {
   "codemirror_mode": {
    "name": "ipython",
    "version": 3
   },
   "file_extension": ".py",
   "mimetype": "text/x-python",
   "name": "python",
   "nbconvert_exporter": "python",
   "pygments_lexer": "ipython3",
   "version": "3.6.8"
  }
 },
 "nbformat": 4,
 "nbformat_minor": 4
}
