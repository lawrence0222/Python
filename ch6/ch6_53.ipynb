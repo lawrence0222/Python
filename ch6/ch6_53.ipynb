{
 "cells": [
  {
   "cell_type": "code",
   "execution_count": 1,
   "metadata": {},
   "outputs": [
    {
     "name": "stdout",
     "output_type": "stream",
     "text": [
      "x = 10, y = 10, z = 15, r = 20\n"
     ]
    }
   ],
   "source": [
    "x = 10\n",
    "y = 10\n",
    "z = 15\n",
    "r = 20\n",
    "print(\"x = %d, y = %d, z = %d, r = %d\" % (x, y, z, r))"
   ]
  },
  {
   "cell_type": "code",
   "execution_count": 2,
   "metadata": {},
   "outputs": [
    {
     "name": "stdout",
     "output_type": "stream",
     "text": [
      "x = 1920774656, y = 1920774656, z = 1920774816, r = 1920774976\n"
     ]
    }
   ],
   "source": [
    "print(\"x = %d, y = %d, z = %d, r = %d\" % (id(x), id(y), id(z), id(r)))"
   ]
  },
  {
   "cell_type": "code",
   "execution_count": 3,
   "metadata": {},
   "outputs": [
    {
     "name": "stdout",
     "output_type": "stream",
     "text": [
      "x = 1920774656, y = 1920774656, z = 1920774656, r = 1920774976\n"
     ]
    }
   ],
   "source": [
    "z = x # 變數值相同時，記憶體位址會一樣\n",
    "print(\"x = %d, y = %d, z = %d, r = %d\" % (id(x), id(y), id(z), id(r)))"
   ]
  },
  {
   "cell_type": "code",
   "execution_count": 4,
   "metadata": {},
   "outputs": [
    {
     "name": "stdout",
     "output_type": "stream",
     "text": [
      "x = 1920774656, y = 1920774656, z = 1920774656, r = 1920774656\n"
     ]
    }
   ],
   "source": [
    "r = r - 10\n",
    "print(\"x = %d, y = %d, z = %d, r = %d\" % (id(x), id(y), id(z), id(r)))"
   ]
  },
  {
   "cell_type": "code",
   "execution_count": null,
   "metadata": {},
   "outputs": [],
   "source": []
  }
 ],
 "metadata": {
  "kernelspec": {
   "display_name": "Python 3",
   "language": "python",
   "name": "python3"
  },
  "language_info": {
   "codemirror_mode": {
    "name": "ipython",
    "version": 3
   },
   "file_extension": ".py",
   "mimetype": "text/x-python",
   "name": "python",
   "nbconvert_exporter": "python",
   "pygments_lexer": "ipython3",
   "version": "3.6.8"
  }
 },
 "nbformat": 4,
 "nbformat_minor": 4
}
