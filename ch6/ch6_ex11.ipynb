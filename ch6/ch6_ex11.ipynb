{
 "cells": [
  {
   "cell_type": "code",
   "execution_count": 5,
   "metadata": {},
   "outputs": [
    {
     "name": "stdout",
     "output_type": "stream",
     "text": [
      "目前來賓名單： ['Mary', 'Josh', 'Tracy']\n"
     ]
    },
    {
     "name": "stdin",
     "output_type": "stream",
     "text": [
      "輸入「1」增加一位來賓，輸入「2」刪除一位來賓： 2\n",
      "請輸入來賓姓名： Josh\n"
     ]
    },
    {
     "name": "stdout",
     "output_type": "stream",
     "text": [
      "來賓刪除成功\n",
      "目前來賓名單： ['Mary', 'Tracy']\n"
     ]
    }
   ],
   "source": [
    "guest_list = ['Mary', 'Josh', 'Tracy']\n",
    "print(\"目前來賓名單：\", guest_list)\n",
    "option = input(\"輸入「1」增加一位來賓，輸入「2」刪除一位來賓：\")\n",
    "\n",
    "if option == \"1\":\n",
    "    guest = input(\"請輸入來賓姓名：\")\n",
    "    if guest in guest_list:\n",
    "        print(\"此來賓已在名單內\")\n",
    "    else:\n",
    "        guest_list.append(guest)\n",
    "        print(\"來賓新增成功\")\n",
    "        print(\"目前來賓名單：\", guest_list)\n",
    "elif option == \"2\":\n",
    "    guest = input(\"請輸入來賓姓名：\")\n",
    "    if guest in guest_list:\n",
    "        guest_list.remove(guest)\n",
    "        print(\"來賓刪除成功\")\n",
    "        print(\"目前來賓名單：\", guest_list)\n",
    "    else:\n",
    "        print(\"此來賓不在名單內\")\n",
    "else:\n",
    "    print(\"輸入錯誤\")"
   ]
  }
 ],
 "metadata": {
  "kernelspec": {
   "display_name": "Python 3",
   "language": "python",
   "name": "python3"
  },
  "language_info": {
   "codemirror_mode": {
    "name": "ipython",
    "version": 3
   },
   "file_extension": ".py",
   "mimetype": "text/x-python",
   "name": "python",
   "nbconvert_exporter": "python",
   "pygments_lexer": "ipython3",
   "version": "3.6.8"
  }
 },
 "nbformat": 4,
 "nbformat_minor": 4
}
