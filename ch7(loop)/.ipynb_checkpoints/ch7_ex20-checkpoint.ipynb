{
 "cells": [
  {
   "cell_type": "markdown",
   "metadata": {},
   "source": [
    "# 簡化ch7_ex19"
   ]
  },
  {
   "cell_type": "code",
   "execution_count": 2,
   "metadata": {},
   "outputs": [
    {
     "name": "stdout",
     "output_type": "stream",
     "text": [
      "Red Circle\n",
      "Red Line\n",
      "Red Square\n",
      "Yellow Circle\n",
      "Yellow Line\n",
      "Yellow Square\n",
      "Orange Circle\n",
      "Orange Line\n",
      "Orange Square\n",
      "Purple Circle\n",
      "Purple Line\n",
      "Purple Square\n"
     ]
    }
   ],
   "source": [
    "colors = ['Red', 'Yellow', 'Orange', 'Purple']\n",
    "shapes = ['Circle', 'Line', 'Square']\n",
    "result = [[color, shape] for color in colors for shape in shapes]\n",
    "for color, shape in result:\n",
    "    print(color, shape)"
   ]
  }
 ],
 "metadata": {
  "kernelspec": {
   "display_name": "Python 3",
   "language": "python",
   "name": "python3"
  },
  "language_info": {
   "name": ""
  }
 },
 "nbformat": 4,
 "nbformat_minor": 4
}
