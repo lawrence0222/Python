{
 "cells": [
  {
   "cell_type": "code",
   "execution_count": 1,
   "metadata": {},
   "outputs": [
    {
     "name": "stdout",
     "output_type": "stream",
     "text": [
      "98\n",
      "94\n",
      "88\n",
      "87\n",
      "85\n"
     ]
    }
   ],
   "source": [
    "scores = [94, 62, 87, 54, 67, 88, 98, 76, 84, 52, 85, 83]\n",
    "scores.sort(reverse = True)\n",
    "count = 0\n",
    "for score in scores:\n",
    "    if count >= 5: break\n",
    "    print(score)\n",
    "    count += 1\n"
   ]
  }
 ],
 "metadata": {
  "kernelspec": {
   "display_name": "Python 3",
   "language": "python",
   "name": "python3"
  },
  "language_info": {
   "codemirror_mode": {
    "name": "ipython",
    "version": 3
   },
   "file_extension": ".py",
   "mimetype": "text/x-python",
   "name": "python",
   "nbconvert_exporter": "python",
   "pygments_lexer": "ipython3",
   "version": "3.6.8"
  }
 },
 "nbformat": 4,
 "nbformat_minor": 4
}
