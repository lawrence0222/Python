{
 "cells": [
  {
   "cell_type": "markdown",
   "metadata": {},
   "source": [
    "# 改良ch7_ex29，結束時不再輸出結束"
   ]
  },
  {
   "cell_type": "code",
   "execution_count": 1,
   "metadata": {},
   "outputs": [],
   "source": [
    "msg1 = '想說什麼都可以'\n",
    "msg2 = '輸入「結束」可以結束對話'\n",
    "msg = msg1 + '\\n' + msg2 + '\\n'\n",
    "input_msg = ''"
   ]
  },
  {
   "cell_type": "code",
   "execution_count": 3,
   "metadata": {},
   "outputs": [
    {
     "name": "stdin",
     "output_type": "stream",
     "text": [
      "想說什麼都可以\n",
      "輸入「結束」可以結束對話\n",
      " 嗨你好\n"
     ]
    },
    {
     "name": "stdout",
     "output_type": "stream",
     "text": [
      "繼續說我還在聽\n"
     ]
    },
    {
     "name": "stdin",
     "output_type": "stream",
     "text": [
      "想說什麼都可以\n",
      "輸入「結束」可以結束對話\n",
      " 要去高雄嗎\n"
     ]
    },
    {
     "name": "stdout",
     "output_type": "stream",
     "text": [
      "繼續說我還在聽\n"
     ]
    },
    {
     "name": "stdin",
     "output_type": "stream",
     "text": [
      "想說什麼都可以\n",
      "輸入「結束」可以結束對話\n",
      " 結束\n"
     ]
    }
   ],
   "source": [
    "while input_msg != '結束':\n",
    "    input_msg = input(msg)\n",
    "    if input_msg == '結束': break\n",
    "    print(\"繼續說我還在聽\")"
   ]
  }
 ],
 "metadata": {
  "kernelspec": {
   "display_name": "Python 3",
   "language": "python",
   "name": "python3"
  },
  "language_info": {
   "codemirror_mode": {
    "name": "ipython",
    "version": 3
   },
   "file_extension": ".py",
   "mimetype": "text/x-python",
   "name": "python",
   "nbconvert_exporter": "python",
   "pygments_lexer": "ipython3",
   "version": "3.6.8"
  }
 },
 "nbformat": 4,
 "nbformat_minor": 4
}
