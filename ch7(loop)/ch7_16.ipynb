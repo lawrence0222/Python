{
 "cells": [
  {
   "cell_type": "code",
   "execution_count": 13,
   "metadata": {},
   "outputs": [
    {
     "name": "stdin",
     "output_type": "stream",
     "text": [
      "請輸入第一個數字： 184\n",
      "請輸入第二個數字： 76\n"
     ]
    },
    {
     "name": "stdout",
     "output_type": "stream",
     "text": [
      "184和76的最大公因數4\n"
     ]
    }
   ],
   "source": [
    "x1 = eval(input(\"請輸入第一個數字：\"))\n",
    "x2 = eval(input(\"請輸入第二個數字：\"))\n",
    "n = 2\n",
    "gcd = 0\n",
    "while True:\n",
    "    if x1 % n == 0 and x2 % n == 0:\n",
    "        gcd = n\n",
    "    elif n == x1 or n == x2:\n",
    "        break\n",
    "    n += 1\n",
    "\n",
    "print(\"%d和%d的最大公因數%d\" % (x1, x2, gcd))"
   ]
  },
  {
   "cell_type": "code",
   "execution_count": null,
   "metadata": {},
   "outputs": [],
   "source": []
  }
 ],
 "metadata": {
  "kernelspec": {
   "display_name": "Python 3",
   "language": "python",
   "name": "python3"
  },
  "language_info": {
   "codemirror_mode": {
    "name": "ipython",
    "version": 3
   },
   "file_extension": ".py",
   "mimetype": "text/x-python",
   "name": "python",
   "nbconvert_exporter": "python",
   "pygments_lexer": "ipython3",
   "version": "3.6.8"
  }
 },
 "nbformat": 4,
 "nbformat_minor": 4
}
