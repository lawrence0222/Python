{
 "cells": [
  {
   "cell_type": "markdown",
   "metadata": {},
   "source": [
    "# 猜數字遊戲"
   ]
  },
  {
   "cell_type": "code",
   "execution_count": 1,
   "metadata": {},
   "outputs": [],
   "source": [
    "import random"
   ]
  },
  {
   "cell_type": "code",
   "execution_count": 2,
   "metadata": {},
   "outputs": [
    {
     "name": "stdout",
     "output_type": "stream",
     "text": [
      "請猜1~100間的數字："
     ]
    },
    {
     "name": "stdin",
     "output_type": "stream",
     "text": [
      " 50\n"
     ]
    },
    {
     "name": "stdout",
     "output_type": "stream",
     "text": [
      "請猜大一點\n"
     ]
    },
    {
     "name": "stdin",
     "output_type": "stream",
     "text": [
      " 75\n"
     ]
    },
    {
     "name": "stdout",
     "output_type": "stream",
     "text": [
      "請猜大一點\n"
     ]
    },
    {
     "name": "stdin",
     "output_type": "stream",
     "text": [
      " 88\n"
     ]
    },
    {
     "name": "stdout",
     "output_type": "stream",
     "text": [
      "請猜大一點\n"
     ]
    },
    {
     "name": "stdin",
     "output_type": "stream",
     "text": [
      " 98\n"
     ]
    },
    {
     "name": "stdout",
     "output_type": "stream",
     "text": [
      "請猜小一點\n"
     ]
    },
    {
     "name": "stdin",
     "output_type": "stream",
     "text": [
      " 90\n"
     ]
    },
    {
     "name": "stdout",
     "output_type": "stream",
     "text": [
      "請猜大一點\n"
     ]
    },
    {
     "name": "stdin",
     "output_type": "stream",
     "text": [
      " 91\n"
     ]
    },
    {
     "name": "stdout",
     "output_type": "stream",
     "text": [
      "請猜大一點\n"
     ]
    },
    {
     "name": "stdin",
     "output_type": "stream",
     "text": [
      " 94\n"
     ]
    },
    {
     "name": "stdout",
     "output_type": "stream",
     "text": [
      "請猜小一點\n"
     ]
    },
    {
     "name": "stdin",
     "output_type": "stream",
     "text": [
      " 93\n"
     ]
    },
    {
     "name": "stdout",
     "output_type": "stream",
     "text": [
      "請猜小一點\n"
     ]
    },
    {
     "name": "stdin",
     "output_type": "stream",
     "text": [
      " 92\n"
     ]
    },
    {
     "name": "stdout",
     "output_type": "stream",
     "text": [
      "恭喜你猜對了!\n"
     ]
    }
   ],
   "source": [
    "answer = random.randint(0,99)\n",
    "guess = 0\n",
    "print(\"請猜1~100間的數字：\", end=\"\")\n",
    "while guess != answer:\n",
    "    guess = int(input())\n",
    "    if guess > answer:\n",
    "        print(\"請猜小一點\")\n",
    "    elif guess < answer:\n",
    "        print(\"請猜大一點\")\n",
    "    else:\n",
    "        print(\"恭喜你猜對了!\")"
   ]
  }
 ],
 "metadata": {
  "kernelspec": {
   "display_name": "Python 3",
   "language": "python",
   "name": "python3"
  },
  "language_info": {
   "codemirror_mode": {
    "name": "ipython",
    "version": 3
   },
   "file_extension": ".py",
   "mimetype": "text/x-python",
   "name": "python",
   "nbconvert_exporter": "python",
   "pygments_lexer": "ipython3",
   "version": "3.6.8"
  }
 },
 "nbformat": 4,
 "nbformat_minor": 4
}
