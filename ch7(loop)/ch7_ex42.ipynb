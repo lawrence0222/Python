{
 "cells": [
  {
   "cell_type": "markdown",
   "metadata": {},
   "source": [
    "# 繼續設計ch6_ex57，將enumerate物件的索引值與元素值解析出來"
   ]
  },
  {
   "cell_type": "code",
   "execution_count": 1,
   "metadata": {},
   "outputs": [],
   "source": [
    "drinks = ['coffee', 'tea', 'wine']"
   ]
  },
  {
   "cell_type": "code",
   "execution_count": 2,
   "metadata": {},
   "outputs": [
    {
     "name": "stdout",
     "output_type": "stream",
     "text": [
      "(0, 'coffee')\n",
      "(1, 'tea')\n",
      "(2, 'wine')\n"
     ]
    }
   ],
   "source": [
    "for drink in enumerate(drinks):\n",
    "    print(drink)"
   ]
  },
  {
   "cell_type": "code",
   "execution_count": 6,
   "metadata": {},
   "outputs": [
    {
     "name": "stdout",
     "output_type": "stream",
     "text": [
      "0 coffee\n",
      "1 tea\n",
      "2 wine\n"
     ]
    }
   ],
   "source": [
    "for count, drink in enumerate(drinks):\n",
    "    print(count, drink)"
   ]
  },
  {
   "cell_type": "code",
   "execution_count": 7,
   "metadata": {},
   "outputs": [
    {
     "name": "stdout",
     "output_type": "stream",
     "text": [
      "(10, 'coffee')\n",
      "(11, 'tea')\n",
      "(12, 'wine')\n"
     ]
    }
   ],
   "source": [
    "for drink in enumerate(drinks, 10):\n",
    "    print(drink)"
   ]
  },
  {
   "cell_type": "code",
   "execution_count": 8,
   "metadata": {},
   "outputs": [
    {
     "name": "stdout",
     "output_type": "stream",
     "text": [
      "10 coffee\n",
      "11 tea\n",
      "12 wine\n"
     ]
    }
   ],
   "source": [
    "for count, drink in enumerate(drinks, start = 10):\n",
    "    print(count, drink)"
   ]
  }
 ],
 "metadata": {
  "kernelspec": {
   "display_name": "Python 3",
   "language": "python",
   "name": "python3"
  },
  "language_info": {
   "codemirror_mode": {
    "name": "ipython",
    "version": 3
   },
   "file_extension": ".py",
   "mimetype": "text/x-python",
   "name": "python",
   "nbconvert_exporter": "python",
   "pygments_lexer": "ipython3",
   "version": "3.6.8"
  }
 },
 "nbformat": 4,
 "nbformat_minor": 4
}
