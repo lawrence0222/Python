{
 "cells": [
  {
   "cell_type": "code",
   "execution_count": 1,
   "metadata": {},
   "outputs": [],
   "source": [
    "files = ['da1.jpg', 'da2.png', 'da3.gif', 'da4.gif', 'da5.jpg', 'da6.jpg', 'da7.gif']\n",
    "files_jpg = []\n",
    "files_png = []\n",
    "files_gif = []"
   ]
  },
  {
   "cell_type": "code",
   "execution_count": 2,
   "metadata": {},
   "outputs": [
    {
     "name": "stdout",
     "output_type": "stream",
     "text": [
      "files_jpg： ['da1.jpg', 'da5.jpg', 'da6.jpg']\n",
      "files_png： ['da2.png']\n",
      "files_gif： ['da3.gif', 'da4.gif', 'da7.gif']\n"
     ]
    }
   ],
   "source": [
    "for file in files:\n",
    "    if file.endswith('.jpg'):\n",
    "        files_jpg.append(file)\n",
    "    elif file.endswith('.png'):\n",
    "        files_png.append(file)\n",
    "    else:\n",
    "        files_gif.append(file)\n",
    "print(\"files_jpg：\", files_jpg)\n",
    "print(\"files_png：\", files_png)\n",
    "print(\"files_gif：\", files_gif)"
   ]
  }
 ],
 "metadata": {
  "kernelspec": {
   "display_name": "Python 3",
   "language": "python",
   "name": "python3"
  },
  "language_info": {
   "codemirror_mode": {
    "name": "ipython",
    "version": 3
   },
   "file_extension": ".py",
   "mimetype": "text/x-python",
   "name": "python",
   "nbconvert_exporter": "python",
   "pygments_lexer": "ipython3",
   "version": "3.6.8"
  }
 },
 "nbformat": 4,
 "nbformat_minor": 4
}
