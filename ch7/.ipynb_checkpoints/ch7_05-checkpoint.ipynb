{
 "cells": [
  {
   "cell_type": "code",
   "execution_count": 4,
   "metadata": {},
   "outputs": [
    {
     "name": "stdin",
     "output_type": "stream",
     "text": [
      "請輸入n值： 1\n",
      "請輸入m值： 100\n"
     ]
    },
    {
     "name": "stdout",
     "output_type": "stream",
     "text": [
      "100加到100的結果是：5050\n"
     ]
    }
   ],
   "source": [
    "check = True\n",
    "while check:\n",
    "    n = eval(input(\"請輸入n值：\"))\n",
    "    m = eval(input(\"請輸入m值：\"))\n",
    "    if m <= n:\n",
    "        print(\"m值必須大於n值，請重新輸入\")\n",
    "        continue\n",
    "    check = False\n",
    "sum = 0\n",
    "for n in range(n, m+1):\n",
    "    sum += n\n",
    "print(\"%d加到%d的結果是：%d\" % (n, m, sum))"
   ]
  }
 ],
 "metadata": {
  "kernelspec": {
   "display_name": "Python 3",
   "language": "python",
   "name": "python3"
  },
  "language_info": {
   "codemirror_mode": {
    "name": "ipython",
    "version": 3
   },
   "file_extension": ".py",
   "mimetype": "text/x-python",
   "name": "python",
   "nbconvert_exporter": "python",
   "pygments_lexer": "ipython3",
   "version": "3.6.8"
  }
 },
 "nbformat": 4,
 "nbformat_minor": 4
}
