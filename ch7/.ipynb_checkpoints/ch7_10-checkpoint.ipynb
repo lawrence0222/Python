{
 "cells": [
  {
   "cell_type": "code",
   "execution_count": 6,
   "metadata": {},
   "outputs": [
    {
     "name": "stdout",
     "output_type": "stream",
     "text": [
      "1\n",
      "1,2\n",
      "1,2,3\n",
      "1,2,3,4\n",
      "1,2,3,4,5\n",
      "1,2,3,4,5,6\n",
      "1,2,3,4,5,6,7\n",
      "1,2,3,4,5,6,7,8\n",
      "1,2,3,4,5,6,7,8,9\n"
     ]
    }
   ],
   "source": [
    "for i in range(1, 10):\n",
    "    for j in range(1, i+1):\n",
    "        if j == i:\n",
    "            print(j, end='')\n",
    "            continue\n",
    "        print(j,end=',')\n",
    "    print()"
   ]
  }
 ],
 "metadata": {
  "kernelspec": {
   "display_name": "Python 3",
   "language": "python",
   "name": "python3"
  },
  "language_info": {
   "codemirror_mode": {
    "name": "ipython",
    "version": 3
   },
   "file_extension": ".py",
   "mimetype": "text/x-python",
   "name": "python",
   "nbconvert_exporter": "python",
   "pygments_lexer": "ipython3",
   "version": "3.6.8"
  }
 },
 "nbformat": 4,
 "nbformat_minor": 4
}
