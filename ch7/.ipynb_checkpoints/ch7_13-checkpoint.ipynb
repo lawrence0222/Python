{
 "cells": [
  {
   "cell_type": "code",
   "execution_count": 4,
   "metadata": {},
   "outputs": [
    {
     "name": "stdout",
     "output_type": "stream",
     "text": [
      "[2, 5, 7, 11, 13, 17, 19, 23, 29, 31, 37, 41, 43, 47, 53, 59, 61, 67, 71, 73, 79]\n"
     ]
    }
   ],
   "source": [
    "prime = []\n",
    "num = 2\n",
    "while len(prime) <= 20:\n",
    "    if num == 2:\n",
    "        prime.append(num)\n",
    "        num += 1\n",
    "        continue\n",
    "    for x in range(2, num):\n",
    "        if num % x == 0:\n",
    "            break\n",
    "        elif x == num//2 and num % x != 0:\n",
    "            prime.append(num)\n",
    "    num += 1\n",
    "print(prime)"
   ]
  }
 ],
 "metadata": {
  "kernelspec": {
   "display_name": "Python 3",
   "language": "python",
   "name": "python3"
  },
  "language_info": {
   "codemirror_mode": {
    "name": "ipython",
    "version": 3
   },
   "file_extension": ".py",
   "mimetype": "text/x-python",
   "name": "python",
   "nbconvert_exporter": "python",
   "pygments_lexer": "ipython3",
   "version": "3.6.8"
  }
 },
 "nbformat": 4,
 "nbformat_minor": 4
}
