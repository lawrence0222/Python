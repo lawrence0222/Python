{
 "cells": [
  {
   "cell_type": "code",
   "execution_count": 1,
   "metadata": {},
   "outputs": [],
   "source": [
    "buyers = [['James', 1030],\n",
    "          ['Curry', 893],\n",
    "          ['Durant', 2050],\n",
    "          ['Jordan', 990],\n",
    "          ['David', 2110],\n",
    "          ['Kevin', 15000],\n",
    "          ['Mary', 10050],\n",
    "          ['Tom', 8800]]\n",
    "goldbuyers = []\n",
    "vipbuyers = []\n",
    "infinitebuyers = []"
   ]
  },
  {
   "cell_type": "code",
   "execution_count": 2,
   "metadata": {},
   "outputs": [
    {
     "name": "stdout",
     "output_type": "stream",
     "text": [
      "[['Jordan', 990], ['Curry', 893]]\n",
      "[['Tom', 8800], ['David', 2110], ['Durant', 2050], ['James', 1030]]\n",
      "[['Mary', 10050], ['Kevin', 15000]]\n"
     ]
    }
   ],
   "source": [
    "while buyers:\n",
    "    buyer = buyers.pop()\n",
    "    if buyer[1] >= 10000:\n",
    "        infinitebuyers.append(buyer)\n",
    "    elif buyer[1] < 1000:\n",
    "        goldbuyers.append(buyer)\n",
    "    else:\n",
    "        vipbuyers.append(buyer)\n",
    "\n",
    "print(goldbuyers)\n",
    "print(vipbuyers)\n",
    "print(infinitebuyers)"
   ]
  }
 ],
 "metadata": {
  "kernelspec": {
   "display_name": "Python 3",
   "language": "python",
   "name": "python3"
  },
  "language_info": {
   "codemirror_mode": {
    "name": "ipython",
    "version": 3
   },
   "file_extension": ".py",
   "mimetype": "text/x-python",
   "name": "python",
   "nbconvert_exporter": "python",
   "pygments_lexer": "ipython3",
   "version": "3.6.8"
  }
 },
 "nbformat": 4,
 "nbformat_minor": 4
}
