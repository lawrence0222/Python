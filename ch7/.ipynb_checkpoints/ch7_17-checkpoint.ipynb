{
 "cells": [
  {
   "cell_type": "code",
   "execution_count": 3,
   "metadata": {},
   "outputs": [
    {
     "name": "stdout",
     "output_type": "stream",
     "text": [
      "1 李子\n",
      "2 香蕉\n",
      "3 蘋果\n",
      "4 西瓜\n",
      "5 桃子\n"
     ]
    }
   ],
   "source": [
    "fruits = ['李子','香蕉','蘋果','西瓜','桃子']\n",
    "for fruit in enumerate(fruits):\n",
    "    print(fruit[0]+1, fruit[1])"
   ]
  }
 ],
 "metadata": {
  "kernelspec": {
   "display_name": "Python 3",
   "language": "python",
   "name": "python3"
  },
  "language_info": {
   "codemirror_mode": {
    "name": "ipython",
    "version": 3
   },
   "file_extension": ".py",
   "mimetype": "text/x-python",
   "name": "python",
   "nbconvert_exporter": "python",
   "pygments_lexer": "ipython3",
   "version": "3.6.8"
  }
 },
 "nbformat": 4,
 "nbformat_minor": 4
}
