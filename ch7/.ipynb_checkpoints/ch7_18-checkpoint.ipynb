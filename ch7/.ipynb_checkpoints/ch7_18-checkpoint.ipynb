{
 "cells": [
  {
   "cell_type": "code",
   "execution_count": 7,
   "metadata": {},
   "outputs": [
    {
     "name": "stdout",
     "output_type": "stream",
     "text": [
      "['鄭X昕', 80, 95, 88, 263, 87.7]\n",
      "['宋X萱', 98, 97, 96, 291, 97.0]\n",
      "['陳X彤', 85, 84, 92, 261, 87.0]\n",
      "['蔡X真', 92, 90, 96, 278, 92.7]\n",
      "['黃X琪', 88, 76, 90, 254, 84.7]\n",
      "['鄭X純', 80, 95, 88, 263, 87.7]\n"
     ]
    }
   ],
   "source": [
    "sc = [['鄭X昕', 80, 95, 88],\n",
    "      ['宋X萱', 98, 97, 96],\n",
    "      ['陳X彤', 85, 84, 92],\n",
    "      ['蔡X真', 92, 90, 96],\n",
    "      ['黃X琪', 88, 76, 90],\n",
    "      ['鄭X純', 80, 95, 88]\n",
    "     ]\n",
    "for i in sc:\n",
    "    i.append(sum(i[1:len(i)]))\n",
    "    i.append(round(i[-1]/3, 1))\n",
    "    print(i)\n"
   ]
  },
  {
   "cell_type": "code",
   "execution_count": 8,
   "metadata": {},
   "outputs": [
    {
     "data": {
      "text/plain": [
       "[['宋X萱', 98, 97, 96, 291, 97.0],\n",
       " ['蔡X真', 92, 90, 96, 278, 92.7],\n",
       " ['鄭X昕', 80, 95, 88, 263, 87.7],\n",
       " ['鄭X純', 80, 95, 88, 263, 87.7],\n",
       " ['陳X彤', 85, 84, 92, 261, 87.0],\n",
       " ['黃X琪', 88, 76, 90, 254, 84.7]]"
      ]
     },
     "execution_count": 8,
     "metadata": {},
     "output_type": "execute_result"
    }
   ],
   "source": [
    "# 照成績高低排序\n",
    "sc.sort(key=lambda x:x[4], reverse = True)\n",
    "sc"
   ]
  },
  {
   "cell_type": "code",
   "execution_count": 9,
   "metadata": {},
   "outputs": [
    {
     "data": {
      "text/plain": [
       "[['宋X萱', 98, 97, 96, 291, 97.0, 1],\n",
       " ['蔡X真', 92, 90, 96, 278, 92.7, 2],\n",
       " ['鄭X昕', 80, 95, 88, 263, 87.7, 3],\n",
       " ['鄭X純', 80, 95, 88, 263, 87.7, 4],\n",
       " ['陳X彤', 85, 84, 92, 261, 87.0, 5],\n",
       " ['黃X琪', 88, 76, 90, 254, 84.7, 6]]"
      ]
     },
     "execution_count": 9,
     "metadata": {},
     "output_type": "execute_result"
    }
   ],
   "source": [
    "# 給予名次\n",
    "for i in range(len(sc)):\n",
    "    sc[i].append(i+1)\n",
    "sc"
   ]
  },
  {
   "cell_type": "code",
   "execution_count": 11,
   "metadata": {},
   "outputs": [
    {
     "data": {
      "text/plain": [
       "[['宋X萱', 98, 97, 96, 291, 97.0, 1],\n",
       " ['蔡X真', 92, 90, 96, 278, 92.7, 2],\n",
       " ['鄭X昕', 80, 95, 88, 263, 87.7, 3],\n",
       " ['鄭X純', 80, 95, 88, 263, 87.7, 3],\n",
       " ['陳X彤', 85, 84, 92, 261, 87.0, 5],\n",
       " ['黃X琪', 88, 76, 90, 254, 84.7, 6]]"
      ]
     },
     "execution_count": 11,
     "metadata": {},
     "output_type": "execute_result"
    }
   ],
   "source": [
    "# 相同成績的排名要一樣\n",
    "for i in range(1, len(sc)):\n",
    "    if sc[i][4] == sc[i-1][4]:\n",
    "        sc[i][6] = sc[i-1][6]\n",
    "sc"
   ]
  }
 ],
 "metadata": {
  "kernelspec": {
   "display_name": "Python 3",
   "language": "python",
   "name": "python3"
  },
  "language_info": {
   "codemirror_mode": {
    "name": "ipython",
    "version": 3
   },
   "file_extension": ".py",
   "mimetype": "text/x-python",
   "name": "python",
   "nbconvert_exporter": "python",
   "pygments_lexer": "ipython3",
   "version": "3.6.8"
  }
 },
 "nbformat": 4,
 "nbformat_minor": 4
}
