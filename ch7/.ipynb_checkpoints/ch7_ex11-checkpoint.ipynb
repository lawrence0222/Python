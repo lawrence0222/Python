{
 "cells": [
  {
   "cell_type": "code",
   "execution_count": 2,
   "metadata": {},
   "outputs": [
    {
     "name": "stdout",
     "output_type": "stream",
     "text": [
      "第1 年的本金和：50749\n",
      "第2 年的本金和：51511\n",
      "第3 年的本金和：52283\n",
      "第4 年的本金和：53068\n",
      "第5 年的本金和：53864\n"
     ]
    }
   ],
   "source": [
    "money = 50000\n",
    "rate = 0.015\n",
    "n = 5\n",
    "for i in range(n):\n",
    "    money *= (1 + rate)\n",
    "    print(\"第%d 年的本金和：%d\" % (i+1, money))"
   ]
  }
 ],
 "metadata": {
  "kernelspec": {
   "display_name": "Python 3",
   "language": "python",
   "name": "python3"
  },
  "language_info": {
   "codemirror_mode": {
    "name": "ipython",
    "version": 3
   },
   "file_extension": ".py",
   "mimetype": "text/x-python",
   "name": "python",
   "nbconvert_exporter": "python",
   "pygments_lexer": "ipython3",
   "version": "3.6.8"
  }
 },
 "nbformat": 4,
 "nbformat_minor": 4
}
