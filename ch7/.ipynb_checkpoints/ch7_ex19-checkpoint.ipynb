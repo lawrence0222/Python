{
 "cells": [
  {
   "cell_type": "code",
   "execution_count": 1,
   "metadata": {},
   "outputs": [
    {
     "data": {
      "text/plain": [
       "[['Red', 'Circle'],\n",
       " ['Red', 'Line'],\n",
       " ['Red', 'Square'],\n",
       " ['Yellow', 'Circle'],\n",
       " ['Yellow', 'Line'],\n",
       " ['Yellow', 'Square'],\n",
       " ['Orange', 'Circle'],\n",
       " ['Orange', 'Line'],\n",
       " ['Orange', 'Square'],\n",
       " ['Purple', 'Circle'],\n",
       " ['Purple', 'Line'],\n",
       " ['Purple', 'Square']]"
      ]
     },
     "execution_count": 1,
     "metadata": {},
     "output_type": "execute_result"
    }
   ],
   "source": [
    "colors = ['Red', 'Yellow', 'Orange', 'Purple']\n",
    "shapes = ['Circle', 'Line', 'Square']\n",
    "result = [[color,shape] for color in colors for shape in shapes]\n",
    "result"
   ]
  }
 ],
 "metadata": {
  "kernelspec": {
   "display_name": "Python 3",
   "language": "python",
   "name": "python3"
  },
  "language_info": {
   "codemirror_mode": {
    "name": "ipython",
    "version": 3
   },
   "file_extension": ".py",
   "mimetype": "text/x-python",
   "name": "python",
   "nbconvert_exporter": "python",
   "pygments_lexer": "ipython3",
   "version": "3.6.8"
  }
 },
 "nbformat": 4,
 "nbformat_minor": 4
}
