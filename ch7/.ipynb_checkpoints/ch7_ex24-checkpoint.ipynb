{
 "cells": [
  {
   "cell_type": "code",
   "execution_count": 2,
   "metadata": {},
   "outputs": [
    {
     "name": "stdin",
     "output_type": "stream",
     "text": [
      "請輸入人數： 66\n"
     ]
    },
    {
     "name": "stdout",
     "output_type": "stream",
     "text": [
      "Curry\n",
      "Kobe\n",
      "James\n",
      "Jordan\n",
      "Durant\n",
      "Kevin\n",
      "Obama\n",
      "Lin\n"
     ]
    }
   ],
   "source": [
    "players = ['Curry', 'Kobe', 'James', 'Jordan', 'Durant', 'Kevin', 'Obama', 'Lin']\n",
    "n = int(input(\"請輸入人數：\"))\n",
    "if n > len(players): n = len(players)\n",
    "index = 0\n",
    "for player in players:\n",
    "    if index == n:\n",
    "        break\n",
    "    print(player)\n",
    "    index += 1\n"
   ]
  }
 ],
 "metadata": {
  "kernelspec": {
   "display_name": "Python 3",
   "language": "python",
   "name": "python3"
  },
  "language_info": {
   "codemirror_mode": {
    "name": "ipython",
    "version": 3
   },
   "file_extension": ".py",
   "mimetype": "text/x-python",
   "name": "python",
   "nbconvert_exporter": "python",
   "pygments_lexer": "ipython3",
   "version": "3.6.8"
  }
 },
 "nbformat": 4,
 "nbformat_minor": 4
}
