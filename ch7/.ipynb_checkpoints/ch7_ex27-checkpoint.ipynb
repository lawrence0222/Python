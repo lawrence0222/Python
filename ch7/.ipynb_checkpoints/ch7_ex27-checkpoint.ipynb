{
 "cells": [
  {
   "cell_type": "code",
   "execution_count": 1,
   "metadata": {},
   "outputs": [],
   "source": [
    "players = [['James', 202],\n",
    "           ['curry', 193],\n",
    "           ['Durant', 205],\n",
    "           ['Jordan', 199],\n",
    "           ['David', 211]]"
   ]
  },
  {
   "cell_type": "code",
   "execution_count": 2,
   "metadata": {},
   "outputs": [
    {
     "name": "stdout",
     "output_type": "stream",
     "text": [
      "James身高超過兩百\n",
      "Durant身高超過兩百\n",
      "David身高超過兩百\n"
     ]
    }
   ],
   "source": [
    "for player in players:\n",
    "    if player[1] < 200: continue\n",
    "    print(\"%s身高超過兩百\" % player[0])"
   ]
  }
 ],
 "metadata": {
  "kernelspec": {
   "display_name": "Python 3",
   "language": "python",
   "name": "python3"
  },
  "language_info": {
   "codemirror_mode": {
    "name": "ipython",
    "version": 3
   },
   "file_extension": ".py",
   "mimetype": "text/x-python",
   "name": "python",
   "nbconvert_exporter": "python",
   "pygments_lexer": "ipython3",
   "version": "3.6.8"
  }
 },
 "nbformat": 4,
 "nbformat_minor": 4
}
