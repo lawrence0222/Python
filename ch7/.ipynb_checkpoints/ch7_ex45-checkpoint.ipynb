{
 "cells": [
  {
   "cell_type": "code",
   "execution_count": 29,
   "metadata": {},
   "outputs": [],
   "source": [
    "store = '士林購物中心'\n",
    "products = ['電視', '冰箱', '冷氣', '微波爐', '電風扇', '洗衣機']\n",
    "cart = []"
   ]
  },
  {
   "cell_type": "code",
   "execution_count": 30,
   "metadata": {},
   "outputs": [
    {
     "name": "stdout",
     "output_type": "stream",
     "text": [
      "士林購物中心\n",
      "['電視', '冰箱', '冷氣', '微波爐', '電風扇', '洗衣機']\n"
     ]
    },
    {
     "name": "stdin",
     "output_type": "stream",
     "text": [
      "請輸入欲購買商品(輸入'done'為結束)： 2u04g4\n"
     ]
    },
    {
     "name": "stdout",
     "output_type": "stream",
     "text": [
      "查無此商品，請重新輸入\n"
     ]
    },
    {
     "name": "stdin",
     "output_type": "stream",
     "text": [
      "請輸入欲購買商品(輸入'done'為結束)： 電視\n",
      "請輸入欲購買商品(輸入'done'為結束)： 冷氣\n",
      "請輸入欲購買商品(輸入'done'為結束)： 洗衣機\n",
      "請輸入欲購買商品(輸入'done'為結束)： 微波爐\n",
      "請輸入欲購買商品(輸入'done'為結束)： 電視\n",
      "請輸入欲購買商品(輸入'done'為結束)： 電視\n",
      "請輸入欲購買商品(輸入'done'為結束)： 洗衣機\n",
      "請輸入欲購買商品(輸入'done'為結束)： 冷氣\n",
      "請輸入欲購買商品(輸入'done'為結束)： done\n"
     ]
    },
    {
     "name": "stdout",
     "output_type": "stream",
     "text": [
      "已選擇商品\n",
      "電視 數量：3\n",
      "冷氣 數量：2\n",
      "洗衣機 數量：2\n",
      "微波爐 數量：1\n"
     ]
    }
   ],
   "source": [
    "print(store)\n",
    "print(products)\n",
    "while True:\n",
    "    choice = input(\"請輸入欲購買商品(輸入'done'為結束)：\")\n",
    "    if choice == 'done': break\n",
    "    elif products.count(choice) == 0:\n",
    "        print(\"查無此商品，請重新輸入\")\n",
    "        continue\n",
    "    else:\n",
    "        cart.append(choice)\n",
    "print(\"已選擇商品\")\n",
    "while True:\n",
    "    if len(cart) == 0: break\n",
    "    commodity = cart[0]\n",
    "    count = cart.count(commodity)\n",
    "    print(\"%s 數量：%d\" % (commodity, count))\n",
    "    for i in range(count):\n",
    "        cart.remove(commodity)"
   ]
  }
 ],
 "metadata": {
  "kernelspec": {
   "display_name": "Python 3",
   "language": "python",
   "name": "python3"
  },
  "language_info": {
   "codemirror_mode": {
    "name": "ipython",
    "version": 3
   },
   "file_extension": ".py",
   "mimetype": "text/x-python",
   "name": "python",
   "nbconvert_exporter": "python",
   "pygments_lexer": "ipython3",
   "version": "3.6.8"
  }
 },
 "nbformat": 4,
 "nbformat_minor": 4
}
