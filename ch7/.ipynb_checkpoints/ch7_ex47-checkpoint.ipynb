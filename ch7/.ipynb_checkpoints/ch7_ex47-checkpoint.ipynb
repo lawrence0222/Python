{
 "cells": [
  {
   "cell_type": "code",
   "execution_count": 2,
   "metadata": {},
   "outputs": [
    {
     "name": "stdout",
     "output_type": "stream",
     "text": [
      "當 i =  100000 時，PI = 3.1415826535897197758\n",
      "當 i =  200000 時，PI = 3.1415876535897617750\n",
      "當 i =  300000 時，PI = 3.1415893202564642017\n",
      "當 i =  400000 時，PI = 3.1415901535897439167\n",
      "當 i =  500000 時，PI = 3.1415906535896920282\n",
      "當 i =  600000 時，PI = 3.1415909869230147500\n",
      "當 i =  700000 時，PI = 3.1415912250182609355\n",
      "當 i =  800000 時，PI = 3.1415914035897172241\n",
      "當 i =  900000 時，PI = 3.1415915424786509114\n",
      "當 i = 1000000 時，PI = 3.1415916535897743245\n"
     ]
    }
   ],
   "source": [
    "x = 1000001\n",
    "pi = 0\n",
    "for i in range(1,x+1):\n",
    "    pi += 4 * ((-1) ** (i + 1) / (2 * i - 1))\n",
    "    if i % 100000 == 0:\n",
    "        print(\"當 i = %7d 時，PI = %20.19f\" % (i, pi))"
   ]
  }
 ],
 "metadata": {
  "kernelspec": {
   "display_name": "Python 3",
   "language": "python",
   "name": "python3"
  },
  "language_info": {
   "codemirror_mode": {
    "name": "ipython",
    "version": 3
   },
   "file_extension": ".py",
   "mimetype": "text/x-python",
   "name": "python",
   "nbconvert_exporter": "python",
   "pygments_lexer": "ipython3",
   "version": "3.6.8"
  }
 },
 "nbformat": 4,
 "nbformat_minor": 4
}
