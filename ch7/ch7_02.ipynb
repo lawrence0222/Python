{
 "cells": [
  {
   "cell_type": "code",
   "execution_count": 3,
   "metadata": {},
   "outputs": [
    {
     "name": "stdout",
     "output_type": "stream",
     "text": [
      "身高200公分以上的球員：\n",
      "James\n",
      "Durant\n",
      "David\n"
     ]
    }
   ],
   "source": [
    "players = [['James', 202],\n",
    "           ['Curry', 193],\n",
    "           ['Durant', 205],\n",
    "           ['Jordan', 199],\n",
    "           ['David', 211]]\n",
    "print(\"身高200公分以上的球員：\")\n",
    "for player in players:\n",
    "    if player[1] >= 200:\n",
    "        print(player[0])"
   ]
  }
 ],
 "metadata": {
  "kernelspec": {
   "display_name": "Python 3",
   "language": "python",
   "name": "python3"
  },
  "language_info": {
   "codemirror_mode": {
    "name": "ipython",
    "version": 3
   },
   "file_extension": ".py",
   "mimetype": "text/x-python",
   "name": "python",
   "nbconvert_exporter": "python",
   "pygments_lexer": "ipython3",
   "version": "3.6.8"
  }
 },
 "nbformat": 4,
 "nbformat_minor": 4
}
