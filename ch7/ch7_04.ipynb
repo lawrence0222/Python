{
 "cells": [
  {
   "cell_type": "code",
   "execution_count": 5,
   "metadata": {},
   "outputs": [
    {
     "name": "stdout",
     "output_type": "stream",
     "text": [
      "第1年的體重：71.20\n",
      "第2年的體重：72.40\n",
      "第3年的體重：73.60\n",
      "第4年的體重：74.80\n",
      "第5年的體重：76.00\n"
     ]
    }
   ],
   "source": [
    "weight = 70\n",
    "Annualgrowth = 1.2\n",
    "for i in range(5):\n",
    "    weight += Annualgrowth\n",
    "    print(\"第%d年的體重：%.2f\" % (i+1, weight))"
   ]
  }
 ],
 "metadata": {
  "kernelspec": {
   "display_name": "Python 3",
   "language": "python",
   "name": "python3"
  },
  "language_info": {
   "name": ""
  }
 },
 "nbformat": 4,
 "nbformat_minor": 4
}
