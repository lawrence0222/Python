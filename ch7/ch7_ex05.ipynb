{
 "cells": [
  {
   "cell_type": "markdown",
   "metadata": {},
   "source": [
    "# 多行程式碼區塊需縮行"
   ]
  },
  {
   "cell_type": "code",
   "execution_count": 1,
   "metadata": {},
   "outputs": [
    {
     "name": "stdout",
     "output_type": "stream",
     "text": [
      "Curry, it was a great game.\n",
      "我迫不及待想看下一場比賽，Curry\n",
      "Jordan, it was a great game.\n",
      "我迫不及待想看下一場比賽，Jordan\n",
      "James, it was a great game.\n",
      "我迫不及待想看下一場比賽，James\n",
      "Durant, it was a great game.\n",
      "我迫不及待想看下一場比賽，Durant\n",
      "Obama, it was a great game.\n",
      "我迫不及待想看下一場比賽，Obama\n"
     ]
    }
   ],
   "source": [
    "players = ['curry', 'jordan', 'james', 'durant', 'obama']\n",
    "for player in players:\n",
    "    print(player.title() + \", it was a great game.\")\n",
    "    print(\"我迫不及待想看下一場比賽，\" + player.title())"
   ]
  }
 ],
 "metadata": {
  "kernelspec": {
   "display_name": "Python 3",
   "language": "python",
   "name": "python3"
  },
  "language_info": {
   "codemirror_mode": {
    "name": "ipython",
    "version": 3
   },
   "file_extension": ".py",
   "mimetype": "text/x-python",
   "name": "python",
   "nbconvert_exporter": "python",
   "pygments_lexer": "ipython3",
   "version": "3.6.8"
  }
 },
 "nbformat": 4,
 "nbformat_minor": 4
}
