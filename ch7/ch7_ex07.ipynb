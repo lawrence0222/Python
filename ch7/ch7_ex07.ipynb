{
 "cells": [
  {
   "cell_type": "code",
   "execution_count": 1,
   "metadata": {},
   "outputs": [
    {
     "name": "stdout",
     "output_type": "stream",
     "text": [
      "['da2.py', 'da3.py']\n"
     ]
    }
   ],
   "source": [
    "files = ['da1.c', 'da2.py', 'da3.py', 'da4.java']\n",
    "py = []\n",
    "for file in files:\n",
    "    if file.endswith('.py'):\n",
    "        py.append(file)\n",
    "print(py)"
   ]
  }
 ],
 "metadata": {
  "kernelspec": {
   "display_name": "Python 3",
   "language": "python",
   "name": "python3"
  },
  "language_info": {
   "codemirror_mode": {
    "name": "ipython",
    "version": 3
   },
   "file_extension": ".py",
   "mimetype": "text/x-python",
   "name": "python",
   "nbconvert_exporter": "python",
   "pygments_lexer": "ipython3",
   "version": "3.6.8"
  }
 },
 "nbformat": 4,
 "nbformat_minor": 4
}
