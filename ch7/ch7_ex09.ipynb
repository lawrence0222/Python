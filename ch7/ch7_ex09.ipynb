{
 "cells": [
  {
   "cell_type": "code",
   "execution_count": 1,
   "metadata": {},
   "outputs": [
    {
     "name": "stdout",
     "output_type": "stream",
     "text": [
      "['蘋果', '芭樂', '芒果', '櫻桃']\n"
     ]
    }
   ],
   "source": [
    "fruits1 = ['蘋果', '香蕉', '芭樂', '芒果', '西瓜', '櫻桃']\n",
    "fruits2 = ['香蕉', '西瓜', '芭樂']\n",
    "for fruit in fruits1:\n",
    "    if fruit in fruits2:\n",
    "        fruits1.remove(fruit)\n",
    "\n",
    "print(fruits1)"
   ]
  }
 ],
 "metadata": {
  "kernelspec": {
   "display_name": "Python 3",
   "language": "python",
   "name": "python3"
  },
  "language_info": {
   "codemirror_mode": {
    "name": "ipython",
    "version": 3
   },
   "file_extension": ".py",
   "mimetype": "text/x-python",
   "name": "python",
   "nbconvert_exporter": "python",
   "pygments_lexer": "ipython3",
   "version": "3.6.8"
  }
 },
 "nbformat": 4,
 "nbformat_minor": 4
}
