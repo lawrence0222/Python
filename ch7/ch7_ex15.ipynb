{
 "cells": [
  {
   "cell_type": "markdown",
   "metadata": {},
   "source": [
    "# 精簡ch7_ex14"
   ]
  },
  {
   "cell_type": "code",
   "execution_count": 1,
   "metadata": {},
   "outputs": [
    {
     "name": "stdin",
     "output_type": "stream",
     "text": [
      "請輸入整數： 20\n"
     ]
    }
   ],
   "source": [
    "squares = []\n",
    "n = int(input(\"請輸入整數：\"))"
   ]
  },
  {
   "cell_type": "code",
   "execution_count": 2,
   "metadata": {},
   "outputs": [
    {
     "name": "stdout",
     "output_type": "stream",
     "text": [
      "[1, 4, 9, 16, 25, 36, 49, 64, 81, 100, 121, 144, 169, 196, 225, 256, 289, 324, 361, 400]\n"
     ]
    }
   ],
   "source": [
    "for num in range(1, n+1):\n",
    "    squares.append(num ** 2)\n",
    "print(squares)"
   ]
  },
  {
   "cell_type": "markdown",
   "metadata": {},
   "source": [
    "# 設計刪除串列中所有元素"
   ]
  },
  {
   "cell_type": "code",
   "execution_count": 5,
   "metadata": {},
   "outputs": [
    {
     "name": "stdout",
     "output_type": "stream",
     "text": [
      "目前fruits串列： ['蘋果', '香蕉', '芭樂', '芒果', '西瓜', '櫻桃']\n",
      "刪除蘋果\n",
      "目前fruits串列： ['香蕉', '芭樂', '芒果', '西瓜', '櫻桃']\n",
      "刪除香蕉\n",
      "目前fruits串列： ['芭樂', '芒果', '西瓜', '櫻桃']\n",
      "刪除芭樂\n",
      "目前fruits串列： ['芒果', '西瓜', '櫻桃']\n",
      "刪除芒果\n",
      "目前fruits串列： ['西瓜', '櫻桃']\n",
      "刪除西瓜\n",
      "目前fruits串列： ['櫻桃']\n",
      "刪除櫻桃\n",
      "目前fruits串列： []\n"
     ]
    }
   ],
   "source": [
    "fruits = ['蘋果', '香蕉', '芭樂', '芒果', '西瓜', '櫻桃']\n",
    "print(\"目前fruits串列：\", fruits)\n",
    "for fruit in fruits[:]:\n",
    "    fruits.remove(fruit)\n",
    "    print(\"刪除%s\" % fruit)\n",
    "    print(\"目前fruits串列：\", fruits)"
   ]
  },
  {
   "cell_type": "markdown",
   "metadata": {},
   "source": [
    "# 從觀念說起，建立0-5的串列，最初可能會用以下方法"
   ]
  },
  {
   "cell_type": "code",
   "execution_count": 13,
   "metadata": {},
   "outputs": [
    {
     "name": "stdout",
     "output_type": "stream",
     "text": [
      "[0, 1, 2, 3, 4, 5]\n"
     ]
    }
   ],
   "source": [
    "xlst = []\n",
    "xlst.append(0)\n",
    "xlst.append(1)\n",
    "xlst.append(2)\n",
    "xlst.append(3)\n",
    "xlst.append(4)\n",
    "xlst.append(5)\n",
    "print(xlst)"
   ]
  },
  {
   "cell_type": "markdown",
   "metadata": {},
   "source": [
    "# 使用for迴圈和range()重新設計"
   ]
  },
  {
   "cell_type": "code",
   "execution_count": 14,
   "metadata": {},
   "outputs": [
    {
     "name": "stdout",
     "output_type": "stream",
     "text": [
      "[0, 1, 2, 3, 4, 5]\n"
     ]
    }
   ],
   "source": [
    "xlst = []\n",
    "for n in range(6):\n",
    "    xlst.append(n)\n",
    "print(xlst)"
   ]
  },
  {
   "cell_type": "markdown",
   "metadata": {},
   "source": [
    "# 用串列生成式產生串列"
   ]
  },
  {
   "cell_type": "code",
   "execution_count": 15,
   "metadata": {},
   "outputs": [
    {
     "name": "stdout",
     "output_type": "stream",
     "text": [
      "[0, 1, 2, 3, 4, 5]\n"
     ]
    }
   ],
   "source": [
    "xlst = [n for n in range(6)]\n",
    "print(xlst)"
   ]
  }
 ],
 "metadata": {
  "kernelspec": {
   "display_name": "Python 3",
   "language": "python",
   "name": "python3"
  },
  "language_info": {
   "codemirror_mode": {
    "name": "ipython",
    "version": 3
   },
   "file_extension": ".py",
   "mimetype": "text/x-python",
   "name": "python",
   "nbconvert_exporter": "python",
   "pygments_lexer": "ipython3",
   "version": "3.6.8"
  }
 },
 "nbformat": 4,
 "nbformat_minor": 4
}
