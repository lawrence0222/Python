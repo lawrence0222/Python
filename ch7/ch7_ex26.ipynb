{
 "cells": [
  {
   "cell_type": "markdown",
   "metadata": {},
   "source": [
    "# continue指令"
   ]
  },
  {
   "cell_type": "code",
   "execution_count": 2,
   "metadata": {},
   "outputs": [
    {
     "name": "stdout",
     "output_type": "stream",
     "text": [
      "共有7場超過30分\n"
     ]
    }
   ],
   "source": [
    "scores = [23, 33, 40, 25, 31, 35, 36, 39, 44, 26, 28]\n",
    "games = 0\n",
    "for score in scores:\n",
    "    if score < 30:\n",
    "        continue\n",
    "    games += 1\n",
    "print(\"共有%d場超過30分\" % games)"
   ]
  }
 ],
 "metadata": {
  "kernelspec": {
   "display_name": "Python 3",
   "language": "python",
   "name": "python3"
  },
  "language_info": {
   "codemirror_mode": {
    "name": "ipython",
    "version": 3
   },
   "file_extension": ".py",
   "mimetype": "text/x-python",
   "name": "python",
   "nbconvert_exporter": "python",
   "pygments_lexer": "ipython3",
   "version": "3.6.8"
  }
 },
 "nbformat": 4,
 "nbformat_minor": 4
}
