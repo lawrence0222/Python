{
 "cells": [
  {
   "cell_type": "markdown",
   "metadata": {},
   "source": [
    "# 質數測試"
   ]
  },
  {
   "cell_type": "code",
   "execution_count": 10,
   "metadata": {},
   "outputs": [
    {
     "name": "stdin",
     "output_type": "stream",
     "text": [
      "請輸入一整數： 169\n"
     ]
    },
    {
     "name": "stdout",
     "output_type": "stream",
     "text": [
      "169不是質數\n"
     ]
    }
   ],
   "source": [
    "num = int(input(\"請輸入一整數：\"))\n",
    "if num == 2:\n",
    "    print(\"%d是質數\" % num)\n",
    "else:\n",
    "    for n in range(2, num):\n",
    "        if num % n == 0:\n",
    "            print(\"%d不是質數\" % num)\n",
    "            break\n",
    "    else:  #最後一次迴圈條件運算式是false則執行\n",
    "        print(\"%d是質數\" % num)"
   ]
  }
 ],
 "metadata": {
  "kernelspec": {
   "display_name": "Python 3",
   "language": "python",
   "name": "python3"
  },
  "language_info": {
   "codemirror_mode": {
    "name": "ipython",
    "version": 3
   },
   "file_extension": ".py",
   "mimetype": "text/x-python",
   "name": "python",
   "nbconvert_exporter": "python",
   "pygments_lexer": "ipython3",
   "version": "3.6.8"
  }
 },
 "nbformat": 4,
 "nbformat_minor": 4
}
