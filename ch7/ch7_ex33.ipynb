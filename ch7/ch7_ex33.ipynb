{
 "cells": [
  {
   "cell_type": "markdown",
   "metadata": {},
   "source": [
    "# 哨兵值(Sentinel value)\n",
    "在程式設計時，我們可以在while迴圈中設定一個輸入數值當作迴圈執行結束的值，這個值稱哨兵值(Sentinel value)。"
   ]
  },
  {
   "cell_type": "code",
   "execution_count": 3,
   "metadata": {},
   "outputs": [
    {
     "name": "stdin",
     "output_type": "stream",
     "text": [
      "請輸入一個值： 5\n",
      "請輸入一個值： 6\n",
      "請輸入一個值： 4\n",
      "請輸入一個值： 45\n",
      "請輸入一個值： 0\n"
     ]
    },
    {
     "name": "stdout",
     "output_type": "stream",
     "text": [
      "輸入總和 =  60\n"
     ]
    }
   ],
   "source": [
    "sum = 0\n",
    "while True:\n",
    "    n = int(input(\"請輸入一個值：\"))\n",
    "    sum += n\n",
    "    if n == 0:\n",
    "        break\n",
    "print(\"輸入總和 = \", sum)"
   ]
  }
 ],
 "metadata": {
  "kernelspec": {
   "display_name": "Python 3",
   "language": "python",
   "name": "python3"
  },
  "language_info": {
   "codemirror_mode": {
    "name": "ipython",
    "version": 3
   },
   "file_extension": ".py",
   "mimetype": "text/x-python",
   "name": "python",
   "nbconvert_exporter": "python",
   "pygments_lexer": "ipython3",
   "version": "3.6.8"
  }
 },
 "nbformat": 4,
 "nbformat_minor": 4
}
