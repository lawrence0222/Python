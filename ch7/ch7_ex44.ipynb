{
 "cells": [
  {
   "cell_type": "markdown",
   "metadata": {},
   "source": [
    "# 使用enumerate()重新設計ch7_ex43"
   ]
  },
  {
   "cell_type": "code",
   "execution_count": 4,
   "metadata": {},
   "outputs": [],
   "source": [
    "scores = [21, 29, 18, 33, 12, 17, 26, 28, 15, 19]"
   ]
  },
  {
   "cell_type": "code",
   "execution_count": 6,
   "metadata": {},
   "outputs": [
    {
     "name": "stdout",
     "output_type": "stream",
     "text": [
      "場次 1：得分 21\n",
      "場次 2：得分 29\n",
      "場次 4：得分 33\n",
      "場次 7：得分 26\n",
      "場次 8：得分 28\n"
     ]
    }
   ],
   "source": [
    "for index, score in enumerate(scores):\n",
    "    if score >= 20:\n",
    "        print(\"場次 %d：得分 %d\" % (index+1, score))"
   ]
  }
 ],
 "metadata": {
  "kernelspec": {
   "display_name": "Python 3",
   "language": "python",
   "name": "python3"
  },
  "language_info": {
   "codemirror_mode": {
    "name": "ipython",
    "version": 3
   },
   "file_extension": ".py",
   "mimetype": "text/x-python",
   "name": "python",
   "nbconvert_exporter": "python",
   "pygments_lexer": "ipython3",
   "version": "3.6.8"
  }
 },
 "nbformat": 4,
 "nbformat_minor": 4
}
