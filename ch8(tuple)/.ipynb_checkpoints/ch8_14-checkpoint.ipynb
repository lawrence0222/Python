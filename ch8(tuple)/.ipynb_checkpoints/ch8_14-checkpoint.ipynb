{
 "cells": [
  {
   "cell_type": "code",
   "execution_count": 1,
   "metadata": {},
   "outputs": [
    {
     "name": "stdout",
     "output_type": "stream",
     "text": [
      "轉成元組輸出，初始值是 0 = ((0, 'coffee'), (1, 'tea'), (2, 'wine'))\n"
     ]
    }
   ],
   "source": [
    "drinks = ('coffee', 'tea', 'wine')\n",
    "enumerate_drinks = enumerate(drinks)\n",
    "print(\"轉成元組輸出，初始值是 0 =\", tuple(enumerate_drinks))"
   ]
  },
  {
   "cell_type": "code",
   "execution_count": 2,
   "metadata": {},
   "outputs": [
    {
     "name": "stdout",
     "output_type": "stream",
     "text": [
      "轉成元組輸出，初始值是 10 = ((10, 'coffee'), (11, 'tea'), (12, 'wine'))\n"
     ]
    }
   ],
   "source": [
    "enumerate_drinks = enumerate(drinks, 10)\n",
    "print(\"轉成元組輸出，初始值是 10 =\", tuple(enumerate_drinks))"
   ]
  }
 ],
 "metadata": {
  "kernelspec": {
   "display_name": "Python 3",
   "language": "python",
   "name": "python3"
  },
  "language_info": {
   "codemirror_mode": {
    "name": "ipython",
    "version": 3
   },
   "file_extension": ".py",
   "mimetype": "text/x-python",
   "name": "python",
   "nbconvert_exporter": "python",
   "pygments_lexer": "ipython3",
   "version": "3.6.8"
  }
 },
 "nbformat": 4,
 "nbformat_minor": 4
}
