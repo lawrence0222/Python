{
 "cells": [
  {
   "cell_type": "markdown",
   "metadata": {},
   "source": [
    "# 使用元組觀念重新設計ch3_Project01"
   ]
  },
  {
   "cell_type": "code",
   "execution_count": 1,
   "metadata": {},
   "outputs": [
    {
     "name": "stdout",
     "output_type": "stream",
     "text": [
      "總共需要天數13天\n",
      "需要時數1小時\n"
     ]
    }
   ],
   "source": [
    "# 原方法\n",
    "dist = 384400\n",
    "speed = 1225\n",
    "total_hours = dist // speed\n",
    "days = total_hours // 24\n",
    "hours = total_hours % 24\n",
    "print(\"總共需要天數\" + str(days) + \"天\")\n",
    "print(\"需要時數\" + str(hours) + \"小時\")"
   ]
  },
  {
   "cell_type": "code",
   "execution_count": 2,
   "metadata": {},
   "outputs": [],
   "source": [
    "dist = 384400\n",
    "speed = 1225\n",
    "total_hours = dist // speed\n",
    "data = divmod(total_hours, 24)"
   ]
  },
  {
   "cell_type": "code",
   "execution_count": 3,
   "metadata": {},
   "outputs": [
    {
     "data": {
      "text/plain": [
       "tuple"
      ]
     },
     "execution_count": 3,
     "metadata": {},
     "output_type": "execute_result"
    }
   ],
   "source": [
    "type(data)"
   ]
  },
  {
   "cell_type": "code",
   "execution_count": 6,
   "metadata": {},
   "outputs": [
    {
     "name": "stdout",
     "output_type": "stream",
     "text": [
      "總共需要天數：13天\n",
      "需要時數：1小時\n"
     ]
    }
   ],
   "source": [
    "print(\"總共需要天數：%d天\" % data[0])\n",
    "print(\"需要時數：%d小時\" % data[1])"
   ]
  }
 ],
 "metadata": {
  "kernelspec": {
   "display_name": "Python 3",
   "language": "python",
   "name": "python3"
  },
  "language_info": {
   "codemirror_mode": {
    "name": "ipython",
    "version": 3
   },
   "file_extension": ".py",
   "mimetype": "text/x-python",
   "name": "python",
   "nbconvert_exporter": "python",
   "pygments_lexer": "ipython3",
   "version": "3.6.8"
  }
 },
 "nbformat": 4,
 "nbformat_minor": 4
}
