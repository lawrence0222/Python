{
 "cells": [
  {
   "cell_type": "code",
   "execution_count": 8,
   "metadata": {},
   "outputs": [
    {
     "name": "stdout",
     "output_type": "stream",
     "text": [
      "最高溫： 35\n",
      "最低溫： 19\n",
      "平均溫度： 26.214285714285715\n"
     ]
    }
   ],
   "source": [
    "max_temp = (30, 28, 29, 31, 33, 35, 32)\n",
    "min_temp = (20, 21, 19, 22, 23, 24, 20)\n",
    "print(\"最高溫：\", max(max_temp))\n",
    "print(\"最低溫：\", min(min_temp))\n",
    "print(\"平均溫度：\",(sum(max_temp)+sum(min_temp)) / (len(max_temp) * 2))"
   ]
  },
  {
   "cell_type": "code",
   "execution_count": 6,
   "metadata": {},
   "outputs": [
    {
     "name": "stdout",
     "output_type": "stream",
     "text": [
      "218\n",
      "149\n",
      "367\n"
     ]
    }
   ],
   "source": [
    "print(sum(max_temp))\n",
    "print(sum(min_temp))\n",
    "print(sum(max_temp)+sum(min_temp))"
   ]
  },
  {
   "cell_type": "code",
   "execution_count": null,
   "metadata": {},
   "outputs": [],
   "source": []
  }
 ],
 "metadata": {
  "kernelspec": {
   "display_name": "Python 3",
   "language": "python",
   "name": "python3"
  },
  "language_info": {
   "codemirror_mode": {
    "name": "ipython",
    "version": 3
   },
   "file_extension": ".py",
   "mimetype": "text/x-python",
   "name": "python",
   "nbconvert_exporter": "python",
   "pygments_lexer": "ipython3",
   "version": "3.6.8"
  }
 },
 "nbformat": 4,
 "nbformat_minor": 4
}
