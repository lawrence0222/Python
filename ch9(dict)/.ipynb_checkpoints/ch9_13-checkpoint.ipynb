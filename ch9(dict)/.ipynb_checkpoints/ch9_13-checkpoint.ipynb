{
 "cells": [
  {
   "cell_type": "markdown",
   "metadata": {},
   "source": [
    "# 字典的拷貝\n",
    "new_dict = name_dict.copy()"
   ]
  },
  {
   "cell_type": "code",
   "execution_count": 1,
   "metadata": {},
   "outputs": [],
   "source": [
    "fruits = {'西瓜':15, '香蕉':20, '水蜜桃':25, '蘋果':18}"
   ]
  },
  {
   "cell_type": "code",
   "execution_count": 2,
   "metadata": {},
   "outputs": [],
   "source": [
    "cfruits = fruits.copy()"
   ]
  },
  {
   "cell_type": "code",
   "execution_count": 4,
   "metadata": {},
   "outputs": [
    {
     "name": "stdout",
     "output_type": "stream",
     "text": [
      "位址 =  3044190601360 fruits元素 =  {'西瓜': 15, '香蕉': 20, '水蜜桃': 25, '蘋果': 18}\n",
      "位址 =  3044220035360 cfruits元素 =  {'西瓜': 15, '香蕉': 20, '水蜜桃': 25, '蘋果': 18}\n"
     ]
    }
   ],
   "source": [
    "print('位址 = ', id(fruits), 'fruits元素 = ', fruits)\n",
    "print('位址 = ', id(cfruits), 'cfruits元素 = ', cfruits)"
   ]
  }
 ],
 "metadata": {
  "kernelspec": {
   "display_name": "Python 3",
   "language": "python",
   "name": "python3"
  },
  "language_info": {
   "codemirror_mode": {
    "name": "ipython",
    "version": 3
   },
   "file_extension": ".py",
   "mimetype": "text/x-python",
   "name": "python",
   "nbconvert_exporter": "python",
   "pygments_lexer": "ipython3",
   "version": "3.6.8"
  }
 },
 "nbformat": 4,
 "nbformat_minor": 4
}
