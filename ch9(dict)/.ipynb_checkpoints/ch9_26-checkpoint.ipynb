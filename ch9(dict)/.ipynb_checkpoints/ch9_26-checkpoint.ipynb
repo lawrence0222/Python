{
 "cells": [
  {
   "cell_type": "code",
   "execution_count": 8,
   "metadata": {},
   "outputs": [],
   "source": [
    "line_account = {'cytsai':{\n",
    "                        'last_name':'蔡',\n",
    "                        'first_name':'鎮陽',\n",
    "                        'city':'台北'},\n",
    "                'rfchen':{\n",
    "                        'last_name':'陳',\n",
    "                        'first_name':'先生',\n",
    "                        'city':'台東'}}"
   ]
  },
  {
   "cell_type": "code",
   "execution_count": 9,
   "metadata": {},
   "outputs": [
    {
     "name": "stdout",
     "output_type": "stream",
     "text": [
      "帳號： cytsai\n",
      "姓名： 蔡 鎮陽\n",
      "城市： 台北\n",
      "帳號： rfchen\n",
      "姓名： 陳 先生\n",
      "城市： 台東\n"
     ]
    }
   ],
   "source": [
    "for account, account_info in line_account.items():\n",
    "    print(\"帳號：\", account)\n",
    "    print(\"姓名：\", account_info['last_name'] , account_info['first_name'])\n",
    "    print(\"城市：\", account_info['city'])"
   ]
  }
 ],
 "metadata": {
  "kernelspec": {
   "display_name": "Python 3",
   "language": "python",
   "name": "python3"
  },
  "language_info": {
   "codemirror_mode": {
    "name": "ipython",
    "version": 3
   },
   "file_extension": ".py",
   "mimetype": "text/x-python",
   "name": "python",
   "nbconvert_exporter": "python",
   "pygments_lexer": "ipython3",
   "version": "3.6.8"
  }
 },
 "nbformat": 4,
 "nbformat_minor": 4
}
