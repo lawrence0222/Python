{
 "cells": [
  {
   "cell_type": "code",
   "execution_count": 11,
   "metadata": {},
   "outputs": [
    {
     "name": "stdout",
     "output_type": "stream",
     "text": [
      "{'name': None, 'city': None}\n"
     ]
    }
   ],
   "source": [
    "seq1 = ['name', 'city']\n",
    "list_dict1 = dict.fromkeys(seq1)\n",
    "print(list_dict1)"
   ]
  },
  {
   "cell_type": "code",
   "execution_count": 12,
   "metadata": {},
   "outputs": [
    {
     "name": "stdout",
     "output_type": "stream",
     "text": [
      "{'name': 'Taipei', 'city': 'Taipei'}\n"
     ]
    }
   ],
   "source": [
    "list_dict2 = dict.fromkeys(seq1, 'Taipei')\n",
    "print(list_dict2)"
   ]
  },
  {
   "cell_type": "code",
   "execution_count": 13,
   "metadata": {},
   "outputs": [
    {
     "name": "stdout",
     "output_type": "stream",
     "text": [
      "{'name': None, 'city': None}\n"
     ]
    }
   ],
   "source": [
    "seq2 = ('name', 'city')\n",
    "tup_dict1 = dict.fromkeys(seq2)\n",
    "print(tup_dict1)"
   ]
  },
  {
   "cell_type": "code",
   "execution_count": 14,
   "metadata": {},
   "outputs": [
    {
     "name": "stdout",
     "output_type": "stream",
     "text": [
      "{'name': 'Tamkang', 'city': 'Tamkang'}\n"
     ]
    }
   ],
   "source": [
    "tup_dict2 = dict.fromkeys(seq2, 'Tamkang')\n",
    "print(tup_dict2)"
   ]
  }
 ],
 "metadata": {
  "kernelspec": {
   "display_name": "Python 3",
   "language": "python",
   "name": "python3"
  },
  "language_info": {
   "codemirror_mode": {
    "name": "ipython",
    "version": 3
   },
   "file_extension": ".py",
   "mimetype": "text/x-python",
   "name": "python",
   "nbconvert_exporter": "python",
   "pygments_lexer": "ipython3",
   "version": "3.6.8"
  }
 },
 "nbformat": 4,
 "nbformat_minor": 4
}
