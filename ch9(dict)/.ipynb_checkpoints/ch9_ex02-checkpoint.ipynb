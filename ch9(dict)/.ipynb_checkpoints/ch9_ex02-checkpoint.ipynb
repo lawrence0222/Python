{
 "cells": [
  {
   "cell_type": "code",
   "execution_count": 1,
   "metadata": {},
   "outputs": [],
   "source": [
    "month ={\n",
    "    '一月':'January',\n",
    "    '二月':'February',\n",
    "    '三月':'March',\n",
    "    '四月':'April',\n",
    "    '五月':'May',\n",
    "    '六月':'June',\n",
    "    '七月':'July',\n",
    "    '八月':'August',\n",
    "    '九月':'September',\n",
    "    '十月':'October',\n",
    "    '十一月':'November',\n",
    "    '十二月':'December'\n",
    "}"
   ]
  },
  {
   "cell_type": "code",
   "execution_count": 2,
   "metadata": {},
   "outputs": [
    {
     "name": "stdin",
     "output_type": "stream",
     "text": [
      "請輸入中文月份： 嗨\n"
     ]
    },
    {
     "name": "stdout",
     "output_type": "stream",
     "text": [
      "輸入錯誤\n"
     ]
    },
    {
     "name": "stdin",
     "output_type": "stream",
     "text": [
      "請輸入中文月份： 你好\n"
     ]
    },
    {
     "name": "stdout",
     "output_type": "stream",
     "text": [
      "輸入錯誤\n"
     ]
    },
    {
     "name": "stdin",
     "output_type": "stream",
     "text": [
      "請輸入中文月份： 十月\n"
     ]
    },
    {
     "name": "stdout",
     "output_type": "stream",
     "text": [
      "October\n"
     ]
    }
   ],
   "source": [
    "while True:\n",
    "    selection = input(\"請輸入中文月份：\")\n",
    "    if selection not in month:\n",
    "        print('輸入錯誤')\n",
    "    else:\n",
    "        print(month[selection])\n",
    "        break"
   ]
  }
 ],
 "metadata": {
  "kernelspec": {
   "display_name": "Python 3",
   "language": "python",
   "name": "python3"
  },
  "language_info": {
   "codemirror_mode": {
    "name": "ipython",
    "version": 3
   },
   "file_extension": ".py",
   "mimetype": "text/x-python",
   "name": "python",
   "nbconvert_exporter": "python",
   "pygments_lexer": "ipython3",
   "version": "3.6.8"
  }
 },
 "nbformat": 4,
 "nbformat_minor": 4
}
