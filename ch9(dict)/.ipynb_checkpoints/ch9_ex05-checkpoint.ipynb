{
 "cells": [
  {
   "cell_type": "code",
   "execution_count": 1,
   "metadata": {},
   "outputs": [],
   "source": [
    "noodles = {'牛肉麵':100, '肉絲麵':80, '陽春麵':60, '大滷麵':90, '麻醬麵':70}"
   ]
  },
  {
   "cell_type": "code",
   "execution_count": 9,
   "metadata": {},
   "outputs": [
    {
     "name": "stdout",
     "output_type": "stream",
     "text": [
      "最昂貴的麵： 牛肉麵\n",
      "價格： 100\n",
      "最便宜的麵： 陽春麵\n",
      "價格： 60\n"
     ]
    }
   ],
   "source": [
    "max_noodle = max(noodles.values())\n",
    "min_noodle = min(noodles.values())\n",
    "for noodle, price in noodles.items():\n",
    "    if price == max_noodle:\n",
    "        print('最昂貴的麵：', noodle)\n",
    "        print('價格：', price)\n",
    "    elif price == min_noodle:\n",
    "        print('最便宜的麵：', noodle)\n",
    "        print('價格：', price)"
   ]
  }
 ],
 "metadata": {
  "kernelspec": {
   "display_name": "Python 3",
   "language": "python",
   "name": "python3"
  },
  "language_info": {
   "codemirror_mode": {
    "name": "ipython",
    "version": 3
   },
   "file_extension": ".py",
   "mimetype": "text/x-python",
   "name": "python",
   "nbconvert_exporter": "python",
   "pygments_lexer": "ipython3",
   "version": "3.6.8"
  }
 },
 "nbformat": 4,
 "nbformat_minor": 4
}
