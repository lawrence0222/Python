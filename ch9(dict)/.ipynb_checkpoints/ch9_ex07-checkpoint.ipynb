{
 "cells": [
  {
   "cell_type": "code",
   "execution_count": 4,
   "metadata": {},
   "outputs": [],
   "source": [
    "attractions = {'台北':{\n",
    "                   '地區':'亞洲',\n",
    "                   '國家':'台灣'},\n",
    "               '東京':{\n",
    "                   '地區':'亞洲',\n",
    "                   '國家':'日本'},\n",
    "               '倫敦':{\n",
    "                   '地區':'歐洲',\n",
    "                   '國家':'英國'}\n",
    "              }"
   ]
  },
  {
   "cell_type": "code",
   "execution_count": 7,
   "metadata": {},
   "outputs": [
    {
     "name": "stdout",
     "output_type": "stream",
     "text": [
      "台北\n",
      "所在地區： 亞洲\n",
      "隸屬國家： 台灣\n",
      "東京\n",
      "所在地區： 亞洲\n",
      "隸屬國家： 日本\n",
      "倫敦\n",
      "所在地區： 歐洲\n",
      "隸屬國家： 英國\n"
     ]
    }
   ],
   "source": [
    "for city, info in attractions.items():\n",
    "    print(city)\n",
    "    print(\"所在地區：\", info['地區'])\n",
    "    print(\"隸屬國家：\", info['國家'])"
   ]
  },
  {
   "cell_type": "code",
   "execution_count": null,
   "metadata": {},
   "outputs": [],
   "source": []
  }
 ],
 "metadata": {
  "kernelspec": {
   "display_name": "Python 3",
   "language": "python",
   "name": "python3"
  },
  "language_info": {
   "codemirror_mode": {
    "name": "ipython",
    "version": 3
   },
   "file_extension": ".py",
   "mimetype": "text/x-python",
   "name": "python",
   "nbconvert_exporter": "python",
   "pygments_lexer": "ipython3",
   "version": "3.6.8"
  }
 },
 "nbformat": 4,
 "nbformat_minor": 4
}
