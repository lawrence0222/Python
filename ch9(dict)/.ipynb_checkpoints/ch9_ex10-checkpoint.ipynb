{
 "cells": [
  {
   "cell_type": "code",
   "execution_count": 9,
   "metadata": {},
   "outputs": [],
   "source": [
    "Atoz = 'abcdefghijklmnopqrstuvwxyz ABCDEFGHIJKLMNOPQRSTUVWXYZ'"
   ]
  },
  {
   "cell_type": "code",
   "execution_count": 10,
   "metadata": {},
   "outputs": [
    {
     "data": {
      "text/plain": [
       "53"
      ]
     },
     "execution_count": 10,
     "metadata": {},
     "output_type": "execute_result"
    }
   ],
   "source": [
    "len(Atoz)"
   ]
  },
  {
   "cell_type": "code",
   "execution_count": 11,
   "metadata": {},
   "outputs": [],
   "source": [
    "encry_dict = {}\n",
    "front3 = Atoz[:3]\n",
    "end50 = Atoz[3:]\n",
    "subText = end50 + front3\n",
    "encry_dict = dict(zip(subText, Atoz))"
   ]
  },
  {
   "cell_type": "code",
   "execution_count": 12,
   "metadata": {},
   "outputs": [
    {
     "name": "stdout",
     "output_type": "stream",
     "text": [
      "('d', 'a')\n",
      "('e', 'b')\n",
      "('f', 'c')\n",
      "('g', 'd')\n",
      "('h', 'e')\n",
      "('i', 'f')\n",
      "('j', 'g')\n",
      "('k', 'h')\n",
      "('l', 'i')\n",
      "('m', 'j')\n",
      "('n', 'k')\n",
      "('o', 'l')\n",
      "('p', 'm')\n",
      "('q', 'n')\n",
      "('r', 'o')\n",
      "('s', 'p')\n",
      "('t', 'q')\n",
      "('u', 'r')\n",
      "('v', 's')\n",
      "('w', 't')\n",
      "('x', 'u')\n",
      "('y', 'v')\n",
      "('z', 'w')\n",
      "(' ', 'x')\n",
      "('A', 'y')\n",
      "('B', 'z')\n",
      "('C', ' ')\n",
      "('D', 'A')\n",
      "('E', 'B')\n",
      "('F', 'C')\n",
      "('G', 'D')\n",
      "('H', 'E')\n",
      "('I', 'F')\n",
      "('J', 'G')\n",
      "('K', 'H')\n",
      "('L', 'I')\n",
      "('M', 'J')\n",
      "('N', 'K')\n",
      "('O', 'L')\n",
      "('P', 'M')\n",
      "('Q', 'N')\n",
      "('R', 'O')\n",
      "('S', 'P')\n",
      "('T', 'Q')\n",
      "('U', 'R')\n",
      "('V', 'S')\n",
      "('W', 'T')\n",
      "('X', 'U')\n",
      "('Y', 'V')\n",
      "('Z', 'W')\n",
      "('a', 'X')\n",
      "('b', 'Y')\n",
      "('c', 'Z')\n"
     ]
    }
   ],
   "source": [
    "for encry in encry_dict.items():\n",
    "    \n",
    "    print(encry)"
   ]
  },
  {
   "cell_type": "code",
   "execution_count": 13,
   "metadata": {},
   "outputs": [
    {
     "data": {
      "text/plain": [
       "'X'"
      ]
     },
     "execution_count": 13,
     "metadata": {},
     "output_type": "execute_result"
    }
   ],
   "source": [
    "encry_dict['a']"
   ]
  },
  {
   "cell_type": "code",
   "execution_count": 14,
   "metadata": {},
   "outputs": [
    {
     "data": {
      "text/plain": [
       "'Y'"
      ]
     },
     "execution_count": 14,
     "metadata": {},
     "output_type": "execute_result"
    }
   ],
   "source": [
    "encry_dict['b']"
   ]
  },
  {
   "cell_type": "code",
   "execution_count": 15,
   "metadata": {},
   "outputs": [
    {
     "data": {
      "text/plain": [
       "'Z'"
      ]
     },
     "execution_count": 15,
     "metadata": {},
     "output_type": "execute_result"
    }
   ],
   "source": [
    "encry_dict['c']"
   ]
  },
  {
   "cell_type": "code",
   "execution_count": 17,
   "metadata": {},
   "outputs": [
    {
     "name": "stdout",
     "output_type": "stream",
     "text": [
      "原始訊息： I love you\n",
      "加密訊系： Fxilsbxvlr\n"
     ]
    }
   ],
   "source": [
    "msg = 'I love you'\n",
    "cipher = []\n",
    "for wd in msg:\n",
    "    x = encry_dict[wd]\n",
    "    cipher.append(x)\n",
    "ciphertext = ''.join(cipher)\n",
    "\n",
    "print(\"原始訊息：\", msg)\n",
    "print(\"加密訊系：\", ciphertext)"
   ]
  }
 ],
 "metadata": {
  "kernelspec": {
   "display_name": "Python 3",
   "language": "python",
   "name": "python3"
  },
  "language_info": {
   "codemirror_mode": {
    "name": "ipython",
    "version": 3
   },
   "file_extension": ".py",
   "mimetype": "text/x-python",
   "name": "python",
   "nbconvert_exporter": "python",
   "pygments_lexer": "ipython3",
   "version": "3.6.8"
  }
 },
 "nbformat": 4,
 "nbformat_minor": 4
}
