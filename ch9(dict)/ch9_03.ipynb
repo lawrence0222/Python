{
 "cells": [
  {
   "cell_type": "code",
   "execution_count": 1,
   "metadata": {},
   "outputs": [],
   "source": [
    "fruits = {'西瓜':15, '香蕉':20, '水蜜桃':25}\n",
    "noodles = {'牛肉麵':100, '肉絲麵':80, '陽春麵':60}"
   ]
  },
  {
   "cell_type": "code",
   "execution_count": 2,
   "metadata": {},
   "outputs": [
    {
     "name": "stdout",
     "output_type": "stream",
     "text": [
      "水蜜桃一斤：25 元\n"
     ]
    }
   ],
   "source": [
    "print(\"水蜜桃一斤：%d 元\" % fruits['水蜜桃'])"
   ]
  },
  {
   "cell_type": "code",
   "execution_count": 3,
   "metadata": {},
   "outputs": [
    {
     "name": "stdout",
     "output_type": "stream",
     "text": [
      "牛肉麵一碗：100 元\n"
     ]
    }
   ],
   "source": [
    "print(\"牛肉麵一碗：%d 元\" % noodles['牛肉麵'])"
   ]
  }
 ],
 "metadata": {
  "kernelspec": {
   "display_name": "Python 3",
   "language": "python",
   "name": "python3"
  },
  "language_info": {
   "codemirror_mode": {
    "name": "ipython",
    "version": 3
   },
   "file_extension": ".py",
   "mimetype": "text/x-python",
   "name": "python",
   "nbconvert_exporter": "python",
   "pygments_lexer": "ipython3",
   "version": "3.6.8"
  }
 },
 "nbformat": 4,
 "nbformat_minor": 4
}
