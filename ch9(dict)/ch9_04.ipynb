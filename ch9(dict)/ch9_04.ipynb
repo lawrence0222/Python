{
 "cells": [
  {
   "cell_type": "code",
   "execution_count": 1,
   "metadata": {},
   "outputs": [],
   "source": [
    "soldier0 = {'tag':'red', 'score':3}"
   ]
  },
  {
   "cell_type": "code",
   "execution_count": 2,
   "metadata": {},
   "outputs": [
    {
     "name": "stdout",
     "output_type": "stream",
     "text": [
      "你剛剛打敗red小兵\n",
      "獲得 3 分\n"
     ]
    }
   ],
   "source": [
    "print('你剛剛打敗%s小兵' % soldier0['tag'])\n",
    "print('獲得 %d 分' % soldier0['score'])"
   ]
  },
  {
   "cell_type": "code",
   "execution_count": 3,
   "metadata": {},
   "outputs": [
    {
     "name": "stdout",
     "output_type": "stream",
     "text": [
      "西瓜 香蕉 水蜜桃\n"
     ]
    }
   ],
   "source": [
    "fruits = {0:'西瓜', 1:'香蕉', 2:'水蜜桃'}\n",
    "print(fruits[0], fruits[1], fruits[2])"
   ]
  }
 ],
 "metadata": {
  "kernelspec": {
   "display_name": "Python 3",
   "language": "python",
   "name": "python3"
  },
  "language_info": {
   "codemirror_mode": {
    "name": "ipython",
    "version": 3
   },
   "file_extension": ".py",
   "mimetype": "text/x-python",
   "name": "python",
   "nbconvert_exporter": "python",
   "pygments_lexer": "ipython3",
   "version": "3.6.8"
  }
 },
 "nbformat": 4,
 "nbformat_minor": 4
}
