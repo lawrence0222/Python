{
 "cells": [
  {
   "cell_type": "code",
   "execution_count": 1,
   "metadata": {},
   "outputs": [],
   "source": [
    "soldier0 = {'tag':'red', 'score':3}"
   ]
  },
  {
   "cell_type": "code",
   "execution_count": 2,
   "metadata": {},
   "outputs": [],
   "source": [
    "# 增加小兵座標\n",
    "soldier0['xpos'] = 100\n",
    "soldier0['ypos'] = 30"
   ]
  },
  {
   "cell_type": "code",
   "execution_count": 3,
   "metadata": {},
   "outputs": [],
   "source": [
    "# 增加移動速度\n",
    "soldier0['speed'] = 'slow'"
   ]
  },
  {
   "cell_type": "code",
   "execution_count": 5,
   "metadata": {},
   "outputs": [
    {
     "name": "stdout",
     "output_type": "stream",
     "text": [
      "red小兵的 x 座標 = 100\n",
      "red小兵的 y 座標 = 30\n",
      "red小兵的 y 移動速度 = slow\n"
     ]
    }
   ],
   "source": [
    "print(\"%s小兵的 x 座標 = %s\" % (soldier0['tag'], soldier0['xpos']))\n",
    "print(\"%s小兵的 y 座標 = %s\" % (soldier0['tag'], soldier0['ypos']))\n",
    "print(\"%s小兵的 y 移動速度 = %s\" % (soldier0['tag'], soldier0['speed']))"
   ]
  }
 ],
 "metadata": {
  "kernelspec": {
   "display_name": "Python 3",
   "language": "python",
   "name": "python3"
  },
  "language_info": {
   "codemirror_mode": {
    "name": "ipython",
    "version": 3
   },
   "file_extension": ".py",
   "mimetype": "text/x-python",
   "name": "python",
   "nbconvert_exporter": "python",
   "pygments_lexer": "ipython3",
   "version": "3.6.8"
  }
 },
 "nbformat": 4,
 "nbformat_minor": 4
}
