{
 "cells": [
  {
   "cell_type": "markdown",
   "metadata": {},
   "source": [
    "# 驗證元素是否存在\n",
    "\n",
    "key in name_dict"
   ]
  },
  {
   "cell_type": "code",
   "execution_count": 2,
   "metadata": {},
   "outputs": [],
   "source": [
    "fruits = {'西瓜':15, '香蕉':20, '水蜜桃':25}"
   ]
  },
  {
   "cell_type": "code",
   "execution_count": 3,
   "metadata": {},
   "outputs": [
    {
     "name": "stdin",
     "output_type": "stream",
     "text": [
      "請輸入鍵(key)： 西瓜\n",
      "請輸入值(value)： 15\n"
     ]
    },
    {
     "name": "stdout",
     "output_type": "stream",
     "text": [
      "西瓜 已在字典內\n"
     ]
    }
   ],
   "source": [
    "key = input(\"請輸入鍵(key)：\")\n",
    "value = input(\"請輸入值(value)：\")\n",
    "if key in fruits:\n",
    "    print(key, \"已在字典內\")\n",
    "else:\n",
    "    fruits[key] = value\n",
    "    print(\"新字典內容：\", fruits)"
   ]
  },
  {
   "cell_type": "code",
   "execution_count": 4,
   "metadata": {},
   "outputs": [
    {
     "name": "stdin",
     "output_type": "stream",
     "text": [
      "請輸入鍵(key)： 蘋果\n",
      "請輸入值(value)： 18\n"
     ]
    },
    {
     "name": "stdout",
     "output_type": "stream",
     "text": [
      "新字典內容： {'西瓜': 15, '香蕉': 20, '水蜜桃': 25, '蘋果': '18'}\n"
     ]
    }
   ],
   "source": [
    "key = input(\"請輸入鍵(key)：\")\n",
    "value = input(\"請輸入值(value)：\")\n",
    "if key in fruits:\n",
    "    print(key, \"已在字典內\")\n",
    "else:\n",
    "    fruits[key] = value\n",
    "    print(\"新字典內容：\", fruits)"
   ]
  }
 ],
 "metadata": {
  "kernelspec": {
   "display_name": "Python 3",
   "language": "python",
   "name": "python3"
  },
  "language_info": {
   "codemirror_mode": {
    "name": "ipython",
    "version": 3
   },
   "file_extension": ".py",
   "mimetype": "text/x-python",
   "name": "python",
   "nbconvert_exporter": "python",
   "pygments_lexer": "ipython3",
   "version": "3.6.8"
  }
 },
 "nbformat": 4,
 "nbformat_minor": 4
}
