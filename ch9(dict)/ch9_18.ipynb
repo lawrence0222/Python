{
 "cells": [
  {
   "cell_type": "code",
   "execution_count": 1,
   "metadata": {},
   "outputs": [],
   "source": [
    "players = {'Stephen Curry':'Golden State Warriors',\n",
    "           'Kevin Durant' :'Golden State Warriors',\n",
    "           'Lebron James' :'Los Angeles Lakers',\n",
    "           'James Harden' :'Houston Rockets',\n",
    "           'Kobe Bryant'  :'Los Angeles Lakers'}"
   ]
  },
  {
   "cell_type": "code",
   "execution_count": 2,
   "metadata": {},
   "outputs": [
    {
     "name": "stdout",
     "output_type": "stream",
     "text": [
      "姓名： Stephen Curry\n",
      "姓名： Kevin Durant\n",
      "姓名： Lebron James\n",
      "姓名： James Harden\n",
      "姓名： Kobe Bryant\n"
     ]
    }
   ],
   "source": [
    "for name in players.keys():\n",
    "    print(\"姓名：\", name)"
   ]
  }
 ],
 "metadata": {
  "kernelspec": {
   "display_name": "Python 3",
   "language": "python",
   "name": "python3"
  },
  "language_info": {
   "codemirror_mode": {
    "name": "ipython",
    "version": 3
   },
   "file_extension": ".py",
   "mimetype": "text/x-python",
   "name": "python",
   "nbconvert_exporter": "python",
   "pygments_lexer": "ipython3",
   "version": "3.6.8"
  }
 },
 "nbformat": 4,
 "nbformat_minor": 4
}
