{
 "cells": [
  {
   "cell_type": "markdown",
   "metadata": {},
   "source": [
    "# 重新設計ch9_18，省去keys()方法"
   ]
  },
  {
   "cell_type": "code",
   "execution_count": 1,
   "metadata": {},
   "outputs": [],
   "source": [
    "players = {'Stephen Curry':'Golden State Warriors',\n",
    "           'Kevin Durant' :'Golden State Warriors',\n",
    "           'Lebron James' :'Los Angeles Lakers',\n",
    "           'James Harden' :'Houston Rockets',\n",
    "           'Kobe Bryant'  :'Los Angeles Lakers'}"
   ]
  },
  {
   "cell_type": "code",
   "execution_count": 8,
   "metadata": {},
   "outputs": [
    {
     "name": "stdout",
     "output_type": "stream",
     "text": [
      "Stephen Curry\n",
      "Golden State Warriors\n",
      "\n",
      "Kevin Durant\n",
      "Golden State Warriors\n",
      "\n",
      "Lebron James\n",
      "Los Angeles Lakers\n",
      "\n",
      "James Harden\n",
      "Houston Rockets\n",
      "\n",
      "Kobe Bryant\n",
      "Los Angeles Lakers\n",
      "\n"
     ]
    }
   ],
   "source": [
    "for name in players:\n",
    "    print(name)\n",
    "    print(players[name], end='\\n\\n')"
   ]
  }
 ],
 "metadata": {
  "kernelspec": {
   "display_name": "Python 3",
   "language": "python",
   "name": "python3"
  },
  "language_info": {
   "codemirror_mode": {
    "name": "ipython",
    "version": 3
   },
   "file_extension": ".py",
   "mimetype": "text/x-python",
   "name": "python",
   "nbconvert_exporter": "python",
   "pygments_lexer": "ipython3",
   "version": "3.6.8"
  }
 },
 "nbformat": 4,
 "nbformat_minor": 4
}
