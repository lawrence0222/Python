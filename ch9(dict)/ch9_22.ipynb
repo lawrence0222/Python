{
 "cells": [
  {
   "cell_type": "code",
   "execution_count": 1,
   "metadata": {},
   "outputs": [
    {
     "name": "stdout",
     "output_type": "stream",
     "text": [
      "{'tag': 'red', 'score': 3, 'speed': 'slow'}\n",
      "{'tag': 'blue', 'score': 5, 'speed': 'medium'}\n",
      "{'tag': 'green', 'score': 10, 'speed': 'fast'}\n"
     ]
    }
   ],
   "source": [
    "soldier0 = {'tag':'red', 'score':3, 'speed':'slow'}\n",
    "soldier1 = {'tag':'blue', 'score':5, 'speed':'medium'}\n",
    "soldier2 = {'tag':'green', 'score':10, 'speed':'fast'}\n",
    "armys = [soldier0, soldier1, soldier2]\n",
    "for army in armys:\n",
    "    print(army)"
   ]
  }
 ],
 "metadata": {
  "kernelspec": {
   "display_name": "Python 3",
   "language": "python",
   "name": "python3"
  },
  "language_info": {
   "codemirror_mode": {
    "name": "ipython",
    "version": 3
   },
   "file_extension": ".py",
   "mimetype": "text/x-python",
   "name": "python",
   "nbconvert_exporter": "python",
   "pygments_lexer": "ipython3",
   "version": "3.6.8"
  }
 },
 "nbformat": 4,
 "nbformat_minor": 4
}
