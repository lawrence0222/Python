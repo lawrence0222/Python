{
 "cells": [
  {
   "cell_type": "code",
   "execution_count": 2,
   "metadata": {},
   "outputs": [],
   "source": [
    "line_account = {'cytsai':{\n",
    "                        'last_name':'蔡',\n",
    "                        'first_name':'鎮陽',\n",
    "                        'city':'台北'},\n",
    "                'rfchen':{\n",
    "                        'last_name':'陳',\n",
    "                        'first_name':'先生',\n",
    "                        'city':'台東'}}"
   ]
  },
  {
   "cell_type": "code",
   "execution_count": 4,
   "metadata": {},
   "outputs": [
    {
     "name": "stdout",
     "output_type": "stream",
     "text": [
      "line_account的元素個數： 2\n",
      "line_account[cytsai]的元素個數： 3\n",
      "line_account[rfchen]的元素個數： 3\n"
     ]
    }
   ],
   "source": [
    "print('line_account的元素個數：', len(line_account))\n",
    "print('line_account[cytsai]的元素個數：', len(line_account['cytsai']))\n",
    "print('line_account[rfchen]的元素個數：', len(line_account['rfchen']))"
   ]
  }
 ],
 "metadata": {
  "kernelspec": {
   "display_name": "Python 3",
   "language": "python",
   "name": "python3"
  },
  "language_info": {
   "codemirror_mode": {
    "name": "ipython",
    "version": 3
   },
   "file_extension": ".py",
   "mimetype": "text/x-python",
   "name": "python",
   "nbconvert_exporter": "python",
   "pygments_lexer": "ipython3",
   "version": "3.6.8"
  }
 },
 "nbformat": 4,
 "nbformat_minor": 4
}
