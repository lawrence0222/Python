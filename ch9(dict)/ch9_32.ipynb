{
 "cells": [
  {
   "cell_type": "code",
   "execution_count": 2,
   "metadata": {},
   "outputs": [
    {
     "name": "stdout",
     "output_type": "stream",
     "text": [
      "('d', 1)\n",
      "('e', 3)\n",
      "('p', 1)\n",
      "('s', 1)\n",
      "('t', 1)\n",
      "('o', 1)\n",
      "('n', 1)\n"
     ]
    }
   ],
   "source": [
    "word = 'deepstone'\n",
    "alphabetcount = {alphabet:word.count(alphabet) for alphabet in word}\n",
    "for x in alphabetcount.items():\n",
    "    print(x)"
   ]
  }
 ],
 "metadata": {
  "kernelspec": {
   "display_name": "Python 3",
   "language": "python",
   "name": "python3"
  },
  "language_info": {
   "codemirror_mode": {
    "name": "ipython",
    "version": 3
   },
   "file_extension": ".py",
   "mimetype": "text/x-python",
   "name": "python",
   "nbconvert_exporter": "python",
   "pygments_lexer": "ipython3",
   "version": "3.6.8"
  }
 },
 "nbformat": 4,
 "nbformat_minor": 4
}
