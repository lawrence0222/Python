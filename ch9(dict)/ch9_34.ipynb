{
 "cells": [
  {
   "cell_type": "markdown",
   "metadata": {},
   "source": [
    "# 季節英漢字典設計"
   ]
  },
  {
   "cell_type": "code",
   "execution_count": 3,
   "metadata": {},
   "outputs": [
    {
     "name": "stdin",
     "output_type": "stream",
     "text": [
      "請輸入欲查詢季節的中文： 秋天\n"
     ]
    },
    {
     "name": "stdout",
     "output_type": "stream",
     "text": [
      "Fall\n"
     ]
    }
   ],
   "source": [
    "seasons = {'春天':'Spring',\n",
    "           '夏天':'Summer',\n",
    "           '秋天':'Fall',\n",
    "           '冬天':'Winter'}\n",
    "wd = input('請輸入欲查詢季節的中文：')\n",
    "if wd in seasons:\n",
    "    print(seasons[wd])\n",
    "else:\n",
    "    print(\"輸入錯誤\")"
   ]
  }
 ],
 "metadata": {
  "kernelspec": {
   "display_name": "Python 3",
   "language": "python",
   "name": "python3"
  },
  "language_info": {
   "codemirror_mode": {
    "name": "ipython",
    "version": 3
   },
   "file_extension": ".py",
   "mimetype": "text/x-python",
   "name": "python",
   "nbconvert_exporter": "python",
   "pygments_lexer": "ipython3",
   "version": "3.6.8"
  }
 },
 "nbformat": 4,
 "nbformat_minor": 4
}
