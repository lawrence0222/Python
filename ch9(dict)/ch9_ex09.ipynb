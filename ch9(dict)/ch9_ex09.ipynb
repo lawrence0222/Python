{
 "cells": [
  {
   "cell_type": "code",
   "execution_count": 1,
   "metadata": {},
   "outputs": [
    {
     "name": "stdout",
     "output_type": "stream",
     "text": [
      "The Zen of Python, by Tim Peters\n",
      "\n",
      "Beautiful is better than ugly.\n",
      "Explicit is better than implicit.\n",
      "Simple is better than complex.\n",
      "Complex is better than complicated.\n",
      "Flat is better than nested.\n",
      "Sparse is better than dense.\n",
      "Readability counts.\n",
      "Special cases aren't special enough to break the rules.\n",
      "Although practicality beats purity.\n",
      "Errors should never pass silently.\n",
      "Unless explicitly silenced.\n",
      "In the face of ambiguity, refuse the temptation to guess.\n",
      "There should be one-- and preferably only one --obvious way to do it.\n",
      "Although that way may not be obvious at first unless you're Dutch.\n",
      "Now is better than never.\n",
      "Although never is often better than *right* now.\n",
      "If the implementation is hard to explain, it's a bad idea.\n",
      "If the implementation is easy to explain, it may be a good idea.\n",
      "Namespaces are one honking great idea -- let's do more of those!\n"
     ]
    }
   ],
   "source": [
    "import this"
   ]
  },
  {
   "cell_type": "code",
   "execution_count": 3,
   "metadata": {},
   "outputs": [],
   "source": [
    "zen = '''\n",
    "The Zen of Python, by Tim Peters\n",
    "\n",
    "Beautiful is better than ugly.\n",
    "Explicit is better than implicit.\n",
    "Simple is better than complex.\n",
    "Complex is better than complicated.\n",
    "Flat is better than nested.\n",
    "Sparse is better than dense.\n",
    "Readability counts.\n",
    "Special cases aren't special enough to break the rules.\n",
    "Although practicality beats purity.\n",
    "Errors should never pass silently.\n",
    "Unless explicitly silenced.\n",
    "In the face of ambiguity, refuse the temptation to guess.\n",
    "There should be one-- and preferably only one --obvious way to do it.\n",
    "Although that way may not be obvious at first unless you're Dutch.\n",
    "Now is better than never.\n",
    "Although never is often better than *right* now.\n",
    "If the implementation is hard to explain, it's a bad idea.\n",
    "If the implementation is easy to explain, it may be a good idea.\n",
    "Namespaces are one honking great idea -- let's do more of those!\n",
    "'''"
   ]
  },
  {
   "cell_type": "code",
   "execution_count": 4,
   "metadata": {},
   "outputs": [],
   "source": [
    "#用空字元取代標點符號\n",
    "for ch in zen:\n",
    "    if ch in \",.?'!*-\":\n",
    "        zen = zen.replace(ch,' ')\n",
    "\n",
    "zen_list = zen.split()\n",
    "\n",
    "# 串列生成式\n",
    "zen_dict = {word:zen_list.count(word) for word in zen_list}"
   ]
  },
  {
   "cell_type": "code",
   "execution_count": 6,
   "metadata": {},
   "outputs": [
    {
     "name": "stdout",
     "output_type": "stream",
     "text": [
      "('The', 1)\n",
      "('Zen', 1)\n",
      "('of', 3)\n",
      "('Python', 1)\n",
      "('by', 1)\n",
      "('Tim', 1)\n",
      "('Peters', 1)\n",
      "('Beautiful', 1)\n",
      "('is', 10)\n",
      "('better', 8)\n",
      "('than', 8)\n",
      "('ugly', 1)\n",
      "('Explicit', 1)\n",
      "('implicit', 1)\n",
      "('Simple', 1)\n",
      "('complex', 1)\n",
      "('Complex', 1)\n",
      "('complicated', 1)\n",
      "('Flat', 1)\n",
      "('nested', 1)\n",
      "('Sparse', 1)\n",
      "('dense', 1)\n",
      "('Readability', 1)\n",
      "('counts', 1)\n",
      "('Special', 1)\n",
      "('cases', 1)\n",
      "('aren', 1)\n",
      "('t', 1)\n",
      "('special', 1)\n",
      "('enough', 1)\n",
      "('to', 5)\n",
      "('break', 1)\n",
      "('the', 5)\n",
      "('rules', 1)\n",
      "('Although', 3)\n",
      "('practicality', 1)\n",
      "('beats', 1)\n",
      "('purity', 1)\n",
      "('Errors', 1)\n",
      "('should', 2)\n",
      "('never', 3)\n",
      "('pass', 1)\n",
      "('silently', 1)\n",
      "('Unless', 1)\n",
      "('explicitly', 1)\n",
      "('silenced', 1)\n",
      "('In', 1)\n",
      "('face', 1)\n",
      "('ambiguity', 1)\n",
      "('refuse', 1)\n",
      "('temptation', 1)\n",
      "('guess', 1)\n",
      "('There', 1)\n",
      "('be', 3)\n",
      "('one', 3)\n",
      "('and', 1)\n",
      "('preferably', 1)\n",
      "('only', 1)\n",
      "('obvious', 2)\n",
      "('way', 2)\n",
      "('do', 2)\n",
      "('it', 3)\n",
      "('that', 1)\n",
      "('may', 2)\n",
      "('not', 1)\n",
      "('at', 1)\n",
      "('first', 1)\n",
      "('unless', 1)\n",
      "('you', 1)\n",
      "('re', 1)\n",
      "('Dutch', 1)\n",
      "('Now', 1)\n",
      "('often', 1)\n",
      "('right', 1)\n",
      "('now', 1)\n",
      "('If', 2)\n",
      "('implementation', 2)\n",
      "('hard', 1)\n",
      "('explain', 2)\n",
      "('s', 2)\n",
      "('a', 2)\n",
      "('bad', 1)\n",
      "('idea', 3)\n",
      "('easy', 1)\n",
      "('good', 1)\n",
      "('Namespaces', 1)\n",
      "('are', 1)\n",
      "('honking', 1)\n",
      "('great', 1)\n",
      "('let', 1)\n",
      "('more', 1)\n",
      "('those', 1)\n"
     ]
    }
   ],
   "source": [
    "for wd in zen_dict.items():\n",
    "    print(wd)"
   ]
  },
  {
   "cell_type": "code",
   "execution_count": 8,
   "metadata": {},
   "outputs": [
    {
     "name": "stdout",
     "output_type": "stream",
     "text": [
      "is 10\n"
     ]
    }
   ],
   "source": [
    "most_appear = max(zen_dict.values())\n",
    "for wd, time in zen_dict.items():\n",
    "    if time == most_appear:\n",
    "        print(wd, time)"
   ]
  }
 ],
 "metadata": {
  "kernelspec": {
   "display_name": "Python 3",
   "language": "python",
   "name": "python3"
  },
  "language_info": {
   "codemirror_mode": {
    "name": "ipython",
    "version": 3
   },
   "file_extension": ".py",
   "mimetype": "text/x-python",
   "name": "python",
   "nbconvert_exporter": "python",
   "pygments_lexer": "ipython3",
   "version": "3.6.8"
  }
 },
 "nbformat": 4,
 "nbformat_minor": 4
}
